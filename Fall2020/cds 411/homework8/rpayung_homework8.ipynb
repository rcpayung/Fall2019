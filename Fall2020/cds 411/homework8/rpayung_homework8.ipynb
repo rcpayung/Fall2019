{
 "cells": [
  {
   "cell_type": "markdown",
   "metadata": {},
   "source": [
    "# Motion HW"
   ]
  },
  {
   "cell_type": "markdown",
   "metadata": {},
   "source": [
    "#### Riley Payung\n",
    "#### Jason Kinser\n",
    "#### CDS 411\n",
    "#### November 4, 2020"
   ]
  },
  {
   "cell_type": "markdown",
   "metadata": {},
   "source": [
    "## Problem 1\n",
    "An object moves with a speed of $v=5$ m/s for a distance of $x=25$ m.  How much time was required to make this journey?"
   ]
  },
  {
   "cell_type": "code",
   "execution_count": 1,
   "metadata": {},
   "outputs": [],
   "source": [
    "import numpy as np\n",
    "import matplotlib.pyplot as plt"
   ]
  },
  {
   "cell_type": "code",
   "execution_count": 2,
   "metadata": {},
   "outputs": [
    {
     "name": "stdout",
     "output_type": "stream",
     "text": [
      "Time Required: 5.0 seconds\n"
     ]
    }
   ],
   "source": [
    "# your code and numerical answer\n",
    "x0 = 0;\n",
    "x1 = 25;\n",
    "v = 5;\n",
    "t = (x1-x0)/v\n",
    "print(\"Time Required:\",t,\"seconds\")"
   ]
  },
  {
   "cell_type": "markdown",
   "metadata": {},
   "source": [
    "## Problem 2\n",
    "A car (or whatever that is) moves with a speed of $v_1 = 20.5$ m/s for $t_1=112$ s and then (suddenly) changes speed to $v_2=17.6$ m/s.  It travels for $t_2 = 423$ s at this new speed.  How far did the car travel for the entire journey?\n",
    "\n",
    "<img src = 'car.png' width=300>"
   ]
  },
  {
   "cell_type": "code",
   "execution_count": 3,
   "metadata": {},
   "outputs": [
    {
     "name": "stdout",
     "output_type": "stream",
     "text": [
      "Distance: 9.7408 km\n"
     ]
    }
   ],
   "source": [
    "# your code and numerical answer\n",
    "v1 = 20.5;\n",
    "v2 = 17.6;\n",
    "t1 = 112;\n",
    "t2 = 423;\n",
    "x = 0;\n",
    "\n",
    "x += t1*v1;\n",
    "x += t2*v2;\n",
    "print(\"Distance:\",x/1000,\"km\")"
   ]
  },
  {
   "cell_type": "markdown",
   "metadata": {},
   "source": [
    "## Problem 3\n",
    "A car starts with an initial velocity of $v_1 = 20$ m/s.  For 20 seconds it accelerates at a rate of $a=3$ m/s2.  How far did it travel, and what was the final velocity?"
   ]
  },
  {
   "cell_type": "code",
   "execution_count": 4,
   "metadata": {},
   "outputs": [
    {
     "name": "stdout",
     "output_type": "stream",
     "text": [
      "Total Distance: 970 meters\n",
      "velocity: 80 m/s\n"
     ]
    }
   ],
   "source": [
    "# your code and numerical answers\n",
    "v1 = 20;\n",
    "t = 20;\n",
    "v = v1;\n",
    "a = 3;\n",
    "x = 0;\n",
    "\n",
    "for i in range(t):\n",
    "    x += v;\n",
    "    v += a;\n",
    "print(\"Total Distance:\",x,\"meters\")\n",
    "print(\"velocity:\",v,\"m/s\")"
   ]
  },
  {
   "cell_type": "markdown",
   "metadata": {},
   "source": [
    "## Problem 4\n",
    "An object obeys simple projectile motion.  It is launched with a velocity of $v=20.5$ m/s at an angle of $\\theta =26.7^\\circ$.  What is the peak height?  What is the horizontal distance traveled?\n",
    "\n",
    "<img src = 'projectile.png' >"
   ]
  },
  {
   "cell_type": "code",
   "execution_count": 5,
   "metadata": {},
   "outputs": [
    {
     "name": "stdout",
     "output_type": "stream",
     "text": [
      "Time: 4 seconds.\n",
      "Distance 109.88468076432402 meters\n",
      "Peak: 4.311039472625879  meters high.\n"
     ]
    }
   ],
   "source": [
    "# your code and numerical answers\n",
    "y0 = 0.000000001;\n",
    "\n",
    "the = 26.7;\n",
    "the = np.radians(the);\n",
    "\n",
    "v = 20.5;\n",
    "vx = v*np.cos(the);\n",
    "vy = v*np.sin(the);\n",
    "g = -9.8\n",
    "x = 0;\n",
    "y = y0;\n",
    "\n",
    "t = 0;\n",
    "heights = [];\n",
    "\n",
    "while (y > 0):\n",
    "    x += vx*t;\n",
    "    y += vy*t + 0.5*g*t**2;\n",
    "    heights.append(y);\n",
    "    t += 1;\n",
    "print(\"Time:\",t,\"seconds.\")\n",
    "print(\"Distance\",x,\"meters\")\n",
    "print(\"Peak:\",max(heights),\" meters high.\")"
   ]
  },
  {
   "cell_type": "markdown",
   "metadata": {},
   "source": [
    "## Problem 5\n",
    "The object is launched from a height $y_0=2$ m, with a velocity of $v=20.5$ m/s at an angle of $\\theta =26.7^\\circ$.  What is the peak height?  What is the horizontal distance traveled?\n",
    "\n",
    "<img src = 'shortproject.png' width=300>"
   ]
  },
  {
   "cell_type": "code",
   "execution_count": 6,
   "metadata": {},
   "outputs": [
    {
     "name": "stdout",
     "output_type": "stream",
     "text": [
      "Time: 4 seconds.\n",
      "Distance: 109.88468076432402 meters.\n",
      "Peak: 6.311039471625879 meters high.\n"
     ]
    }
   ],
   "source": [
    "# your code and numerical answers\n",
    "y0 = 2;\n",
    "\n",
    "the = 26.7;\n",
    "the = np.radians(the);\n",
    "\n",
    "v = 20.5;\n",
    "vx = v*np.cos(the);\n",
    "vy = v*np.sin(the);\n",
    "g = -9.8\n",
    "x = 0;\n",
    "y = y0;\n",
    "\n",
    "t = 0;\n",
    "heights = [];\n",
    "\n",
    "while (y > 0):\n",
    "    x += vx*t;\n",
    "    y += vy*t + 0.5*g*t**2;\n",
    "    heights.append(y);\n",
    "    t += 1;\n",
    "print(\"Time:\",t,\"seconds.\")\n",
    "print(\"Distance:\",x,\"meters.\")\n",
    "print(\"Peak:\",max(heights),\"meters high.\")"
   ]
  },
  {
   "cell_type": "markdown",
   "metadata": {},
   "source": [
    "## Problem 6\n",
    "A rocket is launched at velocity of $v=100$ m/s at an angle of $\\theta = 65^\\circ$.  At the same time, an unsuspecting car travels without acceleration.  What will the speed of the car need to be in order to get hit by the rocket?\n",
    "\n",
    "<img src='carrocket.png'>"
   ]
  },
  {
   "cell_type": "code",
   "execution_count": 67,
   "metadata": {},
   "outputs": [
    {
     "name": "stdout",
     "output_type": "stream",
     "text": [
      "The car would need to be traveling at 42.261826174069945 m/s\n"
     ]
    }
   ],
   "source": [
    "# your code and numerical answer\n",
    "v = 100;\n",
    "g = -9.8;\n",
    "the = 65;\n",
    "the = np.radians(65);\n",
    "\n",
    "vy = v*np.sin(the);\n",
    "vx = v*np.cos(the);\n",
    "t = 0;\n",
    "x = 0;\n",
    "y = 0;\n",
    "\n",
    "while (y > -0.0000001):\n",
    "    y += vy*t + 0.5*g*t**2;\n",
    "    x += vx;\n",
    "    t += 1;\n",
    "carV = x/t\n",
    "print(\"The car would need to be traveling at\",carV,\"m/s\")"
   ]
  },
  {
   "cell_type": "markdown",
   "metadata": {},
   "source": [
    "## Problem 7\n",
    "An object (mass $m=2$ kg) is at a height of $h=43$ m above the Earth's surface.  (There is gravity.)  It is thrown downard at a velocity of $v=2$ m/s.  What are the kinetic, potential and total energies for three locations:\n",
    "1. When it is first thrown.\n",
    "1. When it is halfway to the Earth.\n",
    "1. Just before it hits the ground."
   ]
  },
  {
   "cell_type": "code",
   "execution_count": 99,
   "metadata": {},
   "outputs": [
    {
     "name": "stdout",
     "output_type": "stream",
     "text": [
      "[4.0, 842.8000000000001, 846.8000000000001]\n",
      "[425.4987811238162, 421.4016793320905, 846.9004604559067]\n",
      "[846.6883535649137, -0.0, 846.6883535649137]\n"
     ]
    }
   ],
   "source": [
    "# your code and numerical answers\n",
    "h = 43;\n",
    "g = -9.8;\n",
    "v = 2;\n",
    "m = 2;\n",
    "\n",
    "kpeS = [(0.5*m*v**2),np.abs(m*g*h)];\n",
    "kpeS.append(kpeS[0]+kpeS[1]);\n",
    "kpehalf = [0,0,0];\n",
    "kpe0 = [0,0,0];\n",
    "\n",
    "t = 0\n",
    "while (h > 0):\n",
    "    h += v*t;\n",
    "    v += g*t\n",
    "    if (h < (43/2+.005) and h > (43/2-.005)):\n",
    "        kpehalf[0] = 0.5*m*v**2;\n",
    "        kpehalf[1] = m*abs(g)*h;\n",
    "        kpehalf[2] = kpehalf[0]+kpehalf[1];\n",
    "    if (h < 0.02 and h > 0.001):\n",
    "        kpe0[0] = 0.5*m*v**2;\n",
    "        kpe0[1] = m*g*0;\n",
    "        kpe0[2] = kpe0[0] + kpe0[1];\n",
    "    t += 0.0000001;\n",
    "\n",
    "    \n",
    "print(kpeS)\n",
    "print(kpehalf)\n",
    "print(kpe0)"
   ]
  },
  {
   "cell_type": "markdown",
   "metadata": {},
   "source": [
    "## Problem 8\n",
    "Actually, in upper-level physics courses, they use the energy to calculate the attributes such as speed and position.  Consider again the previous problem with slightly different values.  The object (mass is 2.5) is at a height of $y_1=51$ and is thrown downward at a speed of 3 m/s. Do the following:\n",
    "1. Calculate the K and U values at the top. (print K1 and U1)\n",
    "1. Calculate the U at mid-height. (print U2)\n",
    "1. Total energy is conserved.  Calculate the K at the mid-height. \n",
    "1. Using this value of K, calculate the velocity at mid-height. (print v2)\n",
    "1. Using the known values, calculate the time of flight to mid-height. (print t)"
   ]
  },
  {
   "cell_type": "code",
   "execution_count": 125,
   "metadata": {},
   "outputs": [
    {
     "name": "stdout",
     "output_type": "stream",
     "text": [
      "11.25 1249.5 624.75 0.0\n",
      "636.0\n",
      "1260.75\n",
      "22.556595487794695\n",
      "Time to reach half:  1.3039079330507497 seconds.\n"
     ]
    }
   ],
   "source": [
    "# your code and numerical answers\n",
    "y1 = 51;\n",
    "v = 3;\n",
    "m = 2.5;\n",
    "g = -9.8;\n",
    "K1, U1 = 0.5*m*v**2,m*abs(g)*y1;\n",
    "U2 = m*abs(g)*(y1/2);\n",
    "U3 = m*abs(g)*0;\n",
    "print(K1,U1,U2,U3)\n",
    "\n",
    "K2 = (U1 + K1) - U2\n",
    "print(K2)\n",
    "K3 = (U2 + K2) - U3\n",
    "print(K3)\n",
    "v2 = np.sqrt(K2/(0.5*m))\n",
    "print(v2)\n",
    "t = (y1-y1/2)/(v2-v)\n",
    "print(\"Time to reach half: \",t,\"seconds.\")"
   ]
  },
  {
   "cell_type": "markdown",
   "metadata": {},
   "source": [
    "## Problem 9\n",
    "The ball (mass = 0.6) is launched as a projectile with a velocity of 14.5 m/s at an angle of $25^\\circ$.  It is in flight for $t=0.7$ s.  Then it hits the wall. To make this problem simple, the bounce causes a 10% loss of the magnitude of the horizontal velocity, but the vertical velocity is unchanged.  Calculate the following\n",
    "1. Height of the bounce\n",
    "1. Distance from the launch to the wall \n",
    "1. Vertical velocity at the bounce\n",
    "1. Horizontal velocity after the bounce\n",
    "1. The location $d$\n",
    "\n",
    "<img src='bouncewall.png' width=200>"
   ]
  },
  {
   "cell_type": "code",
   "execution_count": 215,
   "metadata": {},
   "outputs": [],
   "source": [
    "# your code and numerical answers\n",
    "m = 0.6;\n",
    "g = -9.8;\n",
    "the = 25;\n",
    "the = np.radians(the);\n",
    "v = 14.5;\n",
    "vy = v*np.sin(the);\n",
    "vx = v*np.cos(the);\n",
    "vx2 = -vx*0.9;\n",
    "t = 0.0;\n",
    "x = 0;\n",
    "x_wall = 0;\n",
    "h = 0;\n",
    "vv = 0;\n",
    "y = 0.000001;\n",
    "while (y > 0):\n",
    "    y = y + vy*t+0.5*g*t**2;\n",
    "    vy += g*0.1\n",
    "    if (t < 0.7):\n",
    "        h += y;\n",
    "        x += vx*(t/10);\n",
    "        x_wall += x;\n",
    "        vv = y;\n",
    "    else:\n",
    "        x += vx2*(t/10)\n",
    "    t += 0.1"
   ]
  },
  {
   "cell_type": "code",
   "execution_count": 220,
   "metadata": {},
   "outputs": [
    {
     "name": "stdout",
     "output_type": "stream",
     "text": [
      "Height of the Bounce: 5.504609853344788 meters.\n",
      "Vertical Velocity at the bounce: -0.5082729299957045 m/s\n",
      "Horizontal Velocity after bounce: -11.827316620828281 m/s\n",
      "Position: x:2.759707 y:-0.508273\n",
      "Distance From Launch to the Wall: 7.359219230737597 meters.\n"
     ]
    }
   ],
   "source": [
    "print(\"Height of the Bounce:\",h,\"meters.\")\n",
    "print(\"Vertical Velocity at the bounce:\",vv,\"m/s\");\n",
    "print(\"Horizontal Velocity after bounce:\",vx2,\"m/s\")\n",
    "print(\"Position: x:%f y:%f\" % (x,y))\n",
    "print(\"Distance From Launch to the Wall:\",x_wall,\"meters.\")"
   ]
  }
 ],
 "metadata": {
  "kernelspec": {
   "display_name": "Python 3",
   "language": "python",
   "name": "python3"
  },
  "language_info": {
   "codemirror_mode": {
    "name": "ipython",
    "version": 3
   },
   "file_extension": ".py",
   "mimetype": "text/x-python",
   "name": "python",
   "nbconvert_exporter": "python",
   "pygments_lexer": "ipython3",
   "version": "3.7.3"
  }
 },
 "nbformat": 4,
 "nbformat_minor": 4
}
