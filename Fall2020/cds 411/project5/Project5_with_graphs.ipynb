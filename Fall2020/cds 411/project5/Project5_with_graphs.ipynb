{
 "cells": [
  {
   "cell_type": "markdown",
   "metadata": {},
   "source": [
    "# CDS 411 - Project 5 Sudoku"
   ]
  },
  {
   "cell_type": "markdown",
   "metadata": {},
   "source": [
    "## Team Memebers:\n",
    "- Elvin Carranza\n",
    "- Riley Payung\n",
    "- Jenny Smiley"
   ]
  },
  {
   "cell_type": "code",
   "execution_count": 20,
   "metadata": {},
   "outputs": [],
   "source": [
    "import sudoku\n",
    "import numpy as np\n",
    "import matplotlib.pyplot as plt\n",
    "import random"
   ]
  },
  {
   "cell_type": "markdown",
   "metadata": {},
   "source": [
    "### Project 5 Description:\n",
    "\n",
    "- trivial puzzle named P0 and final puzzle is named pf\n",
    "- we have steps that we can take to change the puzzle (swap,rotate,ect.) we will call these Si, i is just the iteration\n",
    "    - P0 -> S1 -> P1 -> S2 -> S3 -> Pf"
   ]
  },
  {
   "cell_type": "markdown",
   "metadata": {},
   "source": [
    "### General Theory/Approach"
   ]
  },
  {
   "cell_type": "markdown",
   "metadata": {},
   "source": [
    "In order to work backwards from the final puzzel to the trival,\n",
    "a measure of similairty must be used.\n",
    "\n",
    "There are 77 total operations that must be checked for smiliarty. More specfically there are 36 different cell swaps, 36 row swaps, 3 different rotations, and 2 different flips.\n",
    "\n",
    "So as an approach i'll create 4 different functions for the different opeations. These functions will return the puzzle that produced the most similar to trivial. Then those four will be will be compared to see which has the most similar puzzle, and then it continues untill the smiliarity is complete."
   ]
  },
  {
   "cell_type": "markdown",
   "metadata": {},
   "source": [
    "### Functions"
   ]
  },
  {
   "cell_type": "code",
   "execution_count": 3,
   "metadata": {},
   "outputs": [],
   "source": [
    "#For similarity i'm going to measure how similar the cells are for rows\n",
    "def similarity(puzzle,trivial):\n",
    "    sim1 = 0\n",
    "    #check if the cells are alike:\n",
    "    for row1 in range(9):\n",
    "        for col1 in range(9):\n",
    "            if puzzle[row1][col1] != trivial[row1][col1]:\n",
    "                #its a mismatch\n",
    "                sim1 = sim1 + 1\n",
    "            \n",
    "    return sim1"
   ]
  },
  {
   "cell_type": "code",
   "execution_count": 4,
   "metadata": {},
   "outputs": [],
   "source": [
    "def cell_swaps(puzzle,trivial,values):              \n",
    "    p_values = [] #matrices\n",
    "    sim_values = [] #similarity scores (81 means very low similarity, 0 means very high similarity)\n",
    "    \n",
    "    shuffled_values = random.sample(values, len(values)) \n",
    "    \n",
    "    for val in shuffled_values:\n",
    "        p_values.append(sudoku.SwapCells(puzzle,val[0],val[1]))\n",
    "\n",
    "    for ps in p_values:\n",
    "        sim_values.append(similarity(ps,trivial))\n",
    "         \n",
    "    p = p_values[sim_values.index(min(sim_values))]\n",
    "    \n",
    "    return p, min(sim_values), shuffled_values[sim_values.index(min(sim_values))]"
   ]
  },
  {
   "cell_type": "code",
   "execution_count": 5,
   "metadata": {},
   "outputs": [],
   "source": [
    "#function for row swaps\n",
    "def row_swaps(puzzle,trivial,values): \n",
    "    p_values = []\n",
    "    sim_values = []\n",
    "    for val in values:\n",
    "        puz = puzzle + 0\n",
    "        puz[[val[0],val[1]]] = puz[[val[1],val[0]]] \n",
    "        p_values.append(puz)\n",
    "        \n",
    "    for ps in p_values:\n",
    "        sim_values.append(similarity(ps,trivial))\n",
    "        \n",
    "    p = p_values[sim_values.index(min(sim_values))]\n",
    "    return p, min(sim_values),values[sim_values.index(min(sim_values))]"
   ]
  },
  {
   "cell_type": "code",
   "execution_count": 6,
   "metadata": {},
   "outputs": [],
   "source": [
    "#function for column swaps\n",
    "def column_swaps(puzzle,trivial,values):\n",
    "    p_values = []\n",
    "    sim_values = []\n",
    "     \n",
    "    for val in values:\n",
    "        puz = puzzle + 0\n",
    "        puz[:,[val[0],val[1]]] = puz[:,[val[1],val[0]]] \n",
    "        p_values.append(puz)\n",
    "        \n",
    "    for ps in p_values:\n",
    "        sim_values.append(similarity(ps,trivial))\n",
    "        \n",
    "    p = p_values[sim_values.index(min(sim_values))]\n",
    "    return p, min(sim_values) ,values[sim_values.index(min(sim_values))] "
   ]
  },
  {
   "cell_type": "code",
   "execution_count": 7,
   "metadata": {},
   "outputs": [],
   "source": [
    "#function for different rotations\n",
    "def rotations(puzzle,trivial):\n",
    "  \n",
    "    rotation1 = np.rot90(puzzle,1)\n",
    "    sim1 = similarity(rotation1,trivial)\n",
    "    \n",
    "    rotation2 = np.rot90(puzzle,2)\n",
    "    sim2 = similarity(rotation2,trivial)\n",
    "\n",
    "    rotation3 = np.rot90(puzzle,3)\n",
    "    sim3 = similarity(rotation3,trivial)\n",
    "\n",
    "    if (sim1 < sim2) and (sim1 < sim3):\n",
    "        return rotation1, sim1, 1\n",
    "    elif (sim2 < sim1) and (sim2 < sim3):\n",
    "        return rotation2, sim2, 2\n",
    "    else:\n",
    "        return rotation3, sim3, 3"
   ]
  },
  {
   "cell_type": "code",
   "execution_count": 8,
   "metadata": {},
   "outputs": [],
   "source": [
    "def flips(puzzle,trivial):\n",
    "    flip1 = np.fliplr(puzzle)\n",
    "    flip2 = np.flipud(puzzle)\n",
    "    simf1 = similarity(flip1,trivial)\n",
    "    simf2 = similarity(flip2,trivial)\n",
    "    \n",
    "    if simf1 < simf2:\n",
    "        return flip1, simf1,1\n",
    "    else:\n",
    "        return flip2, simf1,2"
   ]
  },
  {
   "cell_type": "markdown",
   "metadata": {},
   "source": [
    "### Game"
   ]
  },
  {
   "cell_type": "code",
   "execution_count": 9,
   "metadata": {},
   "outputs": [],
   "source": [
    "def game(rounds):\n",
    "    \n",
    "    steps = []\n",
    "    for i in range(rounds):\n",
    "        #puzzle that needs to be solved\n",
    "        puzzle = np.array(((9,5,3,4,7,1,6,8,2),\n",
    "                           (2,6,8,9,5,3,4,7,1),\n",
    "                           (1,4,7,2,6,8,9,5,3),\n",
    "                           (4,7,1,6,8,2,5,3,9),\n",
    "                           (6,8,2,5,3,9,7,1,4),\n",
    "                           (5,3,9,7,1,4,8,2,6),\n",
    "                           (7,1,4,8,2,6,3,9,5),\n",
    "                           (8,2,6,3,9,5,1,4,7),\n",
    "                           (3,9,5,1,4,7,2,6,8)))\n",
    "   \n",
    "        #trivial\n",
    "        trivial = sudoku.TrivialSolution()\n",
    "        \n",
    "        #36 different cell swap operations\n",
    "        cell_values = [(1,2),(1,3),(1,4),(1,5),(1,6),(1,7),(1,8),(1,9),\n",
    "                       (2,3),(2,4),(2,5),(2,6),(2,7),(2,8),(2,9),(3,4),\n",
    "                       (3,5),(3,6),(3,7),(3,8),(3,9),(4,5),(4,6),(4,7),\n",
    "                       (4,8),(4,9),(5,6),(5,7),(5,8),(5,9),(6,7),(6,8),\n",
    "                       (6,9),(7,8),(7,9),(8,9)]\n",
    "    \n",
    "        #36 different row swap operations\n",
    "        row_values = [(0,1),(0,2),(0,3),(0,4),(0,5),(0,6),(0,7),(0,8),\n",
    "                      (1,2),(1,3),(1,4),(1,5),(1,6),(1,7),(1,8),(2,3),\n",
    "                      (2,4),(2,5),(2,6),(2,7),(2,8),(3,4),(3,5),(3,6),\n",
    "                      (3,7),(3,8),(4,5),(4,6),(4,7),(4,8),(5,6),(5,7),\n",
    "                      (5,8),(6,7),(6,8),(7,8)]\n",
    "    \n",
    "        #36 different col swap operations\n",
    "        col_values = [(0,1),(0,2),(0,3),(0,4),(0,5),(0,6),(0,7),(0,8),\n",
    "             (1,2),(1,3),(1,4),(1,5),(1,6),(1,7),(1,8),(2,3),\n",
    "             (2,4),(2,5),(2,6),(2,7),(2,8),(3,4),(3,5),(3,6),\n",
    "             (3,7),(3,8),(4,5),(4,6),(4,7),(4,8),(5,6),(5,7),\n",
    "             (5,8),(6,7),(6,8),(7,8)]\n",
    "\n",
    "        i = 0\n",
    "        p_steps = []\n",
    "        p_index = []\n",
    "        while True:\n",
    "    \n",
    "            scores = []\n",
    "            p_mat = []\n",
    "            ind = []\n",
    "    \n",
    "            #this is for cell swaps\n",
    "            pcell, pcell_score, indexcell = cell_swaps(puzzle,trivial,cell_values)\n",
    "            scores.append(pcell_score)\n",
    "            p_mat.append(pcell)\n",
    "            ind.append(indexcell)\n",
    "    \n",
    "            #this is for row swaps\n",
    "            prow, prow_score, indexrow = row_swaps(puzzle,trivial,row_values)\n",
    "            scores.append(prow_score)\n",
    "            p_mat.append(prow)\n",
    "            ind.append(indexrow)\n",
    "    \n",
    "            pcol, pcol_score,indexcol = column_swaps(puzzle,trivial,col_values)\n",
    "            scores.append(pcol_score)\n",
    "            p_mat.append(pcol)\n",
    "            ind.append(indexcol)\n",
    "    \n",
    "            prot, prot_score,indexrot = rotations(puzzle,trivial)\n",
    "            scores.append(prot_score)\n",
    "            p_mat.append(prot)\n",
    "            ind.append(indexrot)\n",
    "    \n",
    "            pflip, pflip_score,indexflip = flips(puzzle,trivial)\n",
    "            scores.append(pflip_score)\n",
    "            p_mat.append(pflip)\n",
    "            ind.append(indexflip)\n",
    "            \n",
    "            puzzle = p_mat[scores.index(min(scores))]\n",
    "            p_steps.append(p_mat[scores.index(min(scores))])\n",
    "            p_index.append(ind[scores.index(min(scores))])\n",
    "            \n",
    "            #check to see if stuck in a local minimum\n",
    "            if i > 1:\n",
    "                num = similarity(p_steps[i-2],p_steps[i])\n",
    "                if num == 0:\n",
    "                    puzzle = p_mat[scores.index(max(scores))]\n",
    "                    puzzle = p_mat[scores.index(max(scores))]\n",
    "                    \n",
    "            if similarity(p_steps[-1],trivial) == 0:\n",
    "                break\n",
    "            \n",
    "            i = i + 1\n",
    "    \n",
    "        steps.append(i)\n",
    "    \n",
    "    return steps"
   ]
  },
  {
   "cell_type": "code",
   "execution_count": 10,
   "metadata": {},
   "outputs": [],
   "source": [
    "k_steps = game(10)"
   ]
  },
  {
   "cell_type": "code",
   "execution_count": 11,
   "metadata": {},
   "outputs": [
    {
     "data": {
      "text/plain": [
       "[10, 59, 27, 10, 48, 10, 10, 20, 34, 62]"
      ]
     },
     "execution_count": 11,
     "metadata": {},
     "output_type": "execute_result"
    }
   ],
   "source": [
    "#How many steps it took to revert back to the trivial for each game\n",
    "k_steps"
   ]
  },
  {
   "cell_type": "markdown",
   "metadata": {},
   "source": [
    "### Original code (before putting it into a function)"
   ]
  },
  {
   "cell_type": "code",
   "execution_count": 12,
   "metadata": {},
   "outputs": [],
   "source": [
    "trivial = sudoku.TrivialSolution()"
   ]
  },
  {
   "cell_type": "code",
   "execution_count": 13,
   "metadata": {},
   "outputs": [
    {
     "name": "stdout",
     "output_type": "stream",
     "text": [
      "Lowest score value is:  65 Count: 0\n",
      "pcell: 65\n",
      "prow: 68\n",
      "pcol: 68\n",
      "prot: 69\n",
      "pflip: 70\n",
      "Lowest score value is:  58 Count: 1\n",
      "pcell: 58\n",
      "prow: 62\n",
      "pcol: 62\n",
      "prot: 68\n",
      "pflip: 71\n",
      "Lowest score value is:  47 Count: 2\n",
      "pcell: 47\n",
      "prow: 53\n",
      "pcol: 56\n",
      "prot: 71\n",
      "pflip: 74\n",
      "Lowest score value is:  42 Count: 3\n",
      "pcell: 42\n",
      "prow: 46\n",
      "pcol: 48\n",
      "prot: 74\n",
      "pflip: 73\n",
      "Lowest score value is:  38 Count: 4\n",
      "pcell: 38\n",
      "prow: 40\n",
      "pcol: 46\n",
      "prot: 71\n",
      "pflip: 73\n",
      "Lowest score value is:  32 Count: 5\n",
      "pcell: 40\n",
      "prow: 32\n",
      "pcol: 40\n",
      "prot: 71\n",
      "pflip: 71\n",
      "Lowest score value is:  38 Count: 6\n",
      "pcell: 38\n",
      "prow: 38\n",
      "pcol: 38\n",
      "prot: 70\n",
      "pflip: 70\n",
      "Lowest score value is:  32 Count: 7\n",
      "pcell: 32\n",
      "prow: 40\n",
      "pcol: 40\n",
      "prot: 64\n",
      "pflip: 70\n",
      "stuck in a local minimum\n",
      "repeating operation: (4, 5)\n",
      "picking values: 70\n",
      "Lowest score value is:  36 Count: 8\n",
      "pcell: 69\n",
      "prow: 60\n",
      "pcol: 66\n",
      "prot: 36\n",
      "pflip: 64\n",
      "Lowest score value is:  18 Count: 9\n",
      "pcell: 18\n",
      "prow: 42\n",
      "pcol: 42\n",
      "prot: 70\n",
      "pflip: 72\n",
      "Lowest score value is:  0 Count: 10\n",
      "pcell: 0\n",
      "prow: 30\n",
      "pcol: 30\n",
      "prot: 69\n",
      "pflip: 72\n",
      "done\n"
     ]
    }
   ],
   "source": [
    "#with removing cells doesn't work\n",
    "puzzle = np.array(((9,5,3,4,7,1,6,8,2),\n",
    "                 (2,6,8,9,5,3,4,7,1),\n",
    "                 (1,4,7,2,6,8,9,5,3),\n",
    "                 (4,7,1,6,8,2,5,3,9),\n",
    "                 (6,8,2,5,3,9,7,1,4),\n",
    "                 (5,3,9,7,1,4,8,2,6),\n",
    "                 (7,1,4,8,2,6,3,9,5),\n",
    "                 (8,2,6,3,9,5,1,4,7),\n",
    "                 (3,9,5,1,4,7,2,6,8)))\n",
    "\n",
    "cell_values = [(1,2),(1,3),(1,4),(1,5),(1,6),(1,7),(1,8),(1,9),\n",
    "              (2,3),(2,4),(2,5),(2,6),(2,7),(2,8),(2,9),(3,4),\n",
    "              (3,5),(3,6),(3,7),(3,8),(3,9),(4,5),(4,6),(4,7),\n",
    "              (4,8),(4,9),(5,6),(5,7),(5,8),(5,9),(6,7),(6,8),\n",
    "              (6,9),(7,8),(7,9),(8,9)]\n",
    "\n",
    "row_values = [(0,1),(0,2),(0,3),(0,4),(0,5),(0,6),(0,7),(0,8),\n",
    "         (1,2),(1,3),(1,4),(1,5),(1,6),(1,7),(1,8),(2,3),\n",
    "         (2,4),(2,5),(2,6),(2,7),(2,8),(3,4),(3,5),(3,6),\n",
    "         (3,7),(3,8),(4,5),(4,6),(4,7),(4,8),(5,6),(5,7),\n",
    "         (5,8),(6,7),(6,8),(7,8)]\n",
    "\n",
    "col_values = [(0,1),(0,2),(0,3),(0,4),(0,5),(0,6),(0,7),(0,8),\n",
    "         (1,2),(1,3),(1,4),(1,5),(1,6),(1,7),(1,8),(2,3),\n",
    "         (2,4),(2,5),(2,6),(2,7),(2,8),(3,4),(3,5),(3,6),\n",
    "         (3,7),(3,8),(4,5),(4,6),(4,7),(4,8),(5,6),(5,7),\n",
    "         (5,8),(6,7),(6,8),(7,8)]\n",
    "\n",
    "p_steps = []\n",
    "p_index = []\n",
    "\n",
    "\n",
    "for i in range(50):\n",
    "    \n",
    "    scores = []\n",
    "    p_mat = []\n",
    "    ind = []\n",
    "    \n",
    "    #this is for cell swaps\n",
    "    pcell, pcell_score, indexcell = cell_swaps(puzzle,trivial,cell_values)\n",
    "    scores.append(pcell_score)\n",
    "    p_mat.append(pcell)\n",
    "    ind.append(indexcell)\n",
    "    \n",
    "    #this is for row swaps\n",
    "    prow, prow_score, indexrow = row_swaps(puzzle,trivial,row_values)\n",
    "    scores.append(prow_score)\n",
    "    p_mat.append(prow)\n",
    "    ind.append(indexrow)\n",
    "    \n",
    "    pcol, pcol_score,indexcol = column_swaps(puzzle,trivial,col_values)\n",
    "    scores.append(pcol_score)\n",
    "    p_mat.append(pcol)\n",
    "    ind.append(indexcol)\n",
    "    \n",
    "    prot, prot_score,indexrot = rotations(puzzle,trivial)\n",
    "    scores.append(prot_score)\n",
    "    p_mat.append(prot)\n",
    "    ind.append(indexrot)\n",
    "    \n",
    "    pflip, pflip_score,indexflip = flips(puzzle,trivial)\n",
    "    scores.append(pflip_score)\n",
    "    p_mat.append(pflip)\n",
    "    ind.append(indexflip)\n",
    "    \n",
    "    print(\"Lowest score value is: \",min(scores),\"Count:\",i)\n",
    "    print(\"pcell:\",pcell_score)\n",
    "    print(\"prow:\",prow_score)\n",
    "    print(\"pcol:\",pcol_score)\n",
    "    print(\"prot:\",prot_score)\n",
    "    print(\"pflip:\",pflip_score)\n",
    "    \n",
    "    \n",
    "    \n",
    "    p_steps.append(p_mat[scores.index(min(scores))])\n",
    "    p_index.append(ind[scores.index(min(scores))])\n",
    "    puzzle = p_mat[scores.index(min(scores))]\n",
    "    \n",
    "    #check to see if stuck in a local minimum\n",
    "    if i > 1:\n",
    "        num = similarity(p_steps[i-2],p_steps[i])\n",
    "        if num == 0:\n",
    "            print(\"stuck in a local minimum\")\n",
    "            print(\"repeating operation:\",ind[scores.index(min(scores))])\n",
    "            puzzle = p_mat[scores.index(max(scores))]\n",
    "            print(\"picking values:\", max(scores))\n",
    "    \n",
    "    if similarity(p_steps[-1],trivial) == 0:\n",
    "        print(\"done\")\n",
    "        break"
   ]
  },
  {
   "cell_type": "code",
   "execution_count": 36,
   "metadata": {},
   "outputs": [],
   "source": [
    "k_steps_10 = game(10)"
   ]
  },
  {
   "cell_type": "code",
   "execution_count": 30,
   "metadata": {},
   "outputs": [
    {
     "data": {
      "text/plain": [
       "32.56"
      ]
     },
     "execution_count": 30,
     "metadata": {},
     "output_type": "execute_result"
    }
   ],
   "source": [
    "np.mean(k_steps)"
   ]
  },
  {
   "cell_type": "code",
   "execution_count": 49,
   "metadata": {},
   "outputs": [
    {
     "data": {
      "text/plain": [
       "42.2"
      ]
     },
     "execution_count": 49,
     "metadata": {},
     "output_type": "execute_result"
    }
   ],
   "source": [
    "np.mean(k_steps_10)"
   ]
  },
  {
   "cell_type": "code",
   "execution_count": 50,
   "metadata": {},
   "outputs": [],
   "source": [
    "k_steps_1000 = game(1000);"
   ]
  },
  {
   "cell_type": "code",
   "execution_count": 53,
   "metadata": {},
   "outputs": [
    {
     "name": "stdout",
     "output_type": "stream",
     "text": [
      "35.731\n"
     ]
    }
   ],
   "source": [
    "print(np.mean(k_steps_1000));"
   ]
  },
  {
   "cell_type": "code",
   "execution_count": 55,
   "metadata": {},
   "outputs": [
    {
     "data": {
      "image/png": "[encoded data removed]",
      "text/plain": [
       "<Figure size 432x288 with 1 Axes>"
      ]
     },
     "metadata": {
      "needs_background": "light"
     },
     "output_type": "display_data"
    }
   ],
   "source": [
    "plt.hist(k_steps, label='N=100',bins=15)\n",
    "plt.axvline(x=np.mean(k_steps),color='b',label='N=100 Avg')\n",
    "plt.hist(k_steps_10, label='N=10')\n",
    "plt.axvline(x=np.mean(k_steps_10),color='orange',label='N=10 Avg')\n",
    "plt.title(\"Occurrences of the number of steps taken to reach trivial solution\")\n",
    "plt.xlabel(\"Number of Steps\")\n",
    "plt.ylabel(\"Frequency of Number of Steps\")\n",
    "plt.legend()\n",
    "plt.show()"
   ]
  },
  {
   "cell_type": "code",
   "execution_count": 59,
   "metadata": {},
   "outputs": [
    {
     "data": {
      "image/png": "[encoded data removed]",
      "text/plain": [
       "<Figure size 432x288 with 1 Axes>"
      ]
     },
     "metadata": {
      "needs_background": "light"
     },
     "output_type": "display_data"
    }
   ],
   "source": [
    "\n",
    "plt.hist(k_steps_1000,label='N=1000',color='green');\n",
    "plt.axvline(x=np.mean(k_steps_1000),color='black',label='N=1000 Avg')\n",
    "plt.title(\"Occurrences of the number of steps taken to reach trivial solution\")\n",
    "plt.xlabel(\"Number of Steps\")\n",
    "plt.ylabel(\"Frequency of Number of Steps\")\n",
    "plt.legend()\n",
    "plt.show()"
   ]
  },
  {
   "cell_type": "code",
   "execution_count": 62,
   "metadata": {},
   "outputs": [],
   "source": [
    "steps = [np.mean(k_steps_10),np.mean(k_steps),np.mean(k_steps_1000)]"
   ]
  },
  {
   "cell_type": "code",
   "execution_count": 81,
   "metadata": {},
   "outputs": [
    {
     "data": {
      "text/plain": [
       "Text(0, 0.5, 'Observed Average')"
      ]
     },
     "execution_count": 81,
     "metadata": {},
     "output_type": "execute_result"
    },
    {
     "data": {
      "image/png": "[encoded data removed]",
      "text/plain": [
       "<Figure size 432x288 with 1 Axes>"
      ]
     },
     "metadata": {
      "needs_background": "light"
     },
     "output_type": "display_data"
    }
   ],
   "source": [
    "plt.plot(steps)\n",
    "plt.xticks((0,2,1))\n",
    "plt.title(\"Average vs. N\")\n",
    "plt.xlabel(\"Test Number (0:N=10, 1:N=100, 2:N=1000)\")\n",
    "plt.ylabel(\"Observed Average\")"
   ]
  },
  {
   "cell_type": "code",
   "execution_count": 82,
   "metadata": {},
   "outputs": [],
   "source": [
    "import time"
   ]
  },
  {
   "cell_type": "code",
   "execution_count": 101,
   "metadata": {},
   "outputs": [],
   "source": [
    "def totalTime(N=10):\n",
    "    start = time.time_ns();\n",
    "    k_steps = game(N);\n",
    "    end = time.time_ns();\n",
    "    delta = int(end - start);\n",
    "    return delta/1000000000;"
   ]
  },
  {
   "cell_type": "code",
   "execution_count": 113,
   "metadata": {},
   "outputs": [],
   "source": [
    "time_log = [];"
   ]
  },
  {
   "cell_type": "code",
   "execution_count": 114,
   "metadata": {},
   "outputs": [],
   "source": [
    "total_10 = totalTime()\n",
    "time_log.append(total_10)"
   ]
  },
  {
   "cell_type": "code",
   "execution_count": 115,
   "metadata": {},
   "outputs": [],
   "source": [
    "total_100 = totalTime(100)\n",
    "time_log.append(total_100)"
   ]
  },
  {
   "cell_type": "code",
   "execution_count": 116,
   "metadata": {},
   "outputs": [],
   "source": [
    "total_1000 = totalTime(1000)\n",
    "time_log.append(total_1000)"
   ]
  },
  {
   "cell_type": "code",
   "execution_count": 140,
   "metadata": {},
   "outputs": [
    {
     "data": {
      "image/png": "[encoded data removed]",
      "text/plain": [
       "<Figure size 432x288 with 1 Axes>"
      ]
     },
     "metadata": {
      "needs_background": "light"
     },
     "output_type": "display_data"
    }
   ],
   "source": [
    "plt.plot(time_log,marker='X')\n",
    "plt.title(\"Normal Scale of tests using different sample sizes\")\n",
    "plt.ylabel(\"Time (seconds)\")\n",
    "plt.xlabel(\"Test Number (0:N=10, 1:N=100, 2:N=1000)\")\n",
    "plt.xticks((0,2,1))\n",
    "plt.show()"
   ]
  },
  {
   "cell_type": "code",
   "execution_count": 143,
   "metadata": {},
   "outputs": [
    {
     "data": {
      "text/plain": [
       "[<matplotlib.lines.Line2D at 0x22cc03287f0>]"
      ]
     },
     "execution_count": 143,
     "metadata": {},
     "output_type": "execute_result"
    },
    {
     "data": {
      "image/png": "[encoded data removed]",
      "text/plain": [
       "<Figure size 432x288 with 1 Axes>"
      ]
     },
     "metadata": {
      "needs_background": "light"
     },
     "output_type": "display_data"
    }
   ],
   "source": [
    "plt.plot([total_10*1000,total_100*1000,total_1000*1000])"
   ]
  },
  {
   "cell_type": "code",
   "execution_count": null,
   "metadata": {},
   "outputs": [],
   "source": []
  }
 ],
 "metadata": {
  "kernelspec": {
   "display_name": "Python 3",
   "language": "python",
   "name": "python3"
  },
  "language_info": {
   "codemirror_mode": {
    "name": "ipython",
    "version": 3
   },
   "file_extension": ".py",
   "mimetype": "text/x-python",
   "name": "python",
   "nbconvert_exporter": "python",
   "pygments_lexer": "ipython3",
   "version": "3.7.3"
  }
 },
 "nbformat": 4,
 "nbformat_minor": 4
}
