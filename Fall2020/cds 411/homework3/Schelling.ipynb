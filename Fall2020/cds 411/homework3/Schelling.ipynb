{
 "cells": [
  {
   "cell_type": "markdown",
   "metadata": {},
   "source": [
    "# Schelling Homework\n",
    "Turn in this Jupyter file and a PDF of this Jupyter file."
   ]
  },
  {
   "cell_type": "code",
   "execution_count": 3,
   "metadata": {},
   "outputs": [],
   "source": [
    "import numpy as np\n",
    "import imageio\n",
    "import matplotlib.pyplot as plt\n",
    "%matplotlib inline\n",
    "\n",
    "import sys\n",
    "sys.path.append('D:/jkinser/CoursesKinser/CDS411/pysrc')\n",
    "import schelling"
   ]
  },
  {
   "cell_type": "markdown",
   "metadata": {},
   "source": [
    "## Problem\n",
    "In a 2D simulation, each cell has 8 neighbors (excluding those along the perimeter of the environment).  Consider a 3D environment which has 100 cells in the vertical dimension, 100 cells in the horizontal dimension, and 100 cells in the depth dimension.  How many neighbors does a cell have in 3D?  How many neighbors does a cell in 4D and 5D have?"
   ]
  },
  {
   "cell_type": "markdown",
   "metadata": {},
   "source": [
    "(Your answer goes here)\n",
    "\n",
    "A 3D cell has 26 neighbors\n",
    "\n",
    "A 4D cell has 80 neighbors\n",
    "\n",
    "A 5D cell has 242 neighbors\n",
    "\n",
    "(the equation is 3^D - 1)\n",
    "\n",
    "With the fact that the direction can only be 3 possible values, i.e (-1, 0, 1) from the cell, and the dimension is the number of values that we need in order to find a neighbor, for example, 5: (-1,-1-1,-1,-1), the equation ends up being 3 to the power of D, and since one can not neighbor him/herself, we subtract 1 to account for in this case (0,0,0,0,0). NOTE: This is true for any point except for edges. Now, if we wanted to find the total neighbors, we multiply by the number of elements in the matricies. (A 5-dimensional matrix would have a very large amount of neighbors)."
   ]
  },
  {
   "cell_type": "markdown",
   "metadata": {},
   "source": [
    "## Problem \n",
    "Consider a simulate with has 1% empty cells in a $100 \\times 100$ environment.  In the book, the simulations had two entities (cats and dogs) which had equal populations.  In this problem, create a simulation in which one entity is 90% of the population and the other is only 10% of the population.  Run the simulation for 150,000 iterations and show final grid as an image.\n"
   ]
  },
  {
   "cell_type": "code",
   "execution_count": 1,
   "metadata": {},
   "outputs": [],
   "source": [
    "# your code goes here.  Show the final grid as an image\n",
    "\n"
   ]
  },
  {
   "cell_type": "markdown",
   "metadata": {},
   "source": [
    "## Problem\n",
    "The time.time() function will return the computer clock time as seconds. One way of determining the run time of a program is to use t1=time.time(); Your Code; t2=time.time(); print(t2-t1)\n",
    "\n",
    "How much times does it take to run 10,000 iterations for 50x50 grid, a 100x100 grid, and a 200x200 grid?"
   ]
  },
  {
   "cell_type": "code",
   "execution_count": 2,
   "metadata": {},
   "outputs": [],
   "source": [
    "import time\n",
    "# your code goes here.  Print the numerical answers for each grid."
   ]
  },
  {
   "cell_type": "markdown",
   "metadata": {},
   "source": [
    "## Problem \n",
    "Use a simulation with $100 \\times 100$ grid with 1% empty spaces.  Count the number of dogs completely surrounded by other dogs after 0, 50, 100, 200, 400, 800, 1600 iterations.  Create a scatter plot that plots the number of competely surrounded dogs versus the number of iterations."
   ]
  },
  {
   "cell_type": "code",
   "execution_count": 3,
   "metadata": {},
   "outputs": [],
   "source": [
    "# your code goes here\n"
   ]
  },
  {
   "cell_type": "markdown",
   "metadata": {},
   "source": [
    "## Problem\n",
    "In the original program, we identified the unhappy animals and chose one at random to move to a new location.  In this problem, the approach is slightly altered.  Instead of picking one random unhappy animal, pick two.  Of these two, choose the animal whose position is to the left of the other.  Move this animal to an empty cell.  Use a $100 \\times 100$ grid with 1% empty cells.  Run for 25,000 iterations.  Show the final grid as an image."
   ]
  },
  {
   "cell_type": "code",
   "execution_count": 5,
   "metadata": {},
   "outputs": [],
   "source": [
    "# your code goes here.  Show the final grid as an image"
   ]
  },
  {
   "cell_type": "markdown",
   "metadata": {},
   "source": [
    "## Problem\n",
    "Build a Schelling model on a toroid surface.  This is easier than it sounds.  We need to have the ability to wrap-around, so that a cell on the leftmost column sees cells along the rightmost column as its neighbor, and vice versa.  The same idea applies to the top and bottom rows.  Fortunately, _numpy_ has a function that can help named __numpy.roll__.\n",
    "\n",
    "For this simulation use a $100 \\times 100$ grid with 1% empty cells.  Run for 50,000 iterations, and how the final grid as an image."
   ]
  },
  {
   "cell_type": "code",
   "execution_count": 6,
   "metadata": {},
   "outputs": [],
   "source": [
    "# your code goes here.  Show the final grid as an image"
   ]
  },
  {
   "cell_type": "markdown",
   "metadata": {},
   "source": [
    "## Problem\n",
    "Create two Schelling grids.  To move a cell, choose an unhappy animal from one grid and move him to an empty cell in the other grid.  For each iteration, randomly choose which grid will be used to find the unhappy animal.  Both grids are $100 \\times 100$ and have 0.5% empty cells (read that number carefully).  Run this for 50,000 iterations and show both grids as images."
   ]
  },
  {
   "cell_type": "code",
   "execution_count": 7,
   "metadata": {},
   "outputs": [],
   "source": [
    "# your code goes here.  Show the final grid as an image"
   ]
  }
 ],
 "metadata": {
  "kernelspec": {
   "display_name": "Python 3",
   "language": "python",
   "name": "python3"
  },
  "language_info": {
   "codemirror_mode": {
    "name": "ipython",
    "version": 3
   },
   "file_extension": ".py",
   "mimetype": "text/x-python",
   "name": "python",
   "nbconvert_exporter": "python",
   "pygments_lexer": "ipython3",
   "version": "3.7.3"
  }
 },
 "nbformat": 4,
 "nbformat_minor": 4
}
