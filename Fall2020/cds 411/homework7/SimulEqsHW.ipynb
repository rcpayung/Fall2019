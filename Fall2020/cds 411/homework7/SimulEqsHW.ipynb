{
 "cells": [
  {
   "cell_type": "markdown",
   "metadata": {},
   "source": [
    "#### Riley Payung\n",
    "\n",
    "#### Jason Kinser\n",
    "\n",
    "#### CDS 411\n",
    "\n",
    "#### October 28th, 2020"
   ]
  },
  {
   "cell_type": "markdown",
   "metadata": {},
   "source": [
    "# HW Simultaneous Equations Answers\n"
   ]
  },
  {
   "cell_type": "code",
   "execution_count": 1,
   "metadata": {},
   "outputs": [],
   "source": [
    "import numpy as np"
   ]
  },
  {
   "cell_type": "markdown",
   "metadata": {},
   "source": [
    "## Problem 1\n",
    "Write a Python script to solve the following for $x$ and $y$.\n",
    "$$4x + 2y = 14$$\n",
    "$$y - x = -5$$"
   ]
  },
  {
   "cell_type": "code",
   "execution_count": 2,
   "metadata": {},
   "outputs": [
    {
     "name": "stdout",
     "output_type": "stream",
     "text": [
      "[ 4. -1.]\n"
     ]
    }
   ],
   "source": [
    "# Code and answers\n",
    "M = np.array(((4,2),(-1,1)));\n",
    "M_inv = np.linalg.inv(M);\n",
    "vec = np.array((14,-5));\n",
    "a = M_inv.dot(vec)\n",
    "print(a)"
   ]
  },
  {
   "cell_type": "code",
   "execution_count": 3,
   "metadata": {},
   "outputs": [
    {
     "name": "stdout",
     "output_type": "stream",
     "text": [
      "14.0\n",
      "-5.0\n",
      "Condition: 3.3699240762154825\n"
     ]
    }
   ],
   "source": [
    "print(4*a[0] + 2*a[1])\n",
    "print(a[1]-a[0])\n",
    "\n",
    "print(\"Condition:\",np.linalg.cond(M))"
   ]
  },
  {
   "cell_type": "markdown",
   "metadata": {},
   "source": [
    "## Problem 2\n",
    "Write a Python script to solve the following for $x$, $y$ and $z$.\n",
    "$$1.1y - 3x -0.9z = 3.61$$\n",
    "$$4.7z-4.1x - 0.17y = -42.527$$\n",
    "$$2.9y + 2.2z -1.1x = 3.87$$"
   ]
  },
  {
   "cell_type": "code",
   "execution_count": 4,
   "metadata": {},
   "outputs": [
    {
     "name": "stdout",
     "output_type": "stream",
     "text": [
      "[ 3.2  7.1 -6. ]\n"
     ]
    }
   ],
   "source": [
    "# Code and answers\n",
    "M2 = np.array(((-3,1.1,-.9),(-4.1,-0.17,4.7),(-1.1,2.9,2.2)));\n",
    "M2_inv = np.linalg.inv(M2);\n",
    "vec2 = np.array((3.61,-42.527,3.87));\n",
    "a2 = M2_inv.dot(vec2);\n",
    "print(a2)\n"
   ]
  },
  {
   "cell_type": "code",
   "execution_count": 7,
   "metadata": {},
   "outputs": [
    {
     "name": "stdout",
     "output_type": "stream",
     "text": [
      "3.609999999999996\n",
      "-42.527\n",
      "3.8699999999999983\n",
      "Condition: 2.540084175492046\n"
     ]
    }
   ],
   "source": [
    "print(1.1*a2[1]-3*a2[0]-0.9*a2[2])\n",
    "print(4.7*a2[2]-4.1*a2[0]-0.17*a2[1])\n",
    "print(2.9*a2[1] + 2.2*a2[2] -1.1*a2[0])\n",
    "\n",
    "print(\"Condition:\",np.linalg.cond(M2))"
   ]
  },
  {
   "cell_type": "markdown",
   "metadata": {},
   "source": [
    "##  Problem 3\n",
    "Given the following equations.\n",
    "$$ax + by = c$$\n",
    "$$dx + ey = f$$\n",
    "\n",
    "1. Randomly generate values for $a$, $b$, $d$ and $e$ that are between -1 and 1.\n",
    "1. Randomly generate values for $c$ and $f$.\n",
    "1. Compute $x$ and $y$\n",
    "1. Use the given two lines of code to print out the results. "
   ]
  },
  {
   "cell_type": "code",
   "execution_count": 8,
   "metadata": {},
   "outputs": [
    {
     "name": "stdout",
     "output_type": "stream",
     "text": [
      "-0.9335829384096305 -0.9335829384096306\n",
      "0.1640101963414633 0.1640101963414633\n",
      "Condition: 1.5124799029652138\n"
     ]
    }
   ],
   "source": [
    "# your code\n",
    "a,b,d,e = np.random.ranf(4) * 2 - 1\n",
    "c,f = np.random.ranf(2) * 2 - 1\n",
    "\n",
    "\n",
    "M3 = np.array(((a,b),(d,e)))\n",
    "vec3 = np.array((c,f))\n",
    "M3_inv = np.linalg.inv(M3);\n",
    "x,y = M3_inv.dot(vec3);\n",
    "\n",
    "print(a*x + b*y, c)\n",
    "print(d*x + e*y, f)\n",
    "\n",
    "print(\"Condition:\",np.linalg.cond(M3))"
   ]
  },
  {
   "cell_type": "markdown",
   "metadata": {},
   "source": [
    "## Problem 4\n",
    "Write a Python script to solve for $x$, $y$ and $z$\n",
    "$$4 x + 6y - z = 0$$\n",
    "$$-x + 2y -2z = 2$$\n",
    "$$ 3x + 8y -3z = 1$$"
   ]
  },
  {
   "cell_type": "code",
   "execution_count": 9,
   "metadata": {},
   "outputs": [
    {
     "name": "stdout",
     "output_type": "stream",
     "text": [
      "9999999.974146163 -9000000.376731548 -14000001.36380463\n",
      "Condition Number: 391707870.76701885\n"
     ]
    }
   ],
   "source": [
    "# code and answer\n",
    "M4 = np.array(((4.0000001,6,-1),(-1,2,-2),(3,8,-3)));\n",
    "M4_inv = np.linalg.inv(M4);\n",
    "vec4 = np.array((0,2,1));\n",
    "x,y,z = M4_inv.dot(vec4);\n",
    "print(x,y,z)\n",
    "print(\"Condition Number:\",np.linalg.cond(M4))"
   ]
  },
  {
   "cell_type": "markdown",
   "metadata": {},
   "source": [
    "## Problem 5\n",
    "The following situation creates a singular matrix.  Can the problem be solved if we change the values on the right hand side of the equation.  Explain your answer in one sentence.\n",
    "$$4 x + 2y - z = 0$$\n",
    "$$x -1 y -2z = 2$$\n",
    "$$ 5x + y -3z = 1$$"
   ]
  },
  {
   "cell_type": "markdown",
   "metadata": {},
   "source": [
    "It may work. If we changed the right hand side instead of the left hand side, we would get different equations. I guess the only way to find out would be to test it, which I have done below:"
   ]
  },
  {
   "cell_type": "code",
   "execution_count": 10,
   "metadata": {},
   "outputs": [
    {
     "name": "stdout",
     "output_type": "stream",
     "text": [
      "1.5011998757901652e+16 -2.101679826106231e+16 1.8014398509481984e+16\n",
      "Condition Number of changing the right hand side: 1.3945178717295934e+17\n"
     ]
    }
   ],
   "source": [
    "M5 = (((4,2,-1),(1,-1,-2),(5,1,-3)));\n",
    "vec5 = ((1,6,3));\n",
    "M5_inv = np.linalg.inv(M5);\n",
    "x,y,z = M5_inv.dot(vec5)\n",
    "print(x,y,z)\n",
    "print(\"Condition Number of changing the right hand side:\",np.linalg.cond(M5))"
   ]
  },
  {
   "cell_type": "markdown",
   "metadata": {},
   "source": [
    "It seems like changing the vector on the right hand side does not work, since we have an extremely large number. It works just about as good as changing the value of any variable in the equations"
   ]
  },
  {
   "cell_type": "markdown",
   "metadata": {},
   "source": [
    "## Problem 6\n",
    "Georgina has 30 coins which consists of dimes and nickels.  The total amount that she has is \\$2.45.  How many dimes and how many nickels does she have?"
   ]
  },
  {
   "cell_type": "code",
   "execution_count": 12,
   "metadata": {},
   "outputs": [
    {
     "name": "stdout",
     "output_type": "stream",
     "text": [
      "11.0 19.0\n",
      "7.4\n",
      "40.22513992488611\n"
     ]
    }
   ],
   "source": [
    "# your code and the number of each type of coin\n",
    "M6 = np.array(((1,1),(.05,.10)));\n",
    "vec6 = np.array((30,2.45));\n",
    "M6_inv = np.linalg.inv(M6);\n",
    "n,d = M6_inv.dot(vec6)\n",
    "print(n,d);\n",
    "print(.5*n+.10*d);\n",
    "print(np.linalg.cond(M6))"
   ]
  },
  {
   "cell_type": "markdown",
   "metadata": {},
   "source": [
    "## Problem 7\n",
    "Georgina is back again.  This time she has pennies, nickels, dimes and quarters.\n",
    "She has 30 coins.  The total amount she has is \\$3.92.  She has one more nickel than she has pennies.  The total number of dimes and nickels is 15.  How many of each type of coin does she have?"
   ]
  },
  {
   "cell_type": "code",
   "execution_count": 13,
   "metadata": {},
   "outputs": [
    {
     "name": "stdout",
     "output_type": "stream",
     "text": [
      "4.413793103448276 5.413793103448276 9.586206896551724 10.586206896551722\n",
      "392.0\n",
      "30.0\n",
      "1.0\n",
      "16.487275589948496\n"
     ]
    }
   ],
   "source": [
    "# your code and the number of each type of coin\n",
    "M7 = np.array(((0.01,0.05,0.10,0.25),(-1,1,0,0),(0,1,1,0),(1,1,1,1)))\n",
    "vec7 = np.array((3.92,1,15,30));\n",
    "M7_inv = np.linalg.inv(M7);\n",
    "p,n,d,q = M7_inv.dot(vec7)\n",
    "print(p,n,d,q)\n",
    "print(round(1*p + 5*n + 10*d + 25*q))\n",
    "print(round(1*p + 1*n + 1*d + 1*q))\n",
    "print(round(n-p))\n",
    "print(np.linalg.cond(M7))"
   ]
  }
 ],
 "metadata": {
  "kernelspec": {
   "display_name": "Python 3",
   "language": "python",
   "name": "python3"
  },
  "language_info": {
   "codemirror_mode": {
    "name": "ipython",
    "version": 3
   },
   "file_extension": ".py",
   "mimetype": "text/x-python",
   "name": "python",
   "nbconvert_exporter": "python",
   "pygments_lexer": "ipython3",
   "version": "3.7.3"
  }
 },
 "nbformat": 4,
 "nbformat_minor": 4
}
