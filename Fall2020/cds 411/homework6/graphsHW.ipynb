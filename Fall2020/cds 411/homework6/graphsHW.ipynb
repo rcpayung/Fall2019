{
 "cells": [
  {
   "cell_type": "markdown",
   "metadata": {},
   "source": [
    "# HW Connections Answers"
   ]
  },
  {
   "cell_type": "markdown",
   "metadata": {},
   "source": [
    "For this homework, youse the movies1000 spreadsheet and the movies.py, bacon.py, and floyd.py files.\n",
    "\n",
    "### Riley Payung\n",
    "### Jason Kinser\n",
    "### CDS 411\n",
    "### October 14, 2020"
   ]
  },
  {
   "cell_type": "code",
   "execution_count": 1,
   "metadata": {},
   "outputs": [],
   "source": [
    "import sys\n",
    "sys.path.append('c:/rcpay/documents/college/Fall 2020/cds 411')\n",
    "import bacon, floyd\n",
    "import movies3 as mov\n",
    "f1 = 'movies1000.xlsx'\n",
    "movies, actors, isin = mov.ReadData(f1)"
   ]
  },
  {
   "cell_type": "markdown",
   "metadata": {},
   "source": [
    "## Problem 1\n",
    "Write a python script that returns the _aid_ value for Kim Crosby?"
   ]
  },
  {
   "cell_type": "code",
   "execution_count": 2,
   "metadata": {},
   "outputs": [
    {
     "name": "stdout",
     "output_type": "stream",
     "text": [
      "376\n"
     ]
    }
   ],
   "source": [
    "# your code and answer\n",
    "aidValue = mov.AidFromName(actors,\"Kim\",\"Crosby\")\n",
    "print(aidValue)"
   ]
  },
  {
   "cell_type": "markdown",
   "metadata": {},
   "source": [
    "## Problem 2\n",
    "Write a Python script that returns the _mid_ values for the movies with Amy Irving?"
   ]
  },
  {
   "cell_type": "code",
   "execution_count": 3,
   "metadata": {},
   "outputs": [
    {
     "name": "stdout",
     "output_type": "stream",
     "text": [
      "[242   6 243 994]\n"
     ]
    }
   ],
   "source": [
    "# yoru code and answer\n",
    "aidAmy = mov.AidFromName(actors,\"Amy\",\"Irving\");\n",
    "mids = mov.MidsFromAid(isin,aidAmy);\n",
    "print(mids)"
   ]
  },
  {
   "cell_type": "markdown",
   "metadata": {},
   "source": [
    "## Problem 3\n",
    "Write a Python script that returns the titles of the movies Lena Horne is in."
   ]
  },
  {
   "cell_type": "code",
   "execution_count": 4,
   "metadata": {},
   "outputs": [
    {
     "name": "stdout",
     "output_type": "stream",
     "text": [
      "['Yentl', 'An American Tail: Fievel Goes West', 'Who Framed Roger Rabbit', 'I’m Not Rappaport']\n"
     ]
    }
   ],
   "source": [
    "# your code and answer\n",
    "aidLena = mov.AidFromName(actors,\"Lena\",\"Horne\");\n",
    "mids = mov.MidsFromAid(isin,aidAmy);\n",
    "titles = mov.TitlesFromMids(movies,mids);\n",
    "print(titles)"
   ]
  },
  {
   "cell_type": "markdown",
   "metadata": {},
   "source": [
    "# Problem 4\n",
    "Write a Python script that returns the names of the actors that are in the movie named _Inherit the Wind_ ."
   ]
  },
  {
   "cell_type": "code",
   "execution_count": 5,
   "metadata": {},
   "outputs": [
    {
     "name": "stdout",
     "output_type": "stream",
     "text": [
      "[('Spencer', 'Tracy'), ('Gene', 'Kelly'), ('Harry', 'Morgan'), ('Norman', 'Fell')]\n"
     ]
    }
   ],
   "source": [
    "# your code and answer\n",
    "mid = mov.MidFromTitle(movies,\"Inherit the Wind\");\n",
    "aIDs = mov.AidsFromMid(isin,mid);\n",
    "names = mov.NamesFromAids(actors, aIDs);\n",
    "print(names)"
   ]
  },
  {
   "cell_type": "markdown",
   "metadata": {},
   "source": [
    "## Problem 5\n",
    "What are the 'aid' values in the shortest path from Spencer Tracy to Lena Horne?"
   ]
  },
  {
   "cell_type": "code",
   "execution_count": 6,
   "metadata": {},
   "outputs": [
    {
     "name": "stdout",
     "output_type": "stream",
     "text": [
      "0 50 100 150 200 250 300 350 400 450 500 550 600 650 700 750 800 "
     ]
    }
   ],
   "source": [
    "# your code and answer\n",
    "Graph = bacon.MakeG(isin)\n",
    "G,P = bacon.RunFloyd(Graph);"
   ]
  },
  {
   "cell_type": "code",
   "execution_count": 7,
   "metadata": {},
   "outputs": [
    {
     "name": "stdout",
     "output_type": "stream",
     "text": [
      "[363, 55, 25, 455, 826, 827]\n",
      "('Spencer', 'Tracy')\n",
      "('Linda', 'Hamilton')\n",
      "('Rip', 'Torn')\n",
      "('James', 'Brown')\n",
      "('Gene', 'Kelly')\n",
      "('Lena', 'Horne')\n"
     ]
    }
   ],
   "source": [
    "SpencerAid = mov.AidFromName(actors,\"Spencer\",\"Tracy\");\n",
    "LenaAid = mov.AidFromName(actors,\"Lena\",\"Horne\");\n",
    "path = floyd.FindPath(P,SpencerAid,LenaAid)\n",
    "print(path)\n",
    "for i in path:\n",
    "    print(mov.NameFromAid(actors,i))"
   ]
  },
  {
   "cell_type": "markdown",
   "metadata": {},
   "source": [
    "## Problem 6\n",
    "What are the names of the movies that are in the shortest path from Aidan Quinn to Anthony Quinn "
   ]
  },
  {
   "cell_type": "code",
   "execution_count": 8,
   "metadata": {},
   "outputs": [
    {
     "name": "stdout",
     "output_type": "stream",
     "text": [
      "[14, 12, 168]\n",
      "('Aidan', 'Quinn')\n",
      "('Christopher', 'Lloyd')\n",
      "('Anthony', 'Quinn')\n"
     ]
    }
   ],
   "source": [
    "# your code and answer\n",
    "aidanAid = mov.AidFromName(actors,\"Aidan\",\"Quinn\");\n",
    "anthAid = mov.AidFromName(actors,\"Anthony\",\"Quinn\");\n",
    "path = floyd.FindPath(P,aidanAid,anthAid)\n",
    "print(path)\n",
    "for i in path:\n",
    "    print(mov.NameFromAid(actors,i))"
   ]
  },
  {
   "cell_type": "markdown",
   "metadata": {},
   "source": [
    "## Problem 7\n",
    "What is the longest path for Kevin Bacon?  Your answer needs to include the actor names and movie titles grouped so we know which actors are in which movies."
   ]
  },
  {
   "cell_type": "code",
   "execution_count": 12,
   "metadata": {},
   "outputs": [
    {
     "name": "stdout",
     "output_type": "stream",
     "text": [
      "Longest Path:  5.0\n",
      "[143, 142, 212, 5, 390]\n",
      "('Kevin', 'Bacon') is in ['The Air I Breathe', 'Tremors', 'Apollo 13', 'Planes, Trains and Automobiles', 'Mystic River', 'JFK']\n",
      "('Forest', 'Whitaker') is in ['The Air I Breathe', 'Phenomenon', 'The Last King of Scotland', 'Bird', 'Mr. Holland’s Opus', 'Stakeout']\n",
      "('Barry', 'Corbin') is in ['WarGames', 'No Country for Old Men', 'Monte Walsh']\n",
      "('F. Murray', 'Abraham') is in ['Amadeus', 'Last Action Hero', 'The Big Fix']\n",
      "('Grace', 'Kelly') is in ['Rear Window', 'To Catch a Thief', 'Dial M for Murder']\n"
     ]
    }
   ],
   "source": [
    "# your code and answer\n",
    "kevinBacon = mov.AidFromName(actors,\"Kevin\",\"Bacon\");\n",
    "kevinBacon\n",
    "kevinDist = (G[kevinBacon]<999999)*G[kevinBacon]\n",
    "print(\"Longest Path: \",kevinDist.max())\n",
    "index = 0;\n",
    "\n",
    "for i in range(len(list(P[kevinBacon]))):\n",
    "    if list(P[kevinBacon])[i] == 5.0:\n",
    "        index = i;\n",
    "        break;\n",
    "path = floyd.FindPath(P,kevinBacon,index);\n",
    "print(path)\n",
    "for i in path:\n",
    "    actor = mov.NameFromAid(actors,i)\n",
    "    inMovies = mov.MidsFromAid(isin,i);\n",
    "    actorMovies = mov.TitlesFromMids(movies, inMovies);\n",
    "    print(actor,\"is in\",actorMovies);"
   ]
  },
  {
   "cell_type": "markdown",
   "metadata": {},
   "source": [
    "## Problem 8\n",
    "Mentioned in the lectures is that most actors are connected.  Thus, there is one big collection of connected actors, and a few that are not.  Leonardo DiCaprio is one of the actors in this big connection.  How many actors are in this group?"
   ]
  },
  {
   "cell_type": "code",
   "execution_count": 32,
   "metadata": {},
   "outputs": [
    {
     "name": "stdout",
     "output_type": "stream",
     "text": [
      "801 actors\n"
     ]
    }
   ],
   "source": [
    "# your code and answer\n",
    "dicaprio = mov.AidFromName(actors,\"Leonardo\",\"DiCaprio\");\n",
    "dicaprioPaths = P[dicaprio].nonzero()[0];\n",
    "print(len(dicaprioPaths),\"actors\")"
   ]
  },
  {
   "cell_type": "markdown",
   "metadata": {},
   "source": [
    "## Problem 9\n",
    "Mads Mikkelsen has been identified as an actor that is a chain of 7 handshakes with another actor.  How many chains of length 7 is he in?\n"
   ]
  },
  {
   "cell_type": "code",
   "execution_count": 45,
   "metadata": {},
   "outputs": [
    {
     "name": "stdout",
     "output_type": "stream",
     "text": [
      "3 paths of 7 handshakes\n",
      "('Mads', 'Mikkelsen')('Timothy', 'Dalton')('Charles', 'Durning')('John', 'Belushi')('John', 'Turturro')('Bill', 'Pullman')('Timothy', 'Hutton')\n",
      "('Mads', 'Mikkelsen')('Timothy', 'Dalton')('Kevin', 'Kline')('Patricia', 'Clarkson')('Leo G.', 'Carroll')('Humphrey', 'Bogart')('Barbara', 'Stanwyck')\n",
      "('Mads', 'Mikkelsen')('Timothy', 'Dalton')('Kevin', 'Kline')('Patricia', 'Clarkson')('Leo G.', 'Carroll')('Humphrey', 'Bogart')('Ronald', 'Reagan')\n"
     ]
    }
   ],
   "source": [
    "# your code and answer\n",
    "MadsMikkel = mov.AidFromName(actors,\"Mads\",\"Mikkelsen\")\n",
    "MadsPaths = [];\n",
    "count = 0;\n",
    "for i in range(len(actors)):\n",
    "    path = floyd.FindPath(P,MadsMikkel,i);\n",
    "    if len(path) >= 7:\n",
    "        count += 1;\n",
    "        MadsPaths.append(path);\n",
    "print(count,\"paths of 7 handshakes\")\n",
    "for i in MadsPaths:\n",
    "    for j in i:\n",
    "        print(mov.NameFromAid(actors,j),end=\"\");\n",
    "    print(end=\"\\n\")"
   ]
  },
  {
   "cell_type": "code",
   "execution_count": null,
   "metadata": {},
   "outputs": [],
   "source": []
  }
 ],
 "metadata": {
  "kernelspec": {
   "display_name": "Python 3",
   "language": "python",
   "name": "python3"
  },
  "language_info": {
   "codemirror_mode": {
    "name": "ipython",
    "version": 3
   },
   "file_extension": ".py",
   "mimetype": "text/x-python",
   "name": "python",
   "nbconvert_exporter": "python",
   "pygments_lexer": "ipython3",
   "version": "3.7.3"
  }
 },
 "nbformat": 4,
 "nbformat_minor": 4
}
