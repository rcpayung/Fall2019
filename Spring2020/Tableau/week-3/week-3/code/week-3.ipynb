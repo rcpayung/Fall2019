{
 "cells": [
  {
   "cell_type": "markdown",
   "metadata": {},
   "source": [
    "# CDS-301/501 - Scientific Information and Data Visualization"
   ]
  },
  {
   "cell_type": "markdown",
   "metadata": {},
   "source": [
    "# Tableau - Visualizing Amounts "
   ]
  },
  {
   "cell_type": "markdown",
   "metadata": {},
   "source": [
    "Example Tableau Dashboard:\n",
    "\n",
    "<img src=\"./images/tableau-0.png\" alt=\"Drawing\" align=\"left\" style=\"width: 600px\" />"
   ]
  },
  {
   "cell_type": "markdown",
   "metadata": {},
   "source": [
    "<img src=\"./images/div-0.png\" alt=\"Drawing\" align=\"left\" style=\"width: 800px\" />"
   ]
  },
  {
   "cell_type": "markdown",
   "metadata": {},
   "source": [
    "# Plan/Objectives for Today\n",
    "\n",
    "* **Projects**\n",
    "    * Special Project Ideas (501 Students Only)\n",
    "    * Term Project (All Students)\n",
    "    * Data Sources \n",
    "- **Tableau Techniques**\n",
    "    - Multiple Tables (Joins)\n",
    "    - Pivoting\n",
    "* **Color Scales Review**\n",
    "* **Color Vision Deficiency** \n",
    "* **In-Class Exercise 1**\n",
    "    * Multiple types of Barplots\n",
    "* **In-Class Exercise 2**\n",
    "    * Project Ideas - Class Presentations(Volunteers) and in Small Groups\n",
    "* **More Tableau Visualizations**\n",
    "    - Distributions: Histograms and Stacked Histograms\n",
    "        - **Note:** Density plots are another way of visualizing distributions - we will cover those under Python and R sessions.\n",
    "    - Proportions (Pie charts, Treemaps)\n",
    "- Review Homework 3 and Reading Assignment"
   ]
  },
  {
   "cell_type": "markdown",
   "metadata": {},
   "source": [
    "<img src=\"./images/div-0.png\" alt=\"Drawing\" align=\"left\" style=\"width: 800px\" />"
   ]
  },
  {
   "cell_type": "markdown",
   "metadata": {},
   "source": [
    "# Tableau - Joining Tables\n",
    "\n",
    "<img src=\"./images/joins-0.png\" alt=\"Drawing\" align=\"left\" style=\"width: 800px\" />"
   ]
  },
  {
   "cell_type": "markdown",
   "metadata": {},
   "source": [
    "Open the packaged Tableau workbook \"joining-tables-0.twbx\" - review the 4 types of join in Tableau\n",
    "\n",
    "As a simple example, in this dataset we have data from more than one table that we want to use in a set of visualizations."
   ]
  },
  {
   "cell_type": "markdown",
   "metadata": {},
   "source": [
    "<img src=\"./images/div-0.png\" alt=\"Drawing\" align=\"left\" style=\"width: 800px\" />"
   ]
  },
  {
   "cell_type": "markdown",
   "metadata": {},
   "source": [
    "# Tableau - Pivoting\n",
    "\n",
    "Open the packaged Tableau workbook \"pivoting-0.twbx\" - demonstrate Tableau's pivoting feature\n",
    "\n",
    "Imagine we have a dataset that looks like this.  What do you notice?"
   ]
  },
  {
   "cell_type": "markdown",
   "metadata": {},
   "source": [
    "<img src=\"./images/div-0.png\" alt=\"Drawing\" align=\"left\" style=\"width: 800px\" />"
   ]
  },
  {
   "cell_type": "markdown",
   "metadata": {},
   "source": [
    "# <img src=\"./images/pivot-ex-0.png\" alt=\"Drawing\" align=\"left\" style=\"width: 800px\" />"
   ]
  },
  {
   "cell_type": "markdown",
   "metadata": {},
   "source": [
    "<img src=\"./images/div-0.png\" alt=\"Drawing\" align=\"left\" style=\"width: 800px\" />"
   ]
  },
  {
   "cell_type": "markdown",
   "metadata": {},
   "source": [
    "<img src=\"./images/pivot-ex-1.png\" alt=\"Drawing\" align=\"left\" style=\"width: 800px\" />"
   ]
  },
  {
   "cell_type": "markdown",
   "metadata": {},
   "source": [
    "<img src=\"./images/div-0.png\" alt=\"Drawing\" align=\"left\" style=\"width: 800px\" />"
   ]
  },
  {
   "cell_type": "markdown",
   "metadata": {},
   "source": [
    "# Review of Color Scales\n",
    "\n",
    "\n",
    "<img src=\"./images/scales-review-0.png\" alt=\"Drawing\" align=\"left\" style=\"width: 800px\" />"
   ]
  },
  {
   "cell_type": "markdown",
   "metadata": {},
   "source": [
    "<img src=\"./images/div-0.png\" alt=\"Drawing\" align=\"left\" style=\"width: 800px\" />"
   ]
  },
  {
   "cell_type": "markdown",
   "metadata": {},
   "source": [
    "# Color Vision Deficiencies (CVD)\n",
    "\n",
    "- Approximately 8% of males and 0.5% of females suffer from some form of color-vision deficiency.  Percentages can go up in certain regions (e.g. Scandanavia 10-11% of men).\n",
    "\n",
    "- Note: Suffix \"-anomaly\" refers to some impairment, while \"-anopia\" means complete absence\n",
    "\n",
    "- Definitions:\n",
    "    - deuteranomaly (most common form of CVD) - means green weak\n",
    "    - deuteranopia - means green blind\n",
    "    - protanomaly - means red weak\n",
    "    - protanopia - means red blind\n",
    "    - tritanomaly (very rare) - means blue weak\n",
    "    - tritanopia (very rare) - means blue blind\n",
    "    - Achromatopsia/Monochromacy (very rare) - complete color blindness \n",
    "    - Trichromacy - normal color vision   \n",
    "\n",
    "\n",
    "- There are also acquired forms of CVD due to aging"
   ]
  },
  {
   "cell_type": "markdown",
   "metadata": {},
   "source": [
    "<img src=\"./images/div-0.png\" alt=\"Drawing\" align=\"left\" style=\"width: 800px\" />"
   ]
  },
  {
   "cell_type": "markdown",
   "metadata": {},
   "source": [
    "# How do we perceive color?\n",
    "\n",
    "- The eye contains two types of photoreceptors - Rods and Cones\n",
    "- Rods are responsible for reception at low light levels and have low spatial resolution\n",
    "- Cones are responsible for color vision and have high spatial resolution \n",
    "\n",
    "- There are 3 types of cones, and each has a frequency response curve:\n",
    "<img src=\"./images/cones-response-0.png\" alt=\"Drawing\" align=\"left\" style=\"width: 600px\" />"
   ]
  },
  {
   "cell_type": "markdown",
   "metadata": {},
   "source": [
    "<img src=\"./images/div-0.png\" alt=\"Drawing\" align=\"left\" style=\"width: 800px\" />"
   ]
  },
  {
   "cell_type": "markdown",
   "metadata": {},
   "source": [
    "# Color Scales for CVD\n",
    "\n",
    "Sequential scales (if properly designed) generally do not cause a problem w.r.t CVD \n",
    "\n",
    "<img src=\"./images/cvd-0.png\" alt=\"drawing\" align=\"left\" style=\"width: 500px\" />"
   ]
  },
  {
   "cell_type": "markdown",
   "metadata": {},
   "source": [
    "<img src=\"./images/div-0.png\" alt=\"Drawing\" align=\"left\" style=\"width: 800px\" />"
   ]
  },
  {
   "cell_type": "markdown",
   "metadata": {},
   "source": [
    "The rainbow scale is an example of a scale which is not properly designed"
   ]
  },
  {
   "cell_type": "markdown",
   "metadata": {},
   "source": [
    "Rainbow scale\n",
    "\n",
    "<img src=\"./images/rainbow-0.png\" alt=\"drawing\" align=\"left\" style=\"width: 600px\" />"
   ]
  },
  {
   "cell_type": "markdown",
   "metadata": {},
   "source": [
    "Rainbow scale for someone with deuteranopia\n",
    "\n",
    "<img src=\"./images/rainbow-1.png\" alt=\"Drawing\" align=\"left\" style=\"width: 600px\" />"
   ]
  },
  {
   "cell_type": "markdown",
   "metadata": {},
   "source": [
    "Converting to grayscale - nonmonotonic\n",
    "\n",
    "<img src=\"./images/rainbow-2.png\" alt=\"Drawing\" align=\"left\" style=\"width: 600px\" />"
   ]
  },
  {
   "cell_type": "markdown",
   "metadata": {},
   "source": [
    "<img src=\"./images/div-0.png\" alt=\"Drawing\" align=\"left\" style=\"width: 800px\" />"
   ]
  },
  {
   "cell_type": "markdown",
   "metadata": {},
   "source": [
    "<img src=\"./images/rainbow-3.png\" alt=\"Drawing\" align=\"left\" style=\"width: 600px\" />"
   ]
  },
  {
   "cell_type": "markdown",
   "metadata": {},
   "source": [
    "<img src=\"./images/div-0.png\" alt=\"Drawing\" align=\"left\" style=\"width: 800px\" />"
   ]
  },
  {
   "cell_type": "markdown",
   "metadata": {},
   "source": [
    "Divergent and (especially) qualitative scales are more difficult.  Note here how the divergent scale complete disappears for deuteranomaly CVD:\n",
    "\n",
    "\n",
    "<img src=\"./images/cvd-1.png\" alt=\"drawing\" align=\"left\" style=\"width: 500px\" />"
   ]
  },
  {
   "cell_type": "markdown",
   "metadata": {},
   "source": [
    "<img src=\"./images/div-0.png\" alt=\"Drawing\" align=\"left\" style=\"width: 800px\" />"
   ]
  },
  {
   "cell_type": "markdown",
   "metadata": {},
   "source": [
    "And in this case, a blue green contrast divergent scale becomes indistinquishable under tritanomaly:\n",
    "\n",
    "\n",
    "<img src=\"./images/cvd-2.png\" alt=\"drawing\" align=\"left\" style=\"width: 500px\" />"
   ]
  },
  {
   "cell_type": "markdown",
   "metadata": {},
   "source": [
    "<img src=\"./images/div-0.png\" alt=\"Drawing\" align=\"left\" style=\"width: 800px\" />"
   ]
  },
  {
   "cell_type": "markdown",
   "metadata": {},
   "source": [
    "An example of a divergent scale that works for most CVD:\n",
    "\n",
    "<img src=\"./images/cvd-3.png\" alt=\"drawing\" align=\"left\" style=\"width: 500px\" />"
   ]
  },
  {
   "cell_type": "markdown",
   "metadata": {},
   "source": [
    "<img src=\"./images/div-0.png\" alt=\"Drawing\" align=\"left\" style=\"width: 800px\" />"
   ]
  },
  {
   "cell_type": "markdown",
   "metadata": {},
   "source": [
    "Qualitative scales are the most challenging since there all colors need to be distinquished from one another.  A qualitative scale developed for CVD (Wilke):\n",
    "\n",
    "<img src=\"./images/cvd-5.png\" alt=\"drawing\" align=\"left\" style=\"width:500px\" />"
   ]
  },
  {
   "cell_type": "markdown",
   "metadata": {},
   "source": [
    "<img src=\"./images/div-0.png\" alt=\"Drawing\" align=\"left\" style=\"width: 800px\" />"
   ]
  },
  {
   "cell_type": "markdown",
   "metadata": {},
   "source": [
    "But because color perception is also dependent on the size of the visual elements shown, its best to run your visualization through a CVD simulation\n",
    "\n",
    "<img src=\"./images/cvd-4.png\" alt=\"drawing\" align=\"left\" style=\"width:500px\" />"
   ]
  },
  {
   "cell_type": "markdown",
   "metadata": {},
   "source": [
    "<img src=\"./images/div-0.png\" alt=\"Drawing\" align=\"left\" style=\"width: 800px\" />"
   ]
  },
  {
   "cell_type": "markdown",
   "metadata": {},
   "source": [
    "# CVD Simulator\n",
    "\n",
    "CVD Simulators allow you to view how your visualization we be seen by someone with a CVD. \n",
    "\n",
    "An online drag and drop simulator: [Coblis Color Blindness Simulator](https://www.color-blindness.com/coblis-color-blindness-simulator/) "
   ]
  },
  {
   "cell_type": "markdown",
   "metadata": {},
   "source": [
    "<img src=\"./images/div-0.png\" alt=\"Drawing\" align=\"left\" style=\"width: 800px\" />"
   ]
  },
  {
   "cell_type": "markdown",
   "metadata": {},
   "source": [
    "# In Class Exercise 1 - Multiple Types of Barplots in Tableau"
   ]
  },
  {
   "cell_type": "markdown",
   "metadata": {},
   "source": [
    "#### Exercise Part 1\n",
    "Using Tableau build the following simple visualization.  \n",
    "\n",
    "**Steps**\n",
    "1. Open Tableau and connect to the titanic4.csv dataset\n",
    "2. Create a calculated field \"Age Group\" based on the existing field Age:\n",
    "    - Less than 12 -> Child\n",
    "    - More than 12, but Less than 19 -> Teenager\n",
    "    - More than 19, Less than 70 -> Adult\n",
    "    - 70 or greater -> Elderly\n",
    "3. There is a problem with step 2 - what do we do with Null ages? (If you need a hint - see below)\n",
    "4. Build the bar plot by using \"Age Group\"\n",
    "5. Note: You will need to manually sort the columns to get them to appear in their \"natural\" order\n",
    "    - To do that select the drop down in the \"Age Group\" pill and select the \"Manual\" method and then reorder \n",
    "    \n",
    "<img src=\"./images/student-exercise-v1.png\" alt=\"drawing\" align=\"left\" style=\"width: 600px\" />"
   ]
  },
  {
   "cell_type": "markdown",
   "metadata": {},
   "source": [
    "<img src=\"./images/div-0.png\" alt=\"Drawing\" align=\"left\" style=\"width: 800px\" />"
   ]
  },
  {
   "cell_type": "markdown",
   "metadata": {},
   "source": [
    "Example code for calculated field in part 1:\n",
    "\n",
    "<img src=\"./images/student-exercise-v1-calc.png\" alt=\"Drawing\" align=\"left\" style=\"width: 200px\" />"
   ]
  },
  {
   "cell_type": "markdown",
   "metadata": {},
   "source": [
    "<img src=\"./images/div-0.png\" alt=\"Drawing\" align=\"left\" style=\"width: 800px\" />"
   ]
  },
  {
   "cell_type": "markdown",
   "metadata": {},
   "source": [
    "#### Exercise Part 2\n",
    "\n",
    "1. Copy the worksheet completed in part 1 to a new worksheet (right click on worksheet tab and select Duplicate)\n",
    "2. Modify the visualization to depict those who lived/died in the age groups you created in part 1 as a stacked bar plot\n",
    "\n",
    "<img src=\"./images/student-exercise-v2.png\" alt=\"drawing\" align=\"left\" style=\"width: 600px\" />"
   ]
  },
  {
   "cell_type": "markdown",
   "metadata": {},
   "source": [
    "#### Exercise Part 3\n",
    "\n",
    "1. Copy the worksheet completed in part 2 to a new worksheet\n",
    "2. Modify the visualization (as shown below) to build a more complex bar plot broken down by other categories\n",
    "    - Columns: Age Group,  Count(Number of Rows) \n",
    "    - Rows: Passenger Class, Sex\n",
    "\n",
    "<img src=\"./images/student-exercise-v3.png\" alt=\"drawing\" align=\"left\" style=\"width: 600px\" />"
   ]
  },
  {
   "cell_type": "markdown",
   "metadata": {},
   "source": [
    "<img src=\"./images/div-0.png\" alt=\"Drawing\" align=\"left\" style=\"width: 800px\" />"
   ]
  },
  {
   "cell_type": "markdown",
   "metadata": {},
   "source": [
    "# In Class Exercise 2 - Project Topics  "
   ]
  },
  {
   "cell_type": "markdown",
   "metadata": {},
   "source": [
    "<img src=\"./images/div-0.png\" alt=\"Drawing\" align=\"left\" style=\"width: 800px\" />"
   ]
  },
  {
   "cell_type": "markdown",
   "metadata": {},
   "source": [
    "# Tableau Histograms\n",
    "\n",
    "Histograms and Stacked Histograms"
   ]
  },
  {
   "cell_type": "markdown",
   "metadata": {},
   "source": [
    "<img src=\"./images/div-0.png\" alt=\"Drawing\" align=\"left\" style=\"width: 800px\" />"
   ]
  },
  {
   "cell_type": "markdown",
   "metadata": {},
   "source": [
    "# Tableau Proportions\n",
    "\n",
    "Pie Charts and Treemaps"
   ]
  },
  {
   "cell_type": "markdown",
   "metadata": {},
   "source": [
    "<img src=\"./images/div-0.png\" alt=\"Drawing\" align=\"left\" style=\"width: 800px\" />"
   ]
  },
  {
   "cell_type": "markdown",
   "metadata": {},
   "source": [
    "## For Reference: Titanic4 Dataset Description\n",
    "\n",
    "<img src=\"./images/titanic3-desc-0.png\" alt=\"Drawing\" align=\"left\" style=\"width: 500px\" />"
   ]
  },
  {
   "cell_type": "markdown",
   "metadata": {},
   "source": [
    "<img src=\"./images/div-0.png\" alt=\"Drawing\" align=\"left\" style=\"width: 800px\" />"
   ]
  },
  {
   "cell_type": "markdown",
   "metadata": {},
   "source": [
    "# References"
   ]
  },
  {
   "cell_type": "markdown",
   "metadata": {},
   "source": [
    "Title: Fundamentals of Data Visualization  \n",
    "Author: Claus O. Wilke   \n",
    "Publisher: O'Reilly Media Inc.  \n",
    "Edition: First Edition  \n",
    "ISBN: 9781492031086  \n",
    "<img src=\"./images/wilke-0.png\" alt=\"Drawing\" align=\"left\" style=\"width:200px\" />    "
   ]
  },
  {
   "cell_type": "markdown",
   "metadata": {},
   "source": [
    "# Reading Assignment \n",
    "\n",
    "Read Chp 7 in Wilke (Note: Chapter 7 has a section on density plots - we will be covering this later so feel free to skip this portion if you want)   \n",
    "Read the Tableau whitepaper \"10 Best Practices for Building Effective Dashboards\"   \n",
    "Read the short article here: https://www.tableau.com/about/blog/2016/4/examining-data-viz-rules-dont-use-red-green-together-53463\n"
   ]
  },
  {
   "cell_type": "code",
   "execution_count": null,
   "metadata": {},
   "outputs": [],
   "source": []
  }
 ],
 "metadata": {
  "kernelspec": {
   "display_name": "Python 3",
   "language": "python",
   "name": "python3"
  },
  "language_info": {
   "codemirror_mode": {
    "name": "ipython",
    "version": 3
   },
   "file_extension": ".py",
   "mimetype": "text/x-python",
   "name": "python",
   "nbconvert_exporter": "python",
   "pygments_lexer": "ipython3",
   "version": "3.7.3"
  }
 },
 "nbformat": 4,
 "nbformat_minor": 4
}
