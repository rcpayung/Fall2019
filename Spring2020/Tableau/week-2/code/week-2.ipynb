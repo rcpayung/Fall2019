{
 "cells": [
  {
   "cell_type": "markdown",
   "metadata": {},
   "source": [
    "# CDS-301/501 - Scientific Information and Data Visualization"
   ]
  },
  {
   "cell_type": "markdown",
   "metadata": {},
   "source": [
    "# Tableau - Visualizing Amounts "
   ]
  },
  {
   "cell_type": "markdown",
   "metadata": {},
   "source": [
    "Example Tableau Dashboard:\n",
    "\n",
    "<img src=\"./images/tableau-0.png\" alt=\"Drawing\" align=\"left\" style=\"width: 600px\" />"
   ]
  },
  {
   "cell_type": "markdown",
   "metadata": {},
   "source": [
    "<img src=\"./images/div-0.png\" alt=\"Drawing\" align=\"left\" style=\"width: 800px\" />"
   ]
  },
  {
   "cell_type": "markdown",
   "metadata": {},
   "source": [
    "# Plan/Objectives for Today\n",
    "\n",
    "- **Guest Lecture:** *Graphical Integrity* (Tom Hutchinson CDS-301/501 Student Fall 2019)\n",
    "- Quiz 1\n",
    "- Visualizing Amounts (Tableau) Bar Plots (dataset: titanic3.csv) (Some basics on Tableau formatting as well...)\n",
    "    - Basic Bar Plots \n",
    "    - Grouped Bar Plot \n",
    "    - Stacked Bar Plot \n",
    "    - Grouped and Stacked Bar Plot\n",
    "    - Heatmap \n",
    "- Review Homework 2 and Reading Assignment\n",
    "- Student In-Class Exercise - Start working on Problem 2 from homework "
   ]
  },
  {
   "cell_type": "markdown",
   "metadata": {},
   "source": [
    "<img src=\"./images/div-0.png\" alt=\"Drawing\" align=\"left\" style=\"width: 800px\" />"
   ]
  },
  {
   "cell_type": "markdown",
   "metadata": {},
   "source": [
    "## Titanic3 Dataset Description\n",
    "\n",
    "<img src=\"./images/titanic3-desc-0.png\" alt=\"Drawing\" align=\"left\" style=\"width: 500px\" />"
   ]
  },
  {
   "cell_type": "markdown",
   "metadata": {},
   "source": [
    "<img src=\"./images/div-0.png\" alt=\"Drawing\" align=\"left\" style=\"width: 800px\" />"
   ]
  },
  {
   "cell_type": "markdown",
   "metadata": {},
   "source": [
    "# References"
   ]
  },
  {
   "cell_type": "markdown",
   "metadata": {},
   "source": [
    "Title: Fundamentals of Data Visualization  \n",
    "Author: Claus O. Wilke   \n",
    "Publisher: O'Reilly Media Inc.  \n",
    "Edition: First Edition  \n",
    "ISBN: 9781492031086  \n",
    "<img src=\"./images/wilke-0.png\" alt=\"Drawing\" align=\"left\" style=\"width:200px\" />    "
   ]
  },
  {
   "cell_type": "markdown",
   "metadata": {},
   "source": [
    "# Reading Assignment \n",
    "\n",
    "Read Chp 6 in Wilke"
   ]
  }
 ],
 "metadata": {
  "kernelspec": {
   "display_name": "Python 3",
   "language": "python",
   "name": "python3"
  },
  "language_info": {
   "codemirror_mode": {
    "name": "ipython",
    "version": 3
   },
   "file_extension": ".py",
   "mimetype": "text/x-python",
   "name": "python",
   "nbconvert_exporter": "python",
   "pygments_lexer": "ipython3",
   "version": "3.7.6"
  }
 },
 "nbformat": 4,
 "nbformat_minor": 4
}
