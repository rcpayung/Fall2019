{
 "cells": [
  {
   "cell_type": "markdown",
   "metadata": {},
   "source": [
    "# CDS-301/501 - Scientific Information and Data Visualization"
   ]
  },
  {
   "cell_type": "markdown",
   "metadata": {},
   "source": [
    "<img src=\"./images/intro-0.png\" alt=\"drawing\" align=\"left\" style=\"width: 800px;\"/>"
   ]
  },
  {
   "cell_type": "markdown",
   "metadata": {},
   "source": [
    "**From the course catalog:** The techniques and software used to visualize scientific simulations, complex information, and data visualization for knowledge discovery. Includes examples and exercises to help students develop their\n",
    "understanding of the role visualization plays in computational science\n",
    "and provides a foundation for applications in their careers. \n",
    "\n",
    "\n",
    "In this course our goal will be to allow our viewers to \"Look at Data\".  To do this effectively we have to (paraphasing Edward Tufte and others...):\n",
    "\n",
    "- Show the data\n",
    "- Keep the focus on the data rather than the context, the technology, the production, etc...\n",
    "- Avoid distorting the data in our visualizations\n",
    "- Present the (perhaps large set of) data in as compact and concise manner\n",
    "- Invite comparison between different groups of data\n",
    "- Understand our own purpose - are we describing the data, exploring the data, trying to convey insight to others, etc...\n",
    "\n",
    "**\"Excellence in statistical graphics consists of complex ideas communicated with clarity, precision, and efficiency\"**\n",
    "    -- Edward R. Tufte from *The Visual Display of Quantitative Information (1983)*"
   ]
  },
  {
   "cell_type": "markdown",
   "metadata": {},
   "source": [
    "# Objectives for today\n",
    "\n",
    "- Review syllabus\n",
    "- Introduce term project\n",
    "- Discuss software tools / environment needed for the course\n",
    "- Understand why visualization is important\n",
    "- Understand Tableau basics and exercise it on a few examples\n",
    "- Understand moving from data to visualization\n",
    "- Understand the basics of visual perception and color vision deficiencies (CVD)\n",
    "- Understand where visualization falls within the Data Science Lifecycle\n",
    "- Review a basic visualization checklist\n",
    "- Use Tableau to build a choropleth \n",
    "- Discuss reading assignment and homework"
   ]
  },
  {
   "cell_type": "markdown",
   "metadata": {},
   "source": [
    "<img src=\"./images/div-0.png\" alt=\"Drawing\" align=\"left\" style=\"width: 800px\" />"
   ]
  },
  {
   "cell_type": "markdown",
   "metadata": {},
   "source": [
    "# Section - Why is Visualization Important?"
   ]
  },
  {
   "cell_type": "markdown",
   "metadata": {},
   "source": [
    "# <img src=\"./images/why-viz-0.png\" alt=\"Drawing\" align=\"left\" style=\"width: 800px\"/>"
   ]
  },
  {
   "cell_type": "markdown",
   "metadata": {},
   "source": [
    "<img src=\"./images/div-0.png\" alt=\"Drawing\" align=\"left\" style=\"width: 800px\" />"
   ]
  },
  {
   "cell_type": "markdown",
   "metadata": {},
   "source": [
    "<img src=\"./images/why-viz-1.png\" alt=\"drawing\" align=\"left\" style=\"width: 800px\"/>"
   ]
  },
  {
   "cell_type": "markdown",
   "metadata": {},
   "source": [
    "<img src=\"./images/div-0.png\" alt=\"Drawing\" align=\"left\" style=\"width: 800px\" />"
   ]
  },
  {
   "cell_type": "markdown",
   "metadata": {},
   "source": [
    "<img src=\"./images/why-viz-2.png\" alt=\"Drawing\" align=\"left\" style=\"width: 800px\"/>"
   ]
  },
  {
   "cell_type": "markdown",
   "metadata": {},
   "source": [
    "<img src=\"./images/div-0.png\" alt=\"Drawing\" align=\"left\" style=\"width: 800px\" />"
   ]
  },
  {
   "cell_type": "markdown",
   "metadata": {},
   "source": [
    "<img src=\"./images/why-viz-3.png\" alt=\"Drawing\" align=\"left\" style=\"width: 800px\"/>"
   ]
  },
  {
   "cell_type": "markdown",
   "metadata": {},
   "source": [
    "<img src=\"./images/div-0.png\" alt=\"Drawing\" align=\"left\" style=\"width: 800px\" />"
   ]
  },
  {
   "cell_type": "markdown",
   "metadata": {},
   "source": [
    "<img src=\"./images/why-viz-4.png\" alt=\"Drawing\" align=\"left\" style=\"width: 800px\"/>"
   ]
  },
  {
   "cell_type": "markdown",
   "metadata": {},
   "source": [
    "<img src=\"./images/div-0.png\" alt=\"Drawing\" align=\"left\" style=\"width: 800px\" />"
   ]
  },
  {
   "cell_type": "markdown",
   "metadata": {},
   "source": [
    "# Famous (Constructed) Example - Anscombe's Quartet (1973)"
   ]
  },
  {
   "cell_type": "markdown",
   "metadata": {},
   "source": [
    "Anscombe's Quartet consists of 4 seperate, two variable (x and y here), datasets that have the same mean and standard deviation"
   ]
  },
  {
   "cell_type": "markdown",
   "metadata": {},
   "source": [
    "<img src=\"./images/anscombes-0.png\" alt=\"drawing\" align=\"left\" style=\"width: 400px;\"/>"
   ]
  },
  {
   "cell_type": "markdown",
   "metadata": {},
   "source": [
    "With nearly identical descriptive statistics"
   ]
  },
  {
   "cell_type": "markdown",
   "metadata": {},
   "source": [
    "<img src=\"./images/anscombes-2.png\" alt=\"drawing\" align=\"left\" style=\"width: 800px;\"/>"
   ]
  },
  {
   "cell_type": "markdown",
   "metadata": {},
   "source": [
    "But when visualized:"
   ]
  },
  {
   "cell_type": "markdown",
   "metadata": {},
   "source": [
    "<img src=\"./images/anscombes-1.png\" alt=\"drawing\" align=\"left\" style=\"width: 600px;\"/>\n"
   ]
  },
  {
   "cell_type": "markdown",
   "metadata": {},
   "source": [
    "<img src=\"./images/div-0.png\" alt=\"Drawing\" align=\"left\" style=\"width: 800px\" />"
   ]
  },
  {
   "cell_type": "markdown",
   "metadata": {},
   "source": [
    "# Visualizing Voter Fraud\n",
    "\n",
    "<img src=\"./images/voter-fraud-0.jpg\" alt=\"Drawing\" align=\"left\" style=\"width: 400px;\"/>"
   ]
  },
  {
   "cell_type": "markdown",
   "metadata": {},
   "source": [
    "<img src=\"./images/div-0.png\" alt=\"Drawing\" align=\"left\" style=\"width: 800px\" />"
   ]
  },
  {
   "cell_type": "markdown",
   "metadata": {},
   "source": [
    "# Measles Vaccine"
   ]
  },
  {
   "cell_type": "markdown",
   "metadata": {},
   "source": [
    "<img src=\"./images/measles-0.png\" alt=\"drawing\" align=\"left\" style=\"width: 1000px;\"/>"
   ]
  },
  {
   "cell_type": "markdown",
   "metadata": {},
   "source": [
    "<img src=\"./images/div-0.png\" alt=\"Drawing\" align=\"left\" style=\"width: 800px\" />"
   ]
  },
  {
   "cell_type": "markdown",
   "metadata": {},
   "source": [
    "# Cholera - London 1854 (Dr. John Snow) "
   ]
  },
  {
   "cell_type": "markdown",
   "metadata": {},
   "source": [
    "<img src=\"./images/snow-0.png\" alt=\"drawing\" align=\"left\" style=\"width:800px;\"/>"
   ]
  },
  {
   "cell_type": "markdown",
   "metadata": {},
   "source": [
    "<img src=\"./images/div-0.png\" alt=\"Drawing\" align=\"left\" style=\"width: 800px\" />"
   ]
  },
  {
   "cell_type": "markdown",
   "metadata": {},
   "source": [
    "# Napolean's March on Moscow 1812 (Minard)\n",
    "\n",
    "<img src=\"./images/minard-0.png\" alt=\"Drawing\" align=\"left\" style=\"width: 1000px\"/>"
   ]
  },
  {
   "cell_type": "markdown",
   "metadata": {},
   "source": [
    "<img src=\"./images/div-0.png\" alt=\"Drawing\" align=\"left\" style=\"width: 800px\" />"
   ]
  },
  {
   "cell_type": "markdown",
   "metadata": {},
   "source": [
    "# Small Multiples 1878 (Eadweard Muybridge)\n",
    "\n",
    "Small multiples repeat the chart using the same axes for both x and y.  This allows them to be easily compared.  This is also an example of using a photographic data.\n",
    "\n",
    "<img src=\"./images/small-multiples-0.jpg\" alt=\"Drawing\" align=\"left\" style=\"width: 1000px\"/>"
   ]
  },
  {
   "cell_type": "markdown",
   "metadata": {},
   "source": [
    "<img src=\"./images/div-0.png\" alt=\"Drawing\" align=\"left\" style=\"width: 800px\" />"
   ]
  },
  {
   "cell_type": "markdown",
   "metadata": {},
   "source": [
    "# Summary - Why Visualize?\n",
    "\n",
    "- It comes naturally to us and is fast, relying on the visual cortex to quickly integrate/assess information \n",
    "- Allows us to \"see\" patterns, relationships, trends and outliers in data\n",
    "- Overcomes limitations of our working memory by mapping large amounts of data onto visual channels (aesthetics)\n",
    "- Allows us to effectively communicate insights to others  "
   ]
  },
  {
   "cell_type": "markdown",
   "metadata": {},
   "source": [
    "<img src=\"./images/div-0.png\" alt=\"Drawing\" align=\"left\" style=\"width: 800px\" />"
   ]
  },
  {
   "cell_type": "markdown",
   "metadata": {},
   "source": [
    "# Section - Introduction to Tableau"
   ]
  },
  {
   "cell_type": "markdown",
   "metadata": {},
   "source": [
    "## Structured Data"
   ]
  },
  {
   "cell_type": "markdown",
   "metadata": {},
   "source": [
    "<img src=\"./images/structured-data-0.png\" alt=\"drawing\" align=\"left\" style=\"width:700px\" />"
   ]
  },
  {
   "cell_type": "markdown",
   "metadata": {},
   "source": [
    "<img src=\"./images/div-0.png\" alt=\"Drawing\" align=\"left\" style=\"width: 800px\" />"
   ]
  },
  {
   "cell_type": "markdown",
   "metadata": {},
   "source": [
    "Quantitative vs. Qualitative Scales"
   ]
  },
  {
   "cell_type": "markdown",
   "metadata": {},
   "source": [
    "<img src=\"./images/var-to-scale-map-0.png\" alt=\"drawing\" align=\"left\" style=\"width:800px\" />"
   ]
  },
  {
   "cell_type": "markdown",
   "metadata": {},
   "source": [
    "**Note:** When you connect to a data source in Tableau, Tableau will automatically classify each attribute in the data set as either a ***Dimension*** or as a ***Measure***.  Dimensions are Qualitative data while Measures are Quantitative data. Dates are treated as Dimensions by default, but can also be treated as a Measure.  Text is typically only treated as a Dimension but often is practically used only to label Marks in a graph."
   ]
  },
  {
   "cell_type": "markdown",
   "metadata": {},
   "source": [
    "<img src=\"./images/div-0.png\" alt=\"Drawing\" align=\"left\" style=\"width: 800px\" />"
   ]
  },
  {
   "cell_type": "markdown",
   "metadata": {},
   "source": [
    "## Introduction to Tableau - A simple example...\n",
    "\n",
    "We will visualize Anscombe's Quartet using Tableau as a simple introduction\n",
    "\n",
    "### High Level Steps To Follow:\n",
    "- Install and bring up Tableau (See notes below on installing Tableau)\n",
    "- Connect to the anscombe.csv dataset\n",
    "- Go to the first \"Sheet\" (sheets are where you build visualizations) \n",
    "- Drag \"X\" measure to columns shelf\n",
    "- Drag \"Y\" measure to rows shelf\n",
    "- Note: Tableau, by default, aggreggates measures\n",
    "- Deselect \"Aggregate Measures\" under the \"Analysis\" menu\n",
    "- Change the mark type to a Circle in the drop down at the top of the Marks card\n",
    "- Drag the Set dimension to the Color shelf on the Marks card\n",
    "- Drag the Set dimension to the Filter shelf\n",
    "- Select to Show the Filter (drop down on the attribute sitting in the Filter shelf)\n",
    "- Fit a curve to the dataset by selecting the Analytics table and dragging a linear model to the sheet"
   ]
  },
  {
   "cell_type": "markdown",
   "metadata": {},
   "source": [
    "### Tableau Desktop - Installation Notes\n",
    "\n",
    "Tableau Desktop is a free version of Tableau.  It is available for Windows and Mac computers. I recommend using the following link to install Tableau if you do not already have a license: https://www.tableau.com/academic/students or if you simply type \"Tableau for students\" in your browser it should take you to this link.  \n",
    "\n",
    "Click on the button labeled \"Get Tableau for Free\" enter the required information.  A license is sent to the e-mail account specified, and you should enter this license into Tableau the first time you start the app.\n",
    "\n",
    "Note that you do not need to establish an account with Tableau (i.e. an account via the www.tableau.com website to get the desktop version of Tableau).  However, doing so will give you access to free training, videos, etc...so it's recommended that you do create an account."
   ]
  },
  {
   "cell_type": "markdown",
   "metadata": {},
   "source": [
    "<img src=\"./images/div-0.png\" alt=\"Drawing\" align=\"left\" style=\"width: 800px\" />"
   ]
  },
  {
   "cell_type": "markdown",
   "metadata": {},
   "source": [
    "# Section - Moving from Data to Visualization "
   ]
  },
  {
   "cell_type": "markdown",
   "metadata": {},
   "source": [
    "# Visual Perception and Data Visualization "
   ]
  },
  {
   "cell_type": "markdown",
   "metadata": {},
   "source": [
    "Our visual system is complex and tries to *actively* construct a representation of what it is looking at.  We will look at the structure of our visual system in later lectures in more detail, for now, what we want to look are 3 important aspects our our visual perception that can have both positive and negative effects on the act of seeing data:\n",
    "\n",
    "1. Low Level Visual Effects - Edges, contrast and color and optical illusions\n",
    "2. Preattentive Attributes - what \"pops out\" at you in your visual search\n",
    "3. Gestalt Rules - how our brains constantly try to \"find\" structure in what we are looking at"
   ]
  },
  {
   "cell_type": "markdown",
   "metadata": {},
   "source": [
    "<img src=\"./images/div-0.png\" alt=\"Drawing\" align=\"left\" style=\"width: 800px\" />"
   ]
  },
  {
   "cell_type": "markdown",
   "metadata": {},
   "source": [
    "# Low Level Visual Effects "
   ]
  },
  {
   "cell_type": "markdown",
   "metadata": {},
   "source": [
    "Hermann Grid Effect (1870) - note \"ghosts\" at intersections unless you focus on the intersection\n",
    "\n",
    "<img src=\"./images/grid-effect-0.png\" alt=\"Drawing\" align=\"left\" style=\"width: 300px\" />\n"
   ]
  },
  {
   "cell_type": "markdown",
   "metadata": {},
   "source": [
    "<img src=\"./images/div-0.png\" alt=\"Drawing\" align=\"left\" style=\"width: 800px\" />"
   ]
  },
  {
   "cell_type": "markdown",
   "metadata": {},
   "source": [
    "Mach Bands\n",
    "\n",
    "<img src=\"./images/mach-bands-0.png\" alt=\"drawing\" align=\"left\" style=\"width: 400px\" />"
   ]
  },
  {
   "cell_type": "markdown",
   "metadata": {},
   "source": [
    "<img src=\"./images/div-0.png\" alt=\"Drawing\" align=\"left\" style=\"width: 800px\" />"
   ]
  },
  {
   "cell_type": "markdown",
   "metadata": {},
   "source": [
    "Adelson Checkerboard Illusion - Are A & B the same grayscale brightness?\n",
    "\n",
    "<img src=\"./images/checkerboard-0.png\" alt=\"drawing\" align=\"left\" style=\"width: 400px\" />"
   ]
  },
  {
   "cell_type": "markdown",
   "metadata": {},
   "source": [
    "<img src=\"./images/div-0.png\" alt=\"Drawing\" align=\"left\" style=\"width: 800px\" />"
   ]
  },
  {
   "cell_type": "markdown",
   "metadata": {},
   "source": [
    "To see it...block out everything that surounds A & B (I used Visio...I added some transparancy so you can see what I did)\n",
    "\n",
    "<img src=\"./images/checkerboard-1.png\" alt=\"Drawing\" align=\"left\" style=\"width: 400px\" />"
   ]
  },
  {
   "cell_type": "markdown",
   "metadata": {},
   "source": [
    "<img src=\"./images/div-0.png\" alt=\"Drawing\" align=\"left\" style=\"width: 800px\" />"
   ]
  },
  {
   "cell_type": "markdown",
   "metadata": {},
   "source": [
    "We see edge contrast better in moncchrome than in color:\n",
    "\n",
    "<img src=\"./images/ware-contrast-0.png\" alt=\"Drawing\" align=\"left\" style=\"width: 200px\" />"
   ]
  },
  {
   "cell_type": "markdown",
   "metadata": {},
   "source": [
    "<img src=\"./images/div-0.png\" alt=\"Drawing\" align=\"left\" style=\"width: 800px\" />"
   ]
  },
  {
   "cell_type": "markdown",
   "metadata": {},
   "source": [
    "# Preattentive Attributes"
   ]
  },
  {
   "cell_type": "markdown",
   "metadata": {},
   "source": [
    "- Preattentive Attributes are visual elements or properties that we notice without conscious effort.  \n",
    "- Rapidly processed by our brains (on the order of a couple hundred milleseconds)\n",
    "- Form important building blocks for visualizations\n",
    "\n",
    "<img src=\"./images/preattentive-0.png\" alt=\"Drawing\" align=\"left\" style=\"width: 600px\" />"
   ]
  },
  {
   "cell_type": "markdown",
   "metadata": {},
   "source": [
    "<img src=\"./images/div-0.png\" alt=\"Drawing\" align=\"left\" style=\"width: 800px\" />"
   ]
  },
  {
   "cell_type": "markdown",
   "metadata": {},
   "source": [
    "# Gestalt Rules \n",
    "\n",
    "- Our brain is constantly trying to find structure in what we are looking at\n",
    "- We make strong and subconcious inferences regarding the visual components in a scene\n",
    "- These inferences, when relatively sparse visual information available, are called ***Gestalt Rules***\n",
    "- These are not purely perceptual effects - we infer relationships between objects that go beyond what is strictly visible\n",
    "- Gestalt rules are applicable to related fields such as User Interface (UI) design User Experience (UX) and visual design in general.\n",
    "\n",
    "\n",
    "Consider the figures below - which has more structure?\n",
    "\n",
    "<img src=\"./images/gestalt-structure-0.png\" alt=\"Drawing\" align=\"left\" style=\"width: 600px\" />\n"
   ]
  },
  {
   "cell_type": "markdown",
   "metadata": {},
   "source": [
    "<img src=\"./images/div-0.png\" alt=\"Drawing\" align=\"left\" style=\"width: 800px\" />"
   ]
  },
  {
   "cell_type": "markdown",
   "metadata": {},
   "source": [
    "# Gestalt Rules \n",
    "\n",
    "1. Proximity - Things that are spatially near to one another seem to be related\n",
    "2. Similarity - Things that look alike seem to be related\n",
    "3. Connection - Things that are visually tied to one another seem to be related\n",
    "4. Continuity - Partially hidden objects are completed into familiar shapes\n",
    "5. Closure - Incomplete shapes are perceived as complete\n",
    "6. Figure and Ground - Visual elements are taken to be either in the foreground or in the background\n",
    "7. Common Fate - Elements sharing a direction of movement are perceived as a unit"
   ]
  },
  {
   "cell_type": "markdown",
   "metadata": {},
   "source": [
    "<img src=\"./images/div-0.png\" alt=\"Drawing\" align=\"left\" style=\"width: 800px\" />"
   ]
  },
  {
   "cell_type": "markdown",
   "metadata": {},
   "source": [
    "# Gestalt Rules - Some Examples... "
   ]
  },
  {
   "cell_type": "markdown",
   "metadata": {},
   "source": [
    "Proximity - Things that are spatially near to one another seem to be related:\n",
    "\n",
    "<img src=\"./images/gestalt-proximity-0.png\" alt=\"drawing\" align=\"left\" style=\"width: 400px\" />"
   ]
  },
  {
   "cell_type": "markdown",
   "metadata": {},
   "source": [
    "<img src=\"./images/div-0.png\" alt=\"Drawing\" align=\"left\" style=\"width: 800px\" />"
   ]
  },
  {
   "cell_type": "markdown",
   "metadata": {},
   "source": [
    "Similarity - Things that look alike seem to be related:\n",
    "\n",
    "<img src=\"./images/gestalt-similarity-0.png\" alt=\"drawing\" align=\"left\" style=\"width: 300px\" />\n"
   ]
  },
  {
   "cell_type": "markdown",
   "metadata": {},
   "source": [
    "<img src=\"./images/div-0.png\" alt=\"Drawing\" align=\"left\" style=\"width: 800px\" />"
   ]
  },
  {
   "cell_type": "markdown",
   "metadata": {},
   "source": [
    "Connection - Things that are visually tied to one another seem to be related:\n",
    "\n",
    "<img src=\"./images/gestalt-connectivity-0.png\" alt=\"drawing\" align=\"left\" style=\"width: 300px\" />"
   ]
  },
  {
   "cell_type": "markdown",
   "metadata": {},
   "source": [
    "<img src=\"./images/div-0.png\" alt=\"Drawing\" align=\"left\" style=\"width: 800px\" />"
   ]
  },
  {
   "cell_type": "markdown",
   "metadata": {},
   "source": [
    "Continuity - Partially hidden objects are completed into familiar shapes:\n",
    "\n",
    "<img src=\"./images/gestalt-continuity-0.png\" alt=\"Drawing\" align=\"left\" style=\"width: 300px\" />\n"
   ]
  },
  {
   "cell_type": "markdown",
   "metadata": {},
   "source": [
    "<img src=\"./images/div-0.png\" alt=\"Drawing\" align=\"left\" style=\"width: 800px\" />"
   ]
  },
  {
   "cell_type": "markdown",
   "metadata": {},
   "source": [
    "Closure - Incomplete shapes are perceived as complete:\n",
    "\n",
    "<img src=\"./images/gestalt-closure-2.png\" alt=\"drawing\" align=\"left\" style=\"width: 300px\" />\n"
   ]
  },
  {
   "cell_type": "markdown",
   "metadata": {},
   "source": [
    "<img src=\"./images/div-0.png\" alt=\"Drawing\" align=\"left\" style=\"width: 800px\" />"
   ]
  },
  {
   "cell_type": "markdown",
   "metadata": {},
   "source": [
    "Figure and Ground - Visual elements are taken to be either in the foreground or in the background:\n",
    "\n",
    "<img src=\"./images/gestalt-fg-0.png\" alt=\"drawing\" align=\"left\" style=\"width: 300px\" />\n"
   ]
  },
  {
   "cell_type": "markdown",
   "metadata": {},
   "source": [
    "<img src=\"./images/div-0.png\" alt=\"Drawing\" align=\"left\" style=\"width: 800px\" />"
   ]
  },
  {
   "cell_type": "markdown",
   "metadata": {},
   "source": [
    "Common Fate - Elements sharing a direction of movement are perceived as a unit:\n",
    "\n",
    "<img src=\"./images/gestalt-common-fate-0.png\" alt=\"drawing\" align=\"left\" style=\"width: 300px\" />\n"
   ]
  },
  {
   "cell_type": "markdown",
   "metadata": {},
   "source": [
    "<img src=\"./images/div-0.png\" alt=\"Drawing\" align=\"left\" style=\"width: 800px\" />"
   ]
  },
  {
   "cell_type": "markdown",
   "metadata": {},
   "source": [
    "# Mapping Data onto Aesthetics"
   ]
  },
  {
   "cell_type": "markdown",
   "metadata": {},
   "source": [
    "# Common Aesthetics"
   ]
  },
  {
   "cell_type": "markdown",
   "metadata": {},
   "source": [
    "<img src=\"./images/aesthetics-0.png\" alt=\"drawing\" align=\"left\" style=\"width: 600px\" />"
   ]
  },
  {
   "cell_type": "markdown",
   "metadata": {},
   "source": [
    "<img src=\"./images/div-0.png\" alt=\"Drawing\" align=\"left\" style=\"width: 800px\" />"
   ]
  },
  {
   "cell_type": "markdown",
   "metadata": {},
   "source": [
    "# Coordinate Systems"
   ]
  },
  {
   "cell_type": "markdown",
   "metadata": {},
   "source": [
    "# Cartesian Coordinate System\n",
    "\n",
    "<img src=\"./images/cartesian-0.png\" alt=\"drawing\" align=\"left\" style=\"width: 600px\" />"
   ]
  },
  {
   "cell_type": "markdown",
   "metadata": {},
   "source": [
    "<img src=\"./images/div-0.png\" alt=\"Drawing\" align=\"left\" style=\"width: 800px\" />"
   ]
  },
  {
   "cell_type": "markdown",
   "metadata": {},
   "source": [
    "Generally it is ok to stretch an axis if the attributes on each axis are using different scales\n",
    "\n",
    "<img src=\"./images/stretch-0.png\" alt=\"drawing\" align=\"left\" style=\"width: 600px\" />"
   ]
  },
  {
   "cell_type": "markdown",
   "metadata": {},
   "source": [
    "<img src=\"./images/div-0.png\" alt=\"Drawing\" align=\"left\" style=\"width: 800px\" />"
   ]
  },
  {
   "cell_type": "markdown",
   "metadata": {},
   "source": [
    "\n",
    "Here is an example where stretching an axis is probably not appropriate:\n",
    "\n",
    "<img src=\"./images/stretch-1.png\" alt=\"drawing\" align=\"left\" style=\"width: 600px\" />"
   ]
  },
  {
   "cell_type": "markdown",
   "metadata": {},
   "source": [
    "<img src=\"./images/div-0.png\" alt=\"Drawing\" align=\"left\" style=\"width: 800px\" />"
   ]
  },
  {
   "cell_type": "markdown",
   "metadata": {},
   "source": [
    "<img src=\"./images/linear-log-scales-0.png\" alt=\"drawing\" align=\"left\" style=\"width: 600px\" />"
   ]
  },
  {
   "cell_type": "markdown",
   "metadata": {},
   "source": [
    "<img src=\"./images/div-0.png\" alt=\"Drawing\" align=\"left\" style=\"width: 800px\" />"
   ]
  },
  {
   "cell_type": "markdown",
   "metadata": {},
   "source": [
    "## In class Demo: Virginia County Population (Example of Log Scales in Tableau) \n",
    "- Open Tableau and connect to va-pop-2018-extract-0.xlsx (Excel)\n",
    "- Note: Median value for VA counties is 26575\n",
    "- Follow in class demo...(Wilke shows a similar approach for Texas counties - see textbook)\n",
    "- Build map of VA counties and color by population\n",
    "- Build a line chart of VA counties - define a calculated field using median value - display on a log y axis"
   ]
  },
  {
   "cell_type": "markdown",
   "metadata": {},
   "source": [
    "<img src=\"./images/div-0.png\" alt=\"Drawing\" align=\"left\" style=\"width: 800px\" />"
   ]
  },
  {
   "cell_type": "markdown",
   "metadata": {},
   "source": [
    "<img src=\"./images/polar-0.png\" alt=\"drawing\" align=\"left\" style=\"width: 600px\" />"
   ]
  },
  {
   "cell_type": "markdown",
   "metadata": {},
   "source": [
    "<img src=\"./images/div-0.png\" alt=\"Drawing\" align=\"left\" style=\"width: 800px\" />"
   ]
  },
  {
   "cell_type": "markdown",
   "metadata": {},
   "source": [
    "<img src=\"./images/polar-ex-0.png\" alt=\"drawing\" align=\"left\" style=\"width: 600px\" />"
   ]
  },
  {
   "cell_type": "markdown",
   "metadata": {},
   "source": [
    "<img src=\"./images/div-0.png\" alt=\"Drawing\" align=\"left\" style=\"width: 800px\" />"
   ]
  },
  {
   "cell_type": "markdown",
   "metadata": {},
   "source": [
    "# Color Scales\n",
    "\n",
    "## Uses of Color\n",
    "- Color to Distinquish\n",
    "- Color to Represent Data Values\n",
    "    - Sequential Scales\n",
    "    - Diverging Scales\n",
    "- Color to Highlight\n",
    "- Color Deficiencies"
   ]
  },
  {
   "cell_type": "markdown",
   "metadata": {},
   "source": [
    "<img src=\"./images/div-0.png\" alt=\"Drawing\" align=\"left\" style=\"width: 800px\" />"
   ]
  },
  {
   "cell_type": "markdown",
   "metadata": {},
   "source": [
    "# Color to Distinquish\n",
    "\n",
    "<img src=\"./images/qualitative-scales-0.png\" alt=\"drawing\" align=\"left\" style=\"width: 600px\" />  "
   ]
  },
  {
   "cell_type": "markdown",
   "metadata": {},
   "source": [
    "# Color to Distinquish (Tableau)\n",
    "\n",
    "<img src=\"./images/tableau-qualitative-color-picker-0.png\" alt=\"drawing\" align=\"left\" style=\"width: 400px\" />\n"
   ]
  },
  {
   "cell_type": "markdown",
   "metadata": {},
   "source": [
    "<img src=\"./images/div-0.png\" alt=\"Drawing\" align=\"left\" style=\"width: 800px\" />"
   ]
  },
  {
   "cell_type": "markdown",
   "metadata": {},
   "source": [
    "# Color to Represent Data - Sequential Scales\n",
    "\n",
    "<img src=\"./images/sequential-scales-0.png\" alt=\"drawing\" align=\"left\" style=\"width: 600px\" />"
   ]
  },
  {
   "cell_type": "markdown",
   "metadata": {},
   "source": [
    "# Color to Represent Data - Sequential Scales (Tableau)\n",
    "\n",
    "<img src=\"./images/tableau-sequential-color-picker-0.png\" alt=\"drawing\" align=\"left\" style=\"width: 300px\" />"
   ]
  },
  {
   "cell_type": "markdown",
   "metadata": {},
   "source": [
    "<img src=\"./images/div-0.png\" alt=\"Drawing\" align=\"left\" style=\"width: 800px\" />"
   ]
  },
  {
   "cell_type": "markdown",
   "metadata": {},
   "source": [
    "# Color to Represent Data - Diverging Scales\n",
    "\n",
    "\n",
    "<img src=\"./images/diverging-scales-0.png\" alt=\"drawing\" align=\"left\" style=\"width: 600px\" />"
   ]
  },
  {
   "cell_type": "markdown",
   "metadata": {},
   "source": [
    "# Color to Represent Data - Diverging Scales\n",
    "\n",
    "\n",
    "<img src=\"./images/tableau-divergen-color-picker-0.png\" alt=\"drawing\" align=\"left\" style=\"width: 300px\" />"
   ]
  },
  {
   "cell_type": "markdown",
   "metadata": {},
   "source": [
    "<img src=\"./images/div-0.png\" alt=\"Drawing\" align=\"left\" style=\"width: 800px\" />"
   ]
  },
  {
   "cell_type": "markdown",
   "metadata": {},
   "source": [
    "# Color to Highlight\n",
    "\n",
    "<img src=\"./images/accent-scales-0.png\" alt=\"drawing\" align=\"left\" style=\"width: 600px\" />"
   ]
  },
  {
   "cell_type": "markdown",
   "metadata": {},
   "source": [
    "<img src=\"./images/div-0.png\" alt=\"Drawing\" align=\"left\" style=\"width: 800px\" />"
   ]
  },
  {
   "cell_type": "markdown",
   "metadata": {},
   "source": [
    "# How many variables are mapped in this visualization?"
   ]
  },
  {
   "cell_type": "markdown",
   "metadata": {},
   "source": [
    "<img src=\"./images/scales-ex-0.png\" alt=\"drawing\" align=\"left\" style=\"width: 600px\" />"
   ]
  },
  {
   "cell_type": "markdown",
   "metadata": {},
   "source": [
    "<img src=\"./images/div-0.png\" alt=\"Drawing\" align=\"left\" style=\"width: 800px\" />"
   ]
  },
  {
   "cell_type": "markdown",
   "metadata": {},
   "source": [
    "## Student Exercise 1\n",
    "\n",
    "Using the mtcars.csv dataset, try to replicate the visualization above using Tableau\n",
    "\n",
    "Note: For this exercise, you can leave the weight as a float variable - no need to convert to an integer as is done above\n",
    "\n",
    "- Hints:\n",
    "    - Start by selecting the Marks type as \"Shape\" from the Marks card\n",
    "    - As this is basically a scatterplot, so turn off aggregate measures\n",
    "    - Then drag the appropriate variable to the columns and rows shelves\n",
    "    - Then drag the other variables to the correct shelves on the Marks card (color, size, symbol)\n",
    "    - Double click on each axis to modify the origin and tick marks to match the diagram\n",
    "    - Then, do further refinements (Add title, change color scheme, etc...)"
   ]
  },
  {
   "cell_type": "markdown",
   "metadata": {},
   "source": [
    "<img src=\"./images/div-0.png\" alt=\"Drawing\" align=\"left\" style=\"width: 800px\" />"
   ]
  },
  {
   "cell_type": "markdown",
   "metadata": {},
   "source": [
    "# Color Vision Deficiencies (CVD)\n",
    "\n",
    "- Approximately 8% of males and 0.5% of females suffer from some form of color-vision deficiency.  Percentages can go up in certain regions (e.g. Scandanavia 10-11% of men).\n",
    "\n",
    "- Note: Suffix \"-anomaly\" refers to some impairment, while \"-anopia\" means complete absence\n",
    "\n",
    "- Definitions:\n",
    "    - deuteranomaly (most common form of CVD) - means green weak\n",
    "    - deuteranopia - means green blind\n",
    "    - protanomaly - means red weak\n",
    "    - protanopia - means red blind\n",
    "    - tritanomaly (very rare) - means blue weak\n",
    "    - tritanopia (very rare) - means blue blind\n",
    "    - Achromatopsia/Monochromacy (very rare) - complete color blindness \n",
    "    - Trichromacy - normal color vision   \n",
    "\n",
    "\n",
    "- There are also acquired forms of CVD due to aging"
   ]
  },
  {
   "cell_type": "markdown",
   "metadata": {},
   "source": [
    "- The Eye contains two types of photoreceptors - Rods and Cones\n",
    "- Rods are responsible for reception at low light levels and have low spatial resolution\n",
    "- Cones are responsible for color vision and have high spatial resolution \n",
    "\n",
    "- There are 3 types of cones, and each has a frequency response curve:\n",
    "<img src=\"./images/cones-response-0.png\" alt=\"Drawing\" align=\"left\" style=\"width: 600px\" />"
   ]
  },
  {
   "cell_type": "markdown",
   "metadata": {},
   "source": [
    "<img src=\"./images/div-0.png\" alt=\"Drawing\" align=\"left\" style=\"width: 800px\" />"
   ]
  },
  {
   "cell_type": "markdown",
   "metadata": {},
   "source": [
    "# Color Scales for CVD\n",
    "\n",
    "Sequential scales (if properly designed) generally do not cause a problem w.r.t CVD \n",
    "\n",
    "<img src=\"./images/cvd-0.png\" alt=\"drawing\" align=\"left\" style=\"width: 500px\" />"
   ]
  },
  {
   "cell_type": "markdown",
   "metadata": {},
   "source": [
    "Divergent and (especially) qualitative scales are more difficult.  Note here how the divergent scale complete disappears for deuteranomaly CVD:\n",
    "\n",
    "\n",
    "<img src=\"./images/cvd-1.png\" alt=\"drawing\" align=\"left\" style=\"width: 500px\" />"
   ]
  },
  {
   "cell_type": "markdown",
   "metadata": {},
   "source": [
    "And in this case, a blue green contrast divergent scale becomes indistinquishable under tritanomaly:\n",
    "\n",
    "\n",
    "<img src=\"./images/cvd-2.png\" alt=\"drawing\" align=\"left\" style=\"width: 500px\" />"
   ]
  },
  {
   "cell_type": "markdown",
   "metadata": {},
   "source": [
    "An example of a divergent scale that works for most CVD:\n",
    "\n",
    "<img src=\"./images/cvd-3.png\" alt=\"drawing\" align=\"left\" style=\"width: 500px\" />"
   ]
  },
  {
   "cell_type": "markdown",
   "metadata": {},
   "source": [
    "Qualitative scales are the most challenging since there all colors need to be distinquished from one another.  A qualitative scale developed for CVD:\n",
    "\n",
    "<img src=\"./images/cvd-5.png\" alt=\"drawing\" align=\"left\" style=\"width:500px\" />"
   ]
  },
  {
   "cell_type": "markdown",
   "metadata": {},
   "source": [
    "But because color perception is also dependent on the size of the visual elements shown, its best to run your visualization through a CVD simulation\n",
    "\n",
    "<img src=\"./images/cvd-4.png\" alt=\"drawing\" align=\"left\" style=\"width:500px\" />"
   ]
  },
  {
   "cell_type": "markdown",
   "metadata": {},
   "source": [
    "An online drag and drop simulator: [Coblis Color Blindness Simulator](https://www.color-blindness.com/coblis-color-blindness-simulator/) "
   ]
  },
  {
   "cell_type": "markdown",
   "metadata": {},
   "source": [
    "<img src=\"./images/div-0.png\" alt=\"Drawing\" align=\"left\" style=\"width: 800px\" />"
   ]
  },
  {
   "cell_type": "markdown",
   "metadata": {},
   "source": [
    "# Section - Data Science and Visualization"
   ]
  },
  {
   "cell_type": "markdown",
   "metadata": {},
   "source": [
    "# <img src=\"./images/ds-0.png\" alt=\"drawing\" align=\"left\" style=\"width:500px\" />"
   ]
  },
  {
   "cell_type": "markdown",
   "metadata": {},
   "source": [
    "<img src=\"./images/div-0.png\" alt=\"Drawing\" align=\"left\" style=\"width: 800px\" />"
   ]
  },
  {
   "cell_type": "markdown",
   "metadata": {},
   "source": [
    "<img src=\"./images/ds-1.png\" alt=\"drawing\" align=\"left\" style=\"width:800px\" />"
   ]
  },
  {
   "cell_type": "markdown",
   "metadata": {},
   "source": [
    "<img src=\"./images/div-0.png\" alt=\"Drawing\" align=\"left\" style=\"width: 800px\" />"
   ]
  },
  {
   "cell_type": "markdown",
   "metadata": {},
   "source": [
    "<img src=\"./images/ds-2.png\" alt=\"drawing\" align=\"left\" style=\"width:800px\" />"
   ]
  },
  {
   "cell_type": "markdown",
   "metadata": {},
   "source": [
    "<img src=\"./images/div-0.png\" alt=\"Drawing\" align=\"left\" style=\"width: 800px\" />"
   ]
  },
  {
   "cell_type": "markdown",
   "metadata": {},
   "source": [
    "# Section -  Visualization Checklist (The Basics)\n",
    "\n",
    "- Is the title present?\n",
    "\n",
    "- Can the subject and insights be rapidly understood? (5 Second Test) (Explanatory Visualizations)\n",
    "    - Note that you should ask others to review your visualizations regarding this point\n",
    "   \n",
    "   \n",
    "- Is the data being visualized relevant to the intended subject?\n",
    "\n",
    "- Are the axes correct and clearly labeled (if they are not implied)?\n",
    "    - Examples where axes are often strongly implied are geographic and time series contexts  \n",
    "   \n",
    "   \n",
    "- Are the fonts used consistent and of appropriate size to be readable?\n",
    "\n",
    "    - Be sure to evaluate this in the context of the document you are producing - not the graphical tool used  \n",
    "  \n",
    "     \n",
    "- Is there a good balance of context and data?\n",
    "\n",
    "- Has the use of gradient or highly saturated backgrounds been avoided?\n",
    "\n",
    "- Are the color scales used appropriate and has it been reviewed via CVD simulation?\n",
    "\n",
    "- Has the principle of proportional ink been met?\n",
    "\n",
    "- Is there a high data-to-ink ratio?\n",
    "\n",
    "- Has the use of gratuitous 3D been avoided?"
   ]
  },
  {
   "cell_type": "markdown",
   "metadata": {},
   "source": [
    "<img src=\"./images/div-0.png\" alt=\"Drawing\" align=\"left\" style=\"width: 800px\" />"
   ]
  },
  {
   "cell_type": "markdown",
   "metadata": {},
   "source": [
    "# Critique 1\n",
    "\n",
    "<img src=\"./images/critique-0.png\" alt=\"Drawing\" align=\"left\" style=\"width: 600px\" />"
   ]
  },
  {
   "cell_type": "markdown",
   "metadata": {},
   "source": [
    "<img src=\"./images/div-0.png\" alt=\"Drawing\" align=\"left\" style=\"width: 800px\" />"
   ]
  },
  {
   "cell_type": "markdown",
   "metadata": {},
   "source": [
    "# Critique 2\n",
    "\n",
    "<img src=\"./images/critique-1.png\" alt=\"Drawing\" align=\"left\" style=\"width: 800px\" />"
   ]
  },
  {
   "cell_type": "markdown",
   "metadata": {},
   "source": [
    "<img src=\"./images/div-0.png\" alt=\"Drawing\" align=\"left\" style=\"width: 800px\" />"
   ]
  },
  {
   "cell_type": "markdown",
   "metadata": {},
   "source": [
    "# Critique 3\n",
    "\n",
    "<img src=\"./images/critique-2.jpg\" alt=\"Drawing\" align=\"left\" style=\"width: 600px\" />"
   ]
  },
  {
   "cell_type": "markdown",
   "metadata": {},
   "source": [
    "<img src=\"./images/div-0.png\" alt=\"Drawing\" align=\"left\" style=\"width: 800px\" />"
   ]
  },
  {
   "cell_type": "markdown",
   "metadata": {},
   "source": [
    "# Critique 4\n",
    "\n",
    "<img src=\"./images/critique-3.png\" alt=\"Drawing\" align=\"left\" style=\"width: 600px\" />"
   ]
  },
  {
   "cell_type": "markdown",
   "metadata": {},
   "source": [
    "<img src=\"./images/div-0.png\" alt=\"Drawing\" align=\"left\" style=\"width: 800px\" />"
   ]
  },
  {
   "cell_type": "markdown",
   "metadata": {},
   "source": [
    "# A Tableau Geospatial Example (Per Country Metric) (Choropleth)\n",
    "\n",
    "<img src=\"./images/latency-0.png\" alt=\"Drawing\" align=\"left\" style=\"width:1000px\" />"
   ]
  },
  {
   "cell_type": "markdown",
   "metadata": {},
   "source": [
    "<img src=\"./images/div-0.png\" alt=\"Drawing\" align=\"left\" style=\"width: 800px\" />"
   ]
  },
  {
   "cell_type": "markdown",
   "metadata": {},
   "source": [
    "# References"
   ]
  },
  {
   "cell_type": "markdown",
   "metadata": {},
   "source": [
    "Title: Fundamentals of Data Visualization  \n",
    "Author: Claus O. Wilke   \n",
    "Publisher: O'Reilly Media Inc.  \n",
    "Edition: First Edition  \n",
    "ISBN: 9781492031086  \n",
    "<img src=\"./images/wilke-0.png\" alt=\"Drawing\" align=\"left\" style=\"width:200px\" />    "
   ]
  },
  {
   "cell_type": "markdown",
   "metadata": {},
   "source": [
    "<img src=\"./images/div-0.png\" alt=\"Drawing\" align=\"left\" style=\"width: 800px\" />"
   ]
  },
  {
   "cell_type": "markdown",
   "metadata": {},
   "source": [
    "# Reading Assignment \n",
    "\n",
    "\n",
    "\n",
    "- Read Wilke - Chp 2,3 and 4 (E-book available via the Library)\n",
    "- And: The Good, the Bad, and the Biased (In reading folder)\n",
    "\n",
    "<img src=\"./images/szafir-0.png\" alt=\"drawing\" align=\"left\" style=\"width:200px\" />"
   ]
  },
  {
   "cell_type": "markdown",
   "metadata": {},
   "source": [
    "<img src=\"./images/div-0.png\" alt=\"Drawing\" align=\"left\" style=\"width: 800px\" />"
   ]
  }
 ],
 "metadata": {
  "kernelspec": {
   "display_name": "Python 3",
   "language": "python",
   "name": "python3"
  },
  "language_info": {
   "codemirror_mode": {
    "name": "ipython",
    "version": 3
   },
   "file_extension": ".py",
   "mimetype": "text/x-python",
   "name": "python",
   "nbconvert_exporter": "python",
   "pygments_lexer": "ipython3",
   "version": "3.7.6"
  }
 },
 "nbformat": 4,
 "nbformat_minor": 4
}
