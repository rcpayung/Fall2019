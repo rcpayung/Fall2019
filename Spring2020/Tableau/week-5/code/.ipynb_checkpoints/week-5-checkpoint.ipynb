{
 "cells": [
  {
   "cell_type": "markdown",
   "metadata": {},
   "source": [
    "# CDS-301/501 - Scientific Information and Data Visualization"
   ]
  },
  {
   "cell_type": "markdown",
   "metadata": {},
   "source": [
    "<img src=\"./images/div-0.png\" alt=\"Drawing\" align=\"left\" style=\"width: 800px\" />"
   ]
  },
  {
   "cell_type": "markdown",
   "metadata": {},
   "source": [
    "# Python for Data Visualization "
   ]
  },
  {
   "cell_type": "markdown",
   "metadata": {},
   "source": [
    "<img src=\"./images/banner-0.png\" alt=\"Drawing\" align=\"left\" style=\"width: 400px\" />"
   ]
  },
  {
   "cell_type": "markdown",
   "metadata": {},
   "source": [
    "<img src=\"./images/div-0.png\" alt=\"Drawing\" align=\"left\" style=\"width: 800px\" />"
   ]
  },
  {
   "cell_type": "markdown",
   "metadata": {},
   "source": [
    "# Plan/Objectives for Today\n",
    "\n",
    "* **Python - Basic Visualization Stack**\n",
    "    - Introduction to Python\n",
    "    - Introduction to Numpy\n",
    "    - Introduction to Pandas\n",
    "    - Introduction to Matplotlib\n",
    "    - Introduction to Seaborn\n",
    "* **Quiz 2**\n",
    "* **Review HW5, Reading Assignment**\n",
    "* **Student Exercise**\n",
    "* **Remaining time if any: Work in groups, start HW5, ask questions, etc...**\n",
    "* **Next week: Kernel Density Estimation (KDE) and Network Visualization**"
   ]
  },
  {
   "cell_type": "markdown",
   "metadata": {},
   "source": [
    "<img src=\"./images/div-0.png\" alt=\"Drawing\" align=\"left\" style=\"width: 800px\" />"
   ]
  },
  {
   "cell_type": "markdown",
   "metadata": {},
   "source": [
    "### Introduction to Python \n",
    "\n",
    "**Note:** Python is object oriented supporting classes, inheritance, multiple inheritance, polymorphism (it does not support encapsulation), but we will not in general be exploring its object oriented features.   "
   ]
  },
  {
   "cell_type": "markdown",
   "metadata": {},
   "source": [
    "**Import Modules** - Python programs typically start with a set of import statements indicated the modules needed by the program - for today's class we'll need these:"
   ]
  },
  {
   "cell_type": "code",
   "execution_count": 1,
   "metadata": {},
   "outputs": [],
   "source": [
    "import os\n",
    "import sys\n",
    "import numpy as np\n",
    "import pandas as pd\n",
    "from pandas.plotting import register_matplotlib_converters\n",
    "import matplotlib\n",
    "import matplotlib.pyplot as plt\n",
    "import seaborn as sns\n",
    "register_matplotlib_converters()"
   ]
  },
  {
   "cell_type": "code",
   "execution_count": 2,
   "metadata": {},
   "outputs": [
    {
     "name": "stdout",
     "output_type": "stream",
     "text": [
      "Python version: 3.7.3 (default, Apr 24 2019, 15:29:51) [MSC v.1915 64 bit (AMD64)]\n",
      "NumPy version: 1.16.4\n",
      "Pandas version: 0.24.2\n",
      "Matplotlib version: 3.1.0\n",
      "Seaborn version: 0.9.0\n"
     ]
    }
   ],
   "source": [
    "# check versions - these are relatively recent versions - its good to understand when looking up function defintions for these modules\n",
    "print('Python version:', sys.version)\n",
    "print('NumPy version:', np.__version__)\n",
    "print('Pandas version:', pd.__version__)\n",
    "print('Matplotlib version:', matplotlib.__version__)\n",
    "print('Seaborn version:', sns.__version__)"
   ]
  },
  {
   "cell_type": "markdown",
   "metadata": {},
   "source": [
    "**Built in Basic Data Types - Integers, Floats, Complex Numbers, and Strings**\n",
    "- Note: Two additional types (used less often, but available if needed)\n",
    "    - bytearray - a series of mutable bytes \n",
    "    - bytes - an immutable bytearray"
   ]
  },
  {
   "cell_type": "markdown",
   "metadata": {},
   "source": [
    "**Integers**"
   ]
  },
  {
   "cell_type": "code",
   "execution_count": 3,
   "metadata": {},
   "outputs": [
    {
     "name": "stdout",
     "output_type": "stream",
     "text": [
      "17 <class 'int'>\n"
     ]
    }
   ],
   "source": [
    "# Integers\n",
    "i = 10 + 7\n",
    "print(i, type(i)) # type built-in function"
   ]
  },
  {
   "cell_type": "markdown",
   "metadata": {},
   "source": [
    "**Floating Point and Complex**"
   ]
  },
  {
   "cell_type": "code",
   "execution_count": 4,
   "metadata": {},
   "outputs": [
    {
     "name": "stdout",
     "output_type": "stream",
     "text": [
      "5.42 <class 'float'>\n",
      "2.328089345364563\n",
      "c =  (1+3j) <class 'complex'>\n"
     ]
    }
   ],
   "source": [
    "# Floating Point\n",
    "d = 2.71 * 2.0\n",
    "print(d, type(d))\n",
    "print(np.sqrt(d)) # numpy square root\n",
    "\n",
    "# Complex Numbers\n",
    "c = 1 + 3j\n",
    "print('c = ', c, type(c))"
   ]
  },
  {
   "cell_type": "markdown",
   "metadata": {},
   "source": [
    "**Strings**"
   ]
  },
  {
   "cell_type": "code",
   "execution_count": 5,
   "metadata": {},
   "outputs": [
    {
     "name": "stdout",
     "output_type": "stream",
     "text": [
      "s = GMU <class 'str'>\n",
      "Indexing into strings: G\n",
      "Negative Indexing: U\n",
      "length of s: 3\n",
      "r = GMU Patriots\n",
      "q = Patriots\n",
      "multiline =  this is a multiline \n",
      "string\n",
      "\n"
     ]
    }
   ],
   "source": [
    "# Strings\n",
    "s = 'GMU'\n",
    "print('s =', s, type(s))\n",
    "print('Indexing into strings:', s[0])\n",
    "print('Negative Indexing:', s[-1])\n",
    "print('length of s:', len(s))\n",
    "\n",
    "r = s + ' Patriots' # + on strings is concatenation\n",
    "print('r =', r)\n",
    "\n",
    "# String Slices\n",
    "q = r[4:]\n",
    "print('q =', q)\n",
    "\n",
    "# Multiline String\n",
    "multiline = '''this is a multiline \n",
    "string\n",
    "'''\n",
    "print('multiline = ', multiline)"
   ]
  },
  {
   "cell_type": "markdown",
   "metadata": {},
   "source": [
    "**Boolean**"
   ]
  },
  {
   "cell_type": "code",
   "execution_count": 6,
   "metadata": {},
   "outputs": [
    {
     "name": "stdout",
     "output_type": "stream",
     "text": [
      "b = True\n",
      "Condition is True\n"
     ]
    }
   ],
   "source": [
    "# Booleans\n",
    "b = True\n",
    "print('b =', b)\n",
    "\n",
    "if (b):\n",
    "    print('Condition is True')\n",
    "else:\n",
    "    print('Condition is False')"
   ]
  },
  {
   "cell_type": "markdown",
   "metadata": {},
   "source": [
    "**Built in Data Structures - Lists, Dictionaries, Tuples, Sets**  \n",
    "**For many more details see:** https://docs.python.org/3.7/tutorial/datastructures.html"
   ]
  },
  {
   "cell_type": "markdown",
   "metadata": {},
   "source": [
    "**Lists**"
   ]
  },
  {
   "cell_type": "code",
   "execution_count": 7,
   "metadata": {},
   "outputs": [
    {
     "name": "stdout",
     "output_type": "stream",
     "text": [
      "list1[0]: George\n",
      "list1[-2]: [True, False]\n",
      "Length of list1: 6\n",
      "list1: ['George', 'Mason', 'University', 2020, [True, False], [], 'something new']\n",
      "George\n",
      "\n",
      "All the elements of list1:\n",
      "List Element: George\n",
      "List Element: Mason\n",
      "List Element: University\n",
      "List Element: 2020\n",
      "List Element: [True, False]\n",
      "List Element: []\n",
      "List Element: something new\n",
      "List Element: 0\n",
      "List Element: 1\n",
      "List Element: 2\n",
      "List Element: 3\n",
      "List Element: 4\n"
     ]
    }
   ],
   "source": [
    "# empty list \n",
    "list0 = [] \n",
    "\n",
    "# simple assignments \n",
    "list1 = ['George', 'Mason', 'University', 2020, [True, False], list0]  # elements of any type, including nested lists\n",
    "\n",
    "# list sequence operations \n",
    "print('list1[0]:', list1[0])\n",
    "print('list1[-2]:', list1[-2])\n",
    "print('Length of list1:', len(list1))\n",
    "\n",
    "# appending to a list - note, this is done in place\n",
    "list1.append('something new')\n",
    "print('list1:', list1)\n",
    "\n",
    "# accessing the list by index\n",
    "print(list1[0])\n",
    "\n",
    "# list comprehension\n",
    "list2 = [i for i in range(5)]\n",
    "\n",
    "# add the contents of one list to another\n",
    "list1.extend(list2)\n",
    "\n",
    "# accessing each element in the list \n",
    "print('\\nAll the elements of list1:')\n",
    "for elm in list1:\n",
    "    print('List Element:', elm)\n"
   ]
  },
  {
   "cell_type": "code",
   "execution_count": null,
   "metadata": {},
   "outputs": [],
   "source": []
  },
  {
   "cell_type": "markdown",
   "metadata": {},
   "source": [
    "**Dictionaries**"
   ]
  },
  {
   "cell_type": "code",
   "execution_count": 8,
   "metadata": {},
   "outputs": [
    {
     "name": "stdout",
     "output_type": "stream",
     "text": [
      "{'GMU': 47000, 'VCU': 35000, 'VPI': 33000, 'UVA': 28000, 'JMU': 23000}\n",
      "47000\n",
      "30000\n",
      "{'GMU': 47000, 'VCU': 35000, 'VPI': 33000, 'UVA': 28000, 'JMU': 23000, 'ODU': 30000}\n"
     ]
    }
   ],
   "source": [
    "# empty dictionary\n",
    "dict0 = {}\n",
    "\n",
    "# simple assignments \n",
    "dict1 = {'GMU': 47000, 'VCU': 35000, 'VPI': 33000, 'UVA': 28000, 'JMU':23000}\n",
    "print(dict1)\n",
    "\n",
    "# accessing the elements of the dictionary by key value\n",
    "print(dict1['GMU'])\n",
    "\n",
    "# what happens if a key isn't present?\n",
    "# Doesn't work - print(dict1['ODU'])\n",
    "\n",
    "if 'ODU' not in dict1: \n",
    "    dict1['ODU'] = 30000 # this adds it to the dictionary\n",
    "    \n",
    "print(dict1['ODU'])\n",
    "print(dict1)"
   ]
  },
  {
   "cell_type": "code",
   "execution_count": null,
   "metadata": {},
   "outputs": [],
   "source": []
  },
  {
   "cell_type": "markdown",
   "metadata": {},
   "source": [
    "**Tuples**"
   ]
  },
  {
   "cell_type": "code",
   "execution_count": 9,
   "metadata": {},
   "outputs": [
    {
     "name": "stdout",
     "output_type": "stream",
     "text": [
      "1 2\n",
      "1 2\n"
     ]
    }
   ],
   "source": [
    "# empty tuple - note tuples are immutable, so this will be empty forever \n",
    "tuple0 = () \n",
    "\n",
    "# simple assignments \n",
    "tuple1 = (1,2)\n",
    "\n",
    "# accessing a tuple as a sequence\n",
    "a = tuple1[0]\n",
    "b = tuple1[1]\n",
    "\n",
    "# accessing a tuple via unpacking \n",
    "c, d = tuple1\n",
    "\n",
    "print(a, b)\n",
    "print(c, d)"
   ]
  },
  {
   "cell_type": "code",
   "execution_count": null,
   "metadata": {},
   "outputs": [],
   "source": []
  },
  {
   "cell_type": "markdown",
   "metadata": {},
   "source": [
    "**Sets**"
   ]
  },
  {
   "cell_type": "code",
   "execution_count": 10,
   "metadata": {},
   "outputs": [
    {
     "name": "stdout",
     "output_type": "stream",
     "text": [
      "Set1 =  {'Green', 'Blue', 'Red', 'Cyan'}\n",
      "Set3 =  {'Yellow', 'Green', 'Cyan', 'Blue', 'Magenta', 'Red'}\n"
     ]
    }
   ],
   "source": [
    "# assigning empty set \n",
    "set0 = set() # note - no literal for an empty set\n",
    "\n",
    "# simple assignments \n",
    "set1 = {'Red', 'Green', 'Blue'}\n",
    "\n",
    "# add to a set\n",
    "set1.add('Cyan')\n",
    "print('Set1 = ', set1)\n",
    "\n",
    "# create union of two sets\n",
    "set2 = {'Magenta', 'Yellow'}\n",
    "set3 = set1 | set2\n",
    "print('Set3 = ', set3)\n"
   ]
  },
  {
   "cell_type": "code",
   "execution_count": null,
   "metadata": {},
   "outputs": [],
   "source": []
  },
  {
   "cell_type": "markdown",
   "metadata": {},
   "source": [
    "**Other Important Types - File, None**"
   ]
  },
  {
   "cell_type": "code",
   "execution_count": 11,
   "metadata": {},
   "outputs": [
    {
     "name": "stdout",
     "output_type": "stream",
     "text": [
      "None <class 'NoneType'>\n"
     ]
    }
   ],
   "source": [
    "# file type\n",
    "file = open('./results/output.log', 'w') # letter is to indicate mode - w for writing, r for reading, a for append \n",
    "file.write('log message 1\\n') # note use of '\\n', unlike print() a newline is not implied in file writes\n",
    "file.write('log message 2\\n')\n",
    "file.close()\n",
    "\n",
    "# lots of options for open(): check out https://docs.python.org/3/library/functions.html?highlight=open#open\n",
    "\n",
    "# You can specify or may need to check if a variable is of type None, this is somewhat like a Null value in C/C++\n",
    "# In Python - None is an explict value of type NoneType\n",
    "nv = None\n",
    "print(nv, type(nv))"
   ]
  },
  {
   "cell_type": "code",
   "execution_count": null,
   "metadata": {},
   "outputs": [],
   "source": []
  },
  {
   "cell_type": "markdown",
   "metadata": {},
   "source": [
    "**Important Note: Type Immutability**   \n",
    "* Every object is either immutable or not - immutable means can it be changed \"in place\"  \n",
    "    - numbers, strings and tuples are immutable  \n",
    "    - lists, dictionaries and sets can be changed in place \n"
   ]
  },
  {
   "cell_type": "markdown",
   "metadata": {},
   "source": [
    "**Control Flow** "
   ]
  },
  {
   "cell_type": "code",
   "execution_count": 12,
   "metadata": {},
   "outputs": [
    {
     "name": "stdout",
     "output_type": "stream",
     "text": [
      "Negative\n",
      "[0, 1, 1]\n"
     ]
    },
    {
     "data": {
      "image/png": "[encoded data removed]",
      "text/plain": [
       "<Figure size 432x288 with 1 Axes>"
      ]
     },
     "metadata": {
      "needs_background": "light"
     },
     "output_type": "display_data"
    },
    {
     "name": "stdout",
     "output_type": "stream",
     "text": [
      "Solution: x =  -1.1914878839525045\n",
      "Unexpected Error\n",
      "This always runs\n"
     ]
    }
   ],
   "source": [
    "# if-then-else\n",
    "x = -1.0\n",
    "if x < 0.0:\n",
    "    print('Negative') \n",
    "elif x == 0.0:\n",
    "    print('Zero')\n",
    "else:\n",
    "    print('Positive')\n",
    "\n",
    "# for loops (print the the first n fibonocci numbers)\n",
    "n = 3 \n",
    "fib=[0, 1]\n",
    "for i in range(2, n): \n",
    "    t = fib[i-2] + fib[i-1] \n",
    "    fib.append(t)\n",
    "print(fib)\n",
    "\n",
    "# while loops (root finding: bisection method)\n",
    "# also demonstrates break - break out of the current (innermost) loop\n",
    "\n",
    "# function we want to find the root of - this function is plotted below\n",
    "fx = lambda x: 2 *x**3 - 2*x + 1\n",
    "\n",
    "# plot the lamda function above \n",
    "X = np.arange(-3, 0, 0.01)    \n",
    "Y = fx(X) \n",
    "plt.plot(X,Y)\n",
    "plt.show()    \n",
    "\n",
    "# bracket the solution\n",
    "a = -1.0\n",
    "b = -2.0\n",
    "ym = 1.0\n",
    "tol = 0.00000000001\n",
    "\n",
    "while np.abs(ym) > tol:\n",
    "    m = (a + b) / 2.0\n",
    "    ym = fx(m)\n",
    "    ya = fx(a)\n",
    "    \n",
    "    if ym == 0:\n",
    "        break;\n",
    "        \n",
    "    if ym * ya > 0:\n",
    "        a = m\n",
    "    else:\n",
    "        b = m\n",
    "print('Solution: x = ', m)\n",
    "\n",
    "\n",
    "# continue - return control to the top of the loop (but don't break the loop)\n",
    "\n",
    "# pass - effectively, a null statement - can stand in for a block of code\n",
    "\n",
    "# try-except - Python has an exception handling mechanism\n",
    "try:\n",
    "    x = 10.0 / 0.0  # some error\n",
    "except:\n",
    "    print('Unexpected Error')\n",
    "finally:\n",
    "    print('This always runs')\n",
    "\n"
   ]
  },
  {
   "cell_type": "code",
   "execution_count": null,
   "metadata": {},
   "outputs": [],
   "source": []
  },
  {
   "cell_type": "markdown",
   "metadata": {},
   "source": [
    "**Basic Input/Output**  \n",
    "See: https://docs.python.org/3.7/tutorial/inputoutput.html"
   ]
  },
  {
   "cell_type": "markdown",
   "metadata": {},
   "source": [
    "**Functions**\n",
    "\n",
    "Python, like all computer languages, allows you to define functions.  Functions can take parameters (function inputs) and return results. Functions let you make your code more modular and concise, reduce redundancy, maximize reuse.  Functions also help you tackle complex problems allowing you to break them down into well defined functions that do simple things that can be verified.  \n",
    "\n",
    "Variables used strictly within functions a local to that function (in scope of the function)\n",
    "\n",
    "Remember the rules regarding immutability - you can change the contents of a list, dictionary, set etc...within a function, but not say an integer or float passed into the function"
   ]
  },
  {
   "cell_type": "code",
   "execution_count": 13,
   "metadata": {},
   "outputs": [
    {
     "name": "stdout",
     "output_type": "stream",
     "text": [
      "7\n"
     ]
    },
    {
     "data": {
      "image/png": "[encoded data removed]",
      "text/plain": [
       "<Figure size 432x288 with 1 Axes>"
      ]
     },
     "metadata": {
      "needs_background": "light"
     },
     "output_type": "display_data"
    },
    {
     "name": "stdout",
     "output_type": "stream",
     "text": [
      "<class 'function'>\n"
     ]
    }
   ],
   "source": [
    "# define a simple function\n",
    "def func_add(a, b):\n",
    "    return a + b\n",
    "\n",
    "# call the function and print the result\n",
    "print (func_add(3, 4))\n",
    "\n",
    "# functions are objects and they themselves can be passed as parameters\n",
    "def f_x(x):\n",
    "    return 2.0*np.sin(x)**2 + np.cos(x)**2\n",
    "\n",
    "# this will make more sense after we discuss numpy, matplotlib below\n",
    "def plot_func(fx, m0, m1, step):\n",
    "    X = np.arange(m0, m1, step)\n",
    "    Y = f_x(X)\n",
    "    plt.plot(X, Y, '-')\n",
    "    plt.show()\n",
    "\n",
    "# call the function\n",
    "plot_func(f_x, -np.pi, np.pi, 0.01)\n",
    "\n",
    "# what's the type of a function\n",
    "print(type(f_x))"
   ]
  },
  {
   "cell_type": "code",
   "execution_count": null,
   "metadata": {},
   "outputs": [],
   "source": []
  },
  {
   "cell_type": "markdown",
   "metadata": {},
   "source": [
    "<img src=\"./images/div-0.png\" alt=\"Drawing\" align=\"left\" style=\"width: 800px\" />"
   ]
  },
  {
   "cell_type": "markdown",
   "metadata": {},
   "source": [
    "### Introduction to Numpy \n",
    "\n",
    "Numpy is the heart of numerical python computation.  It provides an n-dimensional array structure (ndarray) and many functions that operate on these arrays.  \n",
    "Numpy is integrated closely with the other packages in the Python stack such as Pandas, Matplotlib, Seaborn.\n",
    "\n",
    "We will look at some uses, and introduce more as we go forward, but for a fuller tutorial see:https://docs.scipy.org/doc/numpy/user/quickstart.html and  \n",
    "the full manual here: https://numpy.org/devdocs/reference/"
   ]
  },
  {
   "cell_type": "code",
   "execution_count": 14,
   "metadata": {},
   "outputs": [
    {
     "name": "stdout",
     "output_type": "stream",
     "text": [
      "[[0.2166176  0.42946049 0.8376496  0.55191306 0.70095401]\n",
      " [0.33577369 0.27442386 0.81672639 0.3822367  0.5577629 ]\n",
      " [0.75334381 0.78892023 0.18912606 0.58981365 0.17224496]\n",
      " [0.3368834  0.60180465 0.34715218 0.57619935 0.28334311]\n",
      " [0.31689868 0.96252667 0.57897615 0.71804648 0.23882   ]]\n",
      "[[0.1083088  0.21473024 0.4188248  0.27595653 0.35047701]\n",
      " [0.16788685 0.13721193 0.4083632  0.19111835 0.27888145]\n",
      " [0.3766719  0.39446011 0.09456303 0.29490683 0.08612248]\n",
      " [0.1684417  0.30090233 0.17357609 0.28809967 0.14167156]\n",
      " [0.15844934 0.48126334 0.28948808 0.35902324 0.11941   ]]\n",
      "0.46879247788529094 0.19244480335700698 0.17139452160773283 0.8206380494467782\n"
     ]
    }
   ],
   "source": [
    "nrows = 5 \n",
    "ncols = 5 \n",
    "Zeros = np.zeros((nrows,ncols))\n",
    "Ones = np.ones((nrows,ncols))\n",
    "Twos = 2.0*Ones\n",
    "Rand = np.random.random((nrows,ncols)) # uniform, many other choices and distributions\n",
    "print(Rand)\n",
    "\n",
    "# Operations on ndarrays (no loops!)\n",
    "Rand2 = Rand / Twos\n",
    "print(Rand2)\n",
    "\n",
    "# Some functions\n",
    "SRand = np.sin(Rand) # \n",
    "\n",
    "# Scalar functions too\n",
    "Avg = np.mean(SRand)\n",
    "Std = np.std(SRand)\n",
    "Min = np.min(SRand)\n",
    "Max = np.max(SRand)\n",
    "print(Avg, Std, Min, Max)"
   ]
  },
  {
   "cell_type": "code",
   "execution_count": null,
   "metadata": {},
   "outputs": [],
   "source": []
  },
  {
   "cell_type": "markdown",
   "metadata": {},
   "source": [
    "<img src=\"./images/div-0.png\" alt=\"Drawing\" align=\"left\" style=\"width: 800px\" />"
   ]
  },
  {
   "cell_type": "markdown",
   "metadata": {},
   "source": [
    "### Introduction to Pandas "
   ]
  },
  {
   "cell_type": "code",
   "execution_count": 15,
   "metadata": {},
   "outputs": [
    {
     "name": "stdout",
     "output_type": "stream",
     "text": [
      "<class 'pandas.core.frame.DataFrame'>\n",
      "RangeIndex: 1309 entries, 0 to 1308\n",
      "Data columns (total 15 columns):\n",
      "id           1309 non-null int64\n",
      "pclass       1309 non-null int64\n",
      "survived     1309 non-null int64\n",
      "name         1309 non-null object\n",
      "sex          1309 non-null object\n",
      "age          1046 non-null float64\n",
      "sibsp        1309 non-null int64\n",
      "parch        1309 non-null int64\n",
      "ticket       1309 non-null object\n",
      "fare         1308 non-null float64\n",
      "cabin        295 non-null object\n",
      "embarked     1307 non-null object\n",
      "boat         486 non-null object\n",
      "body         121 non-null float64\n",
      "home.dest    745 non-null object\n",
      "dtypes: float64(3), int64(5), object(7)\n",
      "memory usage: 153.5+ KB\n",
      "-------------------\n",
      "<class 'pandas.core.series.Series'>\n",
      "float64\n",
      "1309\n",
      "<class 'pandas.core.series.Series'>\n",
      "bool\n",
      "1309\n",
      "30.585232978723408\n",
      "14.269715406213866\n",
      "28.6870706185567\n",
      "14.55819827010765\n",
      "986\n"
     ]
    }
   ],
   "source": [
    "# open a csv and get its info\n",
    "df0 = pd.read_csv('./data/titanic4.csv')\n",
    "df0.info()\n",
    "\n",
    "print('-------------------')\n",
    "series = df0['age']\n",
    "print(type(series))\n",
    "print(series.dtype)\n",
    "print(len(series))\n",
    "\n",
    "# creates a series of booleans, along the index axis of the source (df0) dataframe \n",
    "series = df0['age'].notnull()\n",
    "print(type(series))\n",
    "print(series.dtype)\n",
    "print(len(series))\n",
    "\n",
    "# reduce to a dataset with no null ages - using the boolean array \n",
    "df = df0.loc[ df0['age'].notnull() ] \n",
    "\n",
    "# reduce data set to all males and all females\n",
    "df_males = df.loc[ df['sex'] == 'male']\n",
    "df_females = df.loc[ df['sex'] == 'female']\n",
    "\n",
    "# use numpy to determine some statistics on males and females\n",
    "print(np.mean(df_males['age']))\n",
    "print(np.std(df_males['age']))\n",
    "print(np.mean(df_females['age']))\n",
    "print(np.std(df_females['age']))\n",
    "\n",
    "# reduce to a dataset containing passenger classes 2 and 3 (you'll need isin() for the exercise )\n",
    "df = df0.loc[ df0['pclass'].isin([2, 3])]\n",
    "print(len(df))\n"
   ]
  },
  {
   "cell_type": "code",
   "execution_count": null,
   "metadata": {},
   "outputs": [],
   "source": []
  },
  {
   "cell_type": "markdown",
   "metadata": {},
   "source": [
    "<img src=\"./images/div-0.png\" alt=\"Drawing\" align=\"left\" style=\"width: 800px\" />"
   ]
  },
  {
   "cell_type": "markdown",
   "metadata": {},
   "source": [
    "### Introduction to Matplotlib \n",
    "\n",
    "- Core python plotting package \n",
    "- Seaborn is build on top of matplotlib \n",
    "\n",
    "https://matplotlib.org/gallery.html\n"
   ]
  },
  {
   "cell_type": "code",
   "execution_count": null,
   "metadata": {},
   "outputs": [],
   "source": []
  },
  {
   "cell_type": "markdown",
   "metadata": {},
   "source": [
    "<img src=\"./images/div-0.png\" alt=\"Drawing\" align=\"left\" style=\"width: 800px\" />"
   ]
  },
  {
   "cell_type": "markdown",
   "metadata": {},
   "source": [
    "Source:https://towardsdatascience.com/understanding-boxplots-5e2df7bcbd51  \n",
    "\n",
    "\n",
    "\n",
    "<img src=\"./images/boxplot-0.png\" alt=\"Drawing\" align=\"left\" style=\"width: 600px\" />  \n"
   ]
  },
  {
   "cell_type": "code",
   "execution_count": 16,
   "metadata": {},
   "outputs": [
    {
     "data": {
      "image/png": "[encoded data removed]",
      "text/plain": [
       "<Figure size 648x288 with 2 Axes>"
      ]
     },
     "metadata": {
      "needs_background": "light"
     },
     "output_type": "display_data"
    }
   ],
   "source": [
    "# Example taken from the matplotlib gallery - I've added additional comments\n",
    "\n",
    "# Random test data\n",
    "np.random.seed(123)\n",
    "\n",
    "# Example of list comprehension\n",
    "all_data = [np.random.normal(0, std, 100) for std in range(1, 4)]\n",
    "\n",
    "# Start a new plot - in this case we are creating a 1,2 array of plots (subplots)\n",
    "# This subplots idea is very powerful for comparing side by side or in small\n",
    "# 2 dimensional arrays and can be used with seaborn\n",
    "fig, axes = plt.subplots(nrows=1, ncols=2, figsize=(9, 4))\n",
    "\n",
    "# draw \"into\" these axes objects\n",
    "\n",
    "# rectangular box plot\n",
    "bplot1 = axes[0].boxplot(all_data,\n",
    "                         vert=True,   # vertical box aligmnent\n",
    "                         patch_artist=True)   # fill with color\n",
    "\n",
    "# notch shape box plot\n",
    "bplot2 = axes[1].boxplot(all_data,\n",
    "                         notch=True,  # notch shape\n",
    "                         vert=True,   # vertical box aligmnent\n",
    "                         patch_artist=True)   # fill with color\n",
    "\n",
    "# fill with colors\n",
    "colors = ['pink', 'lightblue', 'lightgreen']\n",
    "for bplot in (bplot1, bplot2):\n",
    "    for patch, color in zip(bplot['boxes'], colors):\n",
    "        patch.set_facecolor(color)\n",
    "\n",
    "# adding horizontal grid lines\n",
    "for ax in axes:\n",
    "    ax.yaxis.grid(True)\n",
    "    ax.set_xticks([y+1 for y in range(len(all_data))], )\n",
    "    ax.set_xlabel('xlabel')\n",
    "    ax.set_ylabel('ylabel')\n",
    "\n",
    "# add x-tick labels\n",
    "plt.setp(axes, xticks=[y+1 for y in range(len(all_data))],\n",
    "         xticklabels=['x1', 'x2', 'x3', 'x4'])\n",
    "\n",
    "plt.show()"
   ]
  },
  {
   "cell_type": "code",
   "execution_count": null,
   "metadata": {},
   "outputs": [],
   "source": []
  },
  {
   "cell_type": "markdown",
   "metadata": {},
   "source": [
    "<img src=\"./images/div-0.png\" alt=\"Drawing\" align=\"left\" style=\"width: 800px\" />"
   ]
  },
  {
   "cell_type": "markdown",
   "metadata": {},
   "source": [
    "### Introduction to Seaborn  \n",
    "\n",
    "Written on top of matplotlib  \n",
    "Offers easier ways of working directly with datasets (Pandas integration)  \n",
    "Offers some example datasets to try things out  \n",
    "\n",
    "Link: https://seaborn.pydata.org/  \n",
    "\n",
    "Gallery: https://seaborn.pydata.org/examples/index.html  \n",
    "\n",
    "Built-in-data: https://seaborn.pydata.org/generated/seaborn.load_dataset.html  \n"
   ]
  },
  {
   "cell_type": "markdown",
   "metadata": {},
   "source": [
    "<img src=\"./images/div-0.png\" alt=\"Drawing\" align=\"left\" style=\"width: 800px\" />"
   ]
  },
  {
   "cell_type": "markdown",
   "metadata": {},
   "source": [
    "### Kernel Density Estimation (KDE Plots) \n",
    "\n",
    "We will cover KDE in more detail next week...\n",
    "\n",
    "For now the intuitive definition will do...think of the plot that follows a two-dimensional, continuous, histogram"
   ]
  },
  {
   "cell_type": "code",
   "execution_count": 17,
   "metadata": {},
   "outputs": [
    {
     "name": "stdout",
     "output_type": "stream",
     "text": [
      "<class 'pandas.core.frame.DataFrame'>\n"
     ]
    },
    {
     "data": {
      "text/plain": [
       "Text(3.8, 4.5, 'setosa')"
      ]
     },
     "execution_count": 17,
     "metadata": {},
     "output_type": "execute_result"
    },
    {
     "data": {
      "image/png": "[encoded data removed]",
      "text/plain": [
       "<Figure size 576x576 with 1 Axes>"
      ]
     },
     "metadata": {},
     "output_type": "display_data"
    }
   ],
   "source": [
    "# Example taken from the seaborn gallery - I've added additional comments\n",
    "\n",
    "import seaborn as sns\n",
    "import matplotlib.pyplot as plt\n",
    "\n",
    "# try different styles\n",
    "sns.set(style=\"darkgrid\")\n",
    "sns.set(style=\"whitegrid\")\n",
    "sns.set(style=\"dark\")\n",
    "sns.set(style=\"ticks\")\n",
    "\n",
    "# built in dataset\n",
    "iris = sns.load_dataset(\"iris\")\n",
    "\n",
    "# Panda's dataframe\n",
    "print(type(iris))\n",
    "\n",
    "# Subset the iris dataset by species\n",
    "\n",
    "# Special Note: there is more than one way to use Pandas to subset\n",
    "# a dataframe for the exercise that follows - use the one you \n",
    "# want, but in my solution, I use the '.loc' method...\n",
    "\n",
    "# by using Pandas query() method\n",
    "setosa = iris.query(\"species == 'setosa'\")\n",
    "virginica = iris.query(\"species == 'virginica'\")\n",
    "# Or\n",
    "# by using Pandas .loc method\n",
    "setosa = iris.loc[ iris['species']=='setosa' ]\n",
    "virginica = iris.loc[ iris['species']=='virginica' ]\n",
    "\n",
    "# Set up the figure - note subplots, but only one plot\n",
    "f, ax = plt.subplots(figsize=(8, 8))\n",
    "ax.set_aspect(\"equal\")\n",
    "\n",
    "# Draw the two density plots\n",
    "ax = sns.kdeplot(setosa.sepal_width, setosa.sepal_length,\n",
    "                 cmap=\"Reds\", shade=True, shade_lowest=False)\n",
    "ax = sns.kdeplot(virginica.sepal_width, virginica.sepal_length,\n",
    "                 cmap=\"Blues\", shade=True, shade_lowest=False)\n",
    "\n",
    "# Add labels to the plot\n",
    "red = sns.color_palette(\"Reds\")[-2]\n",
    "blue = sns.color_palette(\"Blues\")[-2]\n",
    "\n",
    "# These are effectively \"hand-placed\" labels (x,y) relative to scales\n",
    "ax.text(2.5, 8.2, \"virginica\", size=16, color=blue)\n",
    "ax.text(3.8, 4.5, \"setosa\", size=16, color=red)"
   ]
  },
  {
   "cell_type": "code",
   "execution_count": null,
   "metadata": {},
   "outputs": [],
   "source": []
  },
  {
   "cell_type": "markdown",
   "metadata": {},
   "source": [
    "<img src=\"./images/div-0.png\" alt=\"Drawing\" align=\"left\" style=\"width: 800px\" />"
   ]
  },
  {
   "cell_type": "markdown",
   "metadata": {},
   "source": [
    "### In Class Exercise \n",
    "Note: Solution is provided in example-0-soln.py in code directory if you get stuck.  \n",
    "Use what you have learned above to use Seaborn lineplot and scatterplot to create this visualizations from the gapminder-1 dataset.  \n",
    "\n",
    "\n",
    "\n",
    "<img src=\"./images/exercise-0.png\" alt=\"drawing\" align=\"left\" style=\"width: 400px\" />  \n",
    "<img src=\"./images/exercise-1.png\" alt=\"drawing\" align=\"left\" style=\"width: 400px\" />  "
   ]
  },
  {
   "cell_type": "markdown",
   "metadata": {},
   "source": [
    "The basic steps are outlined below as comments in the code block below:  "
   ]
  },
  {
   "cell_type": "code",
   "execution_count": 18,
   "metadata": {},
   "outputs": [
    {
     "data": {
      "image/png": "[encoded data removed]",
      "text/plain": [
       "<Figure size 864x432 with 1 Axes>"
      ]
     },
     "metadata": {},
     "output_type": "display_data"
    },
    {
     "data": {
      "image/png": "[encoded data removed]",
      "text/plain": [
       "<Figure size 864x432 with 1 Axes>"
      ]
     },
     "metadata": {},
     "output_type": "display_data"
    }
   ],
   "source": [
    "\n",
    "# references for the seaborn plots are here:\n",
    "# lineplot - https://seaborn.pydata.org/generated/seaborn.lineplot.html\n",
    "# scatterplot - https://seaborn.pydata.org/generated/seaborn.scatterplot.html\n",
    "\n",
    "# in class exercise - outline of high level steps\n",
    "\n",
    "# make sure you have the correct imports defined\n",
    "\n",
    "# use pandas to read the csv file ('./data/gapminder-1.csv')\n",
    "df55 = pd.read_csv(\"./data/gapminder-1.csv\")\n",
    "# eliminate any null values (via pandas dropna() function) \n",
    "df55.dropna()\n",
    "# create a reduced dataset with the 8 countries we are interested in for this problem\n",
    "\n",
    "# Here is a python list with the countries for first visualization\n",
    "countries = ['United States', 'United Kingdom', 'China', 'India', 'France', 'Ghana', 'Guatemala', 'Syria']\n",
    "df1 = df55.loc[df55['country'].isin(countries)];\n",
    "fig = plt.figure(figsize=(12,6))\n",
    "# create a seaborn lineplot of the 8 countries of interest life expectancy over all years (1960 to 2017)\n",
    "sns.lineplot(df1['country'], df1['life-expectancy'])\n",
    "plt.show()\n",
    "# create a seaborn scatterplot of \"all\" countries life expectancy against fertility-rate \n",
    "fig = plt.figure(figsize=(12,6))\n",
    "sns.scatterplot(df1['life-expectancy'],df1['fertility-rate'])\n",
    "plt.show()"
   ]
  },
  {
   "cell_type": "code",
   "execution_count": 68,
   "metadata": {},
   "outputs": [],
   "source": [
    "def scatterYear(year):\n",
    "    df2 = pd.read_csv(\"./data/gapminder-1.csv\")\n",
    "    df2.dropna()\n",
    "    df2 = df2.loc[df2['year'] == year];\n",
    "    fig = plt.figure(figsize=(12,6))\n",
    "    sns.scatterplot(df2['life-expectancy'],df2['fertility-rate'])\n",
    "    plt.title(\"Fertility Rate vs Life Expectancy in all countries during the year of \" + str(year))\n",
    "    plt.xlabel(\"Life Expectancy (Years)\")\n",
    "    plt.ylabel(\"Fertility Rate\")\n",
    "    plt.show()"
   ]
  },
  {
   "cell_type": "code",
   "execution_count": 71,
   "metadata": {},
   "outputs": [
    {
     "data": {
      "image/png": "[encoded data removed]",
      "text/plain": [
       "<Figure size 864x432 with 1 Axes>"
      ]
     },
     "metadata": {},
     "output_type": "display_data"
    }
   ],
   "source": [
    "scatterYear(2011)"
   ]
  },
  {
   "cell_type": "markdown",
   "metadata": {},
   "source": [
    "<img src=\"./images/div-0.png\" alt=\"Drawing\" align=\"left\" style=\"width: 800px\" />"
   ]
  },
  {
   "cell_type": "markdown",
   "metadata": {},
   "source": [
    "# References"
   ]
  },
  {
   "cell_type": "markdown",
   "metadata": {},
   "source": [
    "Title: Fundamentals of Data Visualization  \n",
    "Author: Claus O. Wilke   \n",
    "Publisher: O'Reilly Media Inc.  \n",
    "Edition: First Edition  \n",
    "ISBN: 9781492031086  \n",
    "<img src=\"./images/wilke-0.png\" alt=\"Drawing\" align=\"left\" style=\"width:200px\" />    "
   ]
  },
  {
   "cell_type": "markdown",
   "metadata": {},
   "source": [
    "# Reading Assignment \n",
    "\n",
    "Read Watts and Strogatz paper (1998) 'Collective dynamics of 'small-world' networks'  \n",
    "Read the rest of Wilke Chp 7 regarding density plots"
   ]
  },
  {
   "cell_type": "code",
   "execution_count": null,
   "metadata": {},
   "outputs": [],
   "source": []
  }
 ],
 "metadata": {
  "kernelspec": {
   "display_name": "Python 3",
   "language": "python",
   "name": "python3"
  },
  "language_info": {
   "codemirror_mode": {
    "name": "ipython",
    "version": 3
   },
   "file_extension": ".py",
   "mimetype": "text/x-python",
   "name": "python",
   "nbconvert_exporter": "python",
   "pygments_lexer": "ipython3",
   "version": "3.7.3"
  }
 },
 "nbformat": 4,
 "nbformat_minor": 4
}
