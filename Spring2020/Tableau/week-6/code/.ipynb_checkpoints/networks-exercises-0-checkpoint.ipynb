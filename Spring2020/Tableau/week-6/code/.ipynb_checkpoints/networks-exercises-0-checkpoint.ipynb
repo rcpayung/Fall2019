{
 "cells": [
  {
   "cell_type": "code",
   "execution_count": 1,
   "metadata": {},
   "outputs": [],
   "source": [
    "import sys\n",
    "import math\n",
    "import numpy as np\n",
    "import pandas as pd\n",
    "import networkx as nx\n",
    "import matplotlib.pyplot as plt"
   ]
  },
  {
   "cell_type": "markdown",
   "metadata": {},
   "source": [
    "<img src=\"./images/div-0.png\" alt=\"Drawing\" align=\"left\" style=\"width: 800px\" />"
   ]
  },
  {
   "cell_type": "markdown",
   "metadata": {},
   "source": [
    "Exercise 1 - Create and display this simple network using networkx functions  \n",
    "\n",
    "<img src=\"./images/exercise-0.png\" alt=\"Drawing\" align=\"left\" style=\"width: 600px\" />"
   ]
  },
  {
   "cell_type": "markdown",
   "metadata": {},
   "source": [
    "<img src=\"./images/div-0.png\" alt=\"Drawing\" align=\"left\" style=\"width: 800px\" />"
   ]
  },
  {
   "cell_type": "code",
   "execution_count": 3,
   "metadata": {},
   "outputs": [],
   "source": [
    "# Exercise 1 (Note: Don't worry about arriving a graph that is oriented exactly as shown above, just work towards getting the node/edges correct)\n",
    "\n",
    "# Create the graph \n",
    "\n",
    "# Create the nodes\n",
    "\n",
    "# Create the links\n",
    "\n",
    "# Specify a graph layout  (spring layout works well - but try others if you want...)\n",
    "\n",
    "# Add the node labels\n",
    "\n",
    "# Draw the graph \n"
   ]
  },
  {
   "cell_type": "code",
   "execution_count": 7,
   "metadata": {},
   "outputs": [],
   "source": [
    "# Exercise 2 - Modify your visualization from Exercise 1 to display a centrality measure (e.g. degree centrality) \n",
    "# color and/or size the nodes based on that measure"
   ]
  },
  {
   "cell_type": "code",
   "execution_count": 8,
   "metadata": {},
   "outputs": [],
   "source": [
    "# Exercise 3 - NetworkX also has a number of built in generated graphs\n",
    "# Review the list of networkx - select one - create and display it\n",
    "# See: https://networkx.github.io/documentation/stable/reference/generators.html"
   ]
  },
  {
   "cell_type": "code",
   "execution_count": 10,
   "metadata": {},
   "outputs": [],
   "source": [
    "# Exercise 4 - Using the graph you generated in exercise 3 - explore various visualization options for the graph\n",
    "# Explore different graph layouts and visualization options, etc..."
   ]
  },
  {
   "cell_type": "code",
   "execution_count": 11,
   "metadata": {},
   "outputs": [],
   "source": [
    "# Exercise 5 - create a histogram and kdeplot of degrees for the graph you generated in Exercise 4"
   ]
  },
  {
   "cell_type": "code",
   "execution_count": 12,
   "metadata": {},
   "outputs": [],
   "source": [
    "# Exercise 6 (More Advanced)  \n",
    "\n",
    "# Use the data in data/airport-0.xlsx and data/flights-1.xlsx to build network\n",
    "# visualizations for a real airline transportation network\n",
    "\n",
    "# The airports data provides the nodes\n",
    "# The flights data provide the links between nodes\n",
    "\n",
    "# Note: A solution is provided in airline-network-2.ipynb file  \n",
    "\n",
    "# Note that there are two layouts used: \n",
    "# First visualization: fruchterman_reingold_layout \n",
    "# Second visualization: uses a custom layout where the positions are get by the geographic location of each airport"
   ]
  },
  {
   "cell_type": "markdown",
   "metadata": {},
   "source": [
    "<img src=\"./results/airline-network-0.png\" alt=\"drawing\" align=\"left\" style=\"width: 600px\" />"
   ]
  },
  {
   "cell_type": "markdown",
   "metadata": {},
   "source": [
    "<img src=\"./images/div-0.png\" alt=\"Drawing\" align=\"left\" style=\"width: 800px\" />"
   ]
  },
  {
   "cell_type": "markdown",
   "metadata": {},
   "source": [
    "<img src=\"./results/airline-network-1.png\" alt=\"Drawing\" align=\"left\" style=\"width: 700px\" />"
   ]
  },
  {
   "cell_type": "code",
   "execution_count": null,
   "metadata": {},
   "outputs": [],
   "source": []
  }
 ],
 "metadata": {
  "kernelspec": {
   "display_name": "Python 3",
   "language": "python",
   "name": "python3"
  },
  "language_info": {
   "codemirror_mode": {
    "name": "ipython",
    "version": 3
   },
   "file_extension": ".py",
   "mimetype": "text/x-python",
   "name": "python",
   "nbconvert_exporter": "python",
   "pygments_lexer": "ipython3",
   "version": "3.7.6"
  }
 },
 "nbformat": 4,
 "nbformat_minor": 4
}
