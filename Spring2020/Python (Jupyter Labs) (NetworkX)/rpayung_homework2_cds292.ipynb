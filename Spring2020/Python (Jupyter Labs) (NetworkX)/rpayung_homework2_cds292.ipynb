{
 "cells": [
  {
   "cell_type": "markdown",
   "metadata": {},
   "source": [
    "#### Riley Payung\n",
    "#### CDS 292\n",
    "#### Assignment 1\n",
    "\n",
    "### Imports"
   ]
  },
  {
   "cell_type": "code",
   "execution_count": 10,
   "metadata": {},
   "outputs": [],
   "source": [
    "import matplotlib.pyplot as plt\n",
    "import numpy as n"
   ]
  },
  {
   "cell_type": "markdown",
   "metadata": {},
   "source": [
    "### Question 1 - Book Questions\n",
    "\n",
    "#### Q2\n",
    "Cardinality of Presidents is 45.\n",
    "#### Q3\n",
    "V(G) = {4,3,2,1}\n",
    "\n",
    "E(G) = {(4,3),(3,1),(3,2),(2,1)}\n",
    "#### Q4\n",
    "V(G) = {1,2,3,4,5,6}\n",
    "\n",
    "E(G) = {(1,2),(2,3),(3,4),(4,5),(5,6),(6,1)}\n",
    "\n",
    "* Continued on following page -->"
   ]
  },
  {
   "cell_type": "markdown",
   "metadata": {},
   "source": [
    "#### Q5\n",
    ".\n",
    "\n",
    ".\n",
    "\n",
    ".\n",
    "\n",
    ".\n",
    "\n",
    ".\n",
    "\n",
    ".\n",
    "#### Q6\n",
    ".\n",
    "\n",
    ".\n",
    "\n",
    ".\n",
    "\n",
    ".\n",
    "\n",
    ".\n",
    "\n",
    "."
   ]
  },
  {
   "cell_type": "markdown",
   "metadata": {},
   "source": [
    "#### Q7:\n",
    "\n",
    "* Continued on following page -->"
   ]
  },
  {
   "cell_type": "code",
   "execution_count": 123,
   "metadata": {},
   "outputs": [
    {
     "data": {
      "image/png": "[encoded data removed]",
      "text/plain": [
       "<Figure size 432x288 with 1 Axes>"
      ]
     },
     "metadata": {
      "needs_background": "light"
     },
     "output_type": "display_data"
    }
   ],
   "source": [
    "lis = [5,10,15,20];\n",
    "# The number of edges is 10,45,105,190 respectively\n",
    "def fx(n):\n",
    "    ls = [];\n",
    "    for i in n:\n",
    "        ls.append(((i*(i-1)) / 2));\n",
    "    return ls;\n",
    "ls = fx(lis);\n",
    "plt.plot(lis,ls,marker='o')\n",
    "plt.title(\"Number of Edges based on Number of Nodes\");\n",
    "plt.xlabel(\"Number of Nodes\");\n",
    "plt.ylabel(\"Number of Edges\");\n",
    "plt.yticks(n.arange(0,201,25))\n",
    "plt.xticks(n.arange(5,21,5))\n",
    "plt.xlim(4,23);\n",
    "for i in range(len(lis)):\n",
    "    plt.text(lis[i] + 0.6,ls[i],str(ls[i]),weight=\"bold\")\n",
    "plt.show()"
   ]
  },
  {
   "cell_type": "markdown",
   "metadata": {},
   "source": [
    "## Question 2\n",
    "\n",
    "* Continued on following page -->"
   ]
  },
  {
   "cell_type": "code",
   "execution_count": 122,
   "metadata": {},
   "outputs": [],
   "source": [
    "primes = [];\n",
    "primeFinder = False;\n",
    "for i in range(100,250):\n",
    "    if (i % 2 == 0):\n",
    "        continue;\n",
    "    else:\n",
    "        # Since a prime is divisible by any number other than 1 and itself:\n",
    "        for j in range(2, i): \n",
    "            primeFinder = True;\n",
    "            if (i % j == 0):\n",
    "                primeFinder = False;\n",
    "                break;\n",
    "        if (primeFinder):\n",
    "            primes.append(i);\n",
    "            primeFinder = False"
   ]
  },
  {
   "cell_type": "code",
   "execution_count": 4,
   "metadata": {},
   "outputs": [
    {
     "name": "stdout",
     "output_type": "stream",
     "text": [
      "[101, 103, 107, 109, 113]\n"
     ]
    }
   ],
   "source": [
    "print(primes[:5]);"
   ]
  },
  {
   "cell_type": "markdown",
   "metadata": {},
   "source": [
    "### Question 3"
   ]
  },
  {
   "cell_type": "code",
   "execution_count": 119,
   "metadata": {},
   "outputs": [
    {
     "name": "stdout",
     "output_type": "stream",
     "text": [
      "Number in Fib Seq: 233\n",
      "1\n"
     ]
    }
   ],
   "source": [
    "fib = [0,1];\n",
    "for i in range(2,20):\n",
    "    fib.append(fib[i-2] + fib[i-1]);\n",
    "fibcount = 0;\n",
    "for i in range(len(primes)):\n",
    "    for j in range(len(fib)):\n",
    "        if (fib[j] == primes[i]):\n",
    "            print('Number in Fib Seq:',primes[i]);\n",
    "            fibcount = fibcount + 1;\n",
    "            break;\n",
    "if (fibcount > 0):\n",
    "    print(fibcount);\n",
    "else:\n",
    "    print('There are no fibonacci numbers in the primes list.')"
   ]
  },
  {
   "cell_type": "markdown",
   "metadata": {},
   "source": [
    ".\n",
    "\n",
    ".\n",
    "\n",
    ".\n",
    "\n",
    "."
   ]
  },
  {
   "cell_type": "markdown",
   "metadata": {},
   "source": [
    "### Question 4"
   ]
  },
  {
   "cell_type": "code",
   "execution_count": 121,
   "metadata": {},
   "outputs": [
    {
     "data": {
      "image/png": "[encoded data removed]",
      "text/plain": [
       "<Figure size 432x288 with 1 Axes>"
      ]
     },
     "metadata": {
      "needs_background": "light"
     },
     "output_type": "display_data"
    },
    {
     "name": "stdout",
     "output_type": "stream",
     "text": [
      "Note: missing letters are a count of 0\n"
     ]
    }
   ],
   "source": [
    "palindrome = 'a nut for a jar of tuna';\n",
    "histList = n.zeros(26);\n",
    "l = ['a','b','c','d','e','f','g','h','i','j','k','l','m','n','o','p','q','r','s','t','u','v','x','y','z']\n",
    "hllist = [];\n",
    "l1 = [];\n",
    "shift = ord('a');\n",
    "for i in palindrome:\n",
    "    if (i !=' '):\n",
    "        histList[ord(i)-shift] += 1;\n",
    "for i in range(len(histList)):\n",
    "    if (histList[i] != 0.0):\n",
    "        l1.append(l[i])\n",
    "        hllist.append(histList[i])\n",
    "plt.bar(l1[:], height = hllist);\n",
    "#plt.xticks(n.arange(26),l[:]);\n",
    "plt.xlabel(\"Letters\");\n",
    "plt.ylabel(\"Count\");\n",
    "plt.show();\n",
    "print(\"Note: missing letters are a count of 0\")"
   ]
  }
 ],
 "metadata": {
  "kernelspec": {
   "display_name": "Python 3",
   "language": "python",
   "name": "python3"
  },
  "language_info": {
   "codemirror_mode": {
    "name": "ipython",
    "version": 3
   },
   "file_extension": ".py",
   "mimetype": "text/x-python",
   "name": "python",
   "nbconvert_exporter": "python",
   "pygments_lexer": "ipython3",
   "version": "3.7.3"
  }
 },
 "nbformat": 4,
 "nbformat_minor": 4
}
