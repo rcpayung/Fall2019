{
 "cells": [
  {
   "cell_type": "markdown",
   "metadata": {},
   "source": [
    "### Riley Payung\n",
    "### CDS 292\n",
    "### 03/02/2020\n",
    "### Homework 5\n",
    "#### imports"
   ]
  },
  {
   "cell_type": "code",
   "execution_count": 25,
   "metadata": {},
   "outputs": [],
   "source": [
    "import networkx as netx\n",
    "import matplotlib.pyplot as plt\n",
    "import numpy as np\n",
    "import random as rand"
   ]
  },
  {
   "cell_type": "markdown",
   "metadata": {},
   "source": [
    "#### Question 6.7"
   ]
  },
  {
   "cell_type": "markdown",
   "metadata": {},
   "source": [
    "The sums: \n",
    "\n",
    "$$\\displaystyle\\sum_{k}^{n} H(k) = 0 + 0 + n + 0 + ... + 0 = n$$\n",
    "\n",
    "$$\\displaystyle\\sum_{k}^{n-1} kH(k) = (0 * 0) + (1 * 0) + (2 * n) + ... + (k * 0) = 2m$$\n",
    "\n",
    "Average Degree:\n",
    "\n",
    "$$ \\frac{1}{n}\\displaystyle\\sum_{k}^{n-1}kH(k) = (0 * 0) + (1 * 0) + ... + (k * n - 1) = \\frac{2m}{n}$$\n",
    "\n",
    "Lets assume that the ring network is of size n = 6:\n",
    "\n",
    "First Sum: 0 + 0 + 6 + 0 + 0 + 0 = 6 = n.\n",
    "\n",
    "Second Sum: (0 * 0) + (1 * 0) + (2 * 6) + (3 * 0) + (4 * 0) + (5 * 0) = 12.\n",
    "\n",
    "Average Degree: 12 / 6 = 2"
   ]
  },
  {
   "cell_type": "code",
   "execution_count": 22,
   "metadata": {},
   "outputs": [
    {
     "data": {
      "image/png": "[encoded data removed]",
      "text/plain": [
       "<Figure size 432x288 with 1 Axes>"
      ]
     },
     "metadata": {
      "needs_background": "light"
     },
     "output_type": "display_data"
    }
   ],
   "source": [
    "plt.hist([2,2,2,2,2,2])\n",
    "plt.title(\"Node Degree Histogram\")\n",
    "plt.xlabel(\"Degree k\")\n",
    "plt.ylabel(\"Frequency\")\n",
    "plt.xlim(1,3)\n",
    "plt.xticks(np.arange(0,4,1))\n",
    "plt.show()"
   ]
  },
  {
   "cell_type": "markdown",
   "metadata": {},
   "source": [
    "#### Question 6.8"
   ]
  },
  {
   "cell_type": "markdown",
   "metadata": {},
   "source": [
    "Frac:\n",
    "$\\frac{2m}{n} = \\frac{2n-2}{n} = 2 - \\frac{2}{n}$\n",
    "\n",
    "$\\displaystyle\\sum_{k}^{n-1} kH(k) = (0 * 0) + (1 * 0) + (2 * n) + ... + (k * 0) = 2 - \\frac{2}{n}$\n",
    "\n",
    "\n"
   ]
  },
  {
   "cell_type": "markdown",
   "metadata": {},
   "source": [
    "This relates to the adjacency matrix because each element in the adjacency matrix is a link between two nodes. If you sum the elements of the adjacency matrix, you will get $2m$ or $2-\\frac{2}{n}$"
   ]
  },
  {
   "cell_type": "markdown",
   "metadata": {},
   "source": [
    "#### Question 6.10"
   ]
  },
  {
   "cell_type": "markdown",
   "metadata": {},
   "source": [
    "T is the number of days recorded (nodes)\n",
    "\n",
    "H(R) is the degree of the days that it was rainy.\n",
    "\n",
    "H(S) is the degree of the days that it was sunny.\n",
    "\n",
    "t<sub>R</sub> is the number of days that it was rainy.\n",
    "\n",
    "t<sub>S</sub> is the number of days that it was sunny.\n",
    "\n",
    "#### Question 6.15"
   ]
  },
  {
   "cell_type": "markdown",
   "metadata": {},
   "source": [
    "Since there is an average probability that any two students are friends of 0.3, we simply multiply by the number of students to get the number of students with a classmate as a friend.\n",
    "\n",
    "0.3 * 25 = 7.5. A student has on average 7.5 class friends."
   ]
  },
  {
   "cell_type": "markdown",
   "metadata": {},
   "source": [
    "#### Question 6.17"
   ]
  },
  {
   "cell_type": "code",
   "execution_count": 28,
   "metadata": {},
   "outputs": [],
   "source": [
    "N = 100;\n",
    "xList = [];\n",
    "\n",
    "for i in range(N):\n",
    "    xList.append(rand.randint(1,6));"
   ]
  },
  {
   "cell_type": "code",
   "execution_count": 84,
   "metadata": {},
   "outputs": [
    {
     "data": {
      "image/png": "[encoded data removed]",
      "text/plain": [
       "<Figure size 432x288 with 1 Axes>"
      ]
     },
     "metadata": {
      "needs_background": "light"
     },
     "output_type": "display_data"
    }
   ],
   "source": [
    "plt.hist(xList, bins = 6)\n",
    "plt.title(\"Occurrrences of a Rolled Number\")\n",
    "plt.xlabel(\"Outcome\")\n",
    "plt.ylabel(\"SUM\")\n",
    "plt.show()"
   ]
  },
  {
   "cell_type": "code",
   "execution_count": 89,
   "metadata": {},
   "outputs": [
    {
     "data": {
      "text/plain": [
       "346"
      ]
     },
     "execution_count": 89,
     "metadata": {},
     "output_type": "execute_result"
    }
   ],
   "source": [
    "listSum = sum(xList)\n",
    "listSum"
   ]
  },
  {
   "cell_type": "markdown",
   "metadata": {},
   "source": [
    "Most Frequent Outcome was 4."
   ]
  },
  {
   "cell_type": "code",
   "execution_count": 90,
   "metadata": {},
   "outputs": [],
   "source": [
    "yList = [0,0,0,0,0,0]\n",
    "for i in xList:\n",
    "    yList[i-1] += 1;"
   ]
  },
  {
   "cell_type": "markdown",
   "metadata": {},
   "source": [
    "H(1) = 17\n",
    "\n",
    "H(2) = 18\n",
    "\n",
    "H(3) = 13\n",
    "\n",
    "H(4) = 22\n",
    "\n",
    "H(5) = 14\n",
    "\n",
    "H(6) = 16"
   ]
  },
  {
   "cell_type": "markdown",
   "metadata": {},
   "source": [
    "#### Question 6.20"
   ]
  },
  {
   "cell_type": "markdown",
   "metadata": {},
   "source": [
    "For this, we'll just use the die rolls in the previous question:\n",
    "\n",
    "The sum of $k^2 H(k) = (0^2 + 0) + (1^2 * 0) + (2^2 * 0) + (3^2 * 0) + (4^2 * 0) + (5^2 * 0) = 91$\n",
    "\n",
    "The Sum of $k^2 = (1^2) + (2^2) + (3^2) + (4^2) + (5^2) + (6^2) = 91.$"
   ]
  }
 ],
 "metadata": {
  "kernelspec": {
   "display_name": "Python 3",
   "language": "python",
   "name": "python3"
  },
  "language_info": {
   "codemirror_mode": {
    "name": "ipython",
    "version": 3
   },
   "file_extension": ".py",
   "mimetype": "text/x-python",
   "name": "python",
   "nbconvert_exporter": "python",
   "pygments_lexer": "ipython3",
   "version": "3.7.3"
  }
 },
 "nbformat": 4,
 "nbformat_minor": 4
}
