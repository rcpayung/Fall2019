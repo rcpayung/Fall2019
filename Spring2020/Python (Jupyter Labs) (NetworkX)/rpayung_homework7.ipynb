{
 "cells": [
  {
   "cell_type": "markdown",
   "metadata": {},
   "source": [
    "### Riley Payung\n",
    "### CDS 292\n",
    "### 04/03/2020\n",
    "### Homework 7\n",
    "\n",
    "#### Imports "
   ]
  },
  {
   "cell_type": "code",
   "execution_count": 23,
   "metadata": {},
   "outputs": [],
   "source": [
    "import networkx as netx\n",
    "import numpy as np"
   ]
  },
  {
   "cell_type": "markdown",
   "metadata": {},
   "source": [
    "#### Question 2"
   ]
  },
  {
   "cell_type": "markdown",
   "metadata": {},
   "source": [
    ".\n",
    "\n",
    ".\n",
    "\n",
    ".\n",
    "\n",
    ".\n",
    "\n",
    ".\n",
    "\n",
    ".\n",
    "#### Question 4"
   ]
  },
  {
   "cell_type": "markdown",
   "metadata": {},
   "source": [
    "It is invalid because there is not a link indicator containing <B>a<sub>jh</sub></B>"
   ]
  },
  {
   "cell_type": "markdown",
   "metadata": {},
   "source": [
    "#### Question 5\n",
    ".\n",
    "\n",
    ".\n",
    "\n",
    ".\n",
    "\n",
    ".\n",
    "\n",
    ".\n",
    "\n",
    "."
   ]
  },
  {
   "cell_type": "markdown",
   "metadata": {},
   "source": [
    "#### Question 7\n",
    "\n",
    "Yes, because <B>a<sub>ij</sub>a<sub>jh</sub> = 1</B>, therefore <B>a<sub>ih</sub> = 1</B>. There is transitivity. They are connected by a path of length 2."
   ]
  },
  {
   "cell_type": "markdown",
   "metadata": {},
   "source": [
    "#### Question 10"
   ]
  },
  {
   "cell_type": "markdown",
   "metadata": {},
   "source": [
    ".\n",
    "\n",
    ".\n",
    "\n",
    ".\n",
    "\n",
    ".\n",
    "\n",
    ".\n",
    "\n",
    ".\n",
    "\n",
    ".\n",
    "\n",
    ".\n",
    "\n",
    ".\n",
    "\n",
    "."
   ]
  },
  {
   "cell_type": "markdown",
   "metadata": {},
   "source": [
    "#### Question 11"
   ]
  },
  {
   "cell_type": "code",
   "execution_count": 10,
   "metadata": {},
   "outputs": [
    {
     "name": "stdout",
     "output_type": "stream",
     "text": [
      "[0, 1, 2, 3, 4, 5, 6, 7, 8, 9]\n"
     ]
    }
   ],
   "source": [
    "n = 10\n",
    "\n",
    "G = netx.Graph();\n",
    "\n",
    "for i in range(n):\n",
    "    if (not (i == n-1)):\n",
    "        G.add_edge(i, i+1);\n",
    "print(G.nodes())"
   ]
  },
  {
   "cell_type": "code",
   "execution_count": 52,
   "metadata": {},
   "outputs": [
    {
     "name": "stdout",
     "output_type": "stream",
     "text": [
      "[[0 1 0 0 0 0 0 0 0 0]\n",
      " [1 0 1 0 0 0 0 0 0 0]\n",
      " [0 1 0 1 0 0 0 0 0 0]\n",
      " [0 0 1 0 1 0 0 0 0 0]\n",
      " [0 0 0 1 0 1 0 0 0 0]\n",
      " [0 0 0 0 1 0 1 0 0 0]\n",
      " [0 0 0 0 0 1 0 1 0 0]\n",
      " [0 0 0 0 0 0 1 0 1 0]\n",
      " [0 0 0 0 0 0 0 1 0 1]\n",
      " [0 0 0 0 0 0 0 0 1 0]]\n"
     ]
    }
   ],
   "source": [
    "A = netx.adjacency_matrix(G);\n",
    "print(A.toarray())"
   ]
  },
  {
   "cell_type": "code",
   "execution_count": 48,
   "metadata": {},
   "outputs": [
    {
     "name": "stdout",
     "output_type": "stream",
     "text": [
      "[[1 0 1 0 0 0 0 0 0 0]\n",
      " [0 2 0 1 0 0 0 0 0 0]\n",
      " [1 0 2 0 1 0 0 0 0 0]\n",
      " [0 1 0 2 0 1 0 0 0 0]\n",
      " [0 0 1 0 2 0 1 0 0 0]\n",
      " [0 0 0 1 0 2 0 1 0 0]\n",
      " [0 0 0 0 1 0 2 0 1 0]\n",
      " [0 0 0 0 0 1 0 2 0 1]\n",
      " [0 0 0 0 0 0 1 0 2 0]\n",
      " [0 0 0 0 0 0 0 1 0 1]]\n"
     ]
    }
   ],
   "source": [
    "A2 = A*A\n",
    "print(A2.toarray())"
   ]
  },
  {
   "cell_type": "code",
   "execution_count": 47,
   "metadata": {},
   "outputs": [
    {
     "name": "stdout",
     "output_type": "stream",
     "text": [
      "[[2 0 3 0 1 0 0 0 0 0]\n",
      " [0 5 0 4 0 1 0 0 0 0]\n",
      " [3 0 6 0 4 0 1 0 0 0]\n",
      " [0 4 0 6 0 4 0 1 0 0]\n",
      " [1 0 4 0 6 0 4 0 1 0]\n",
      " [0 1 0 4 0 6 0 4 0 1]\n",
      " [0 0 1 0 4 0 6 0 4 0]\n",
      " [0 0 0 1 0 4 0 6 0 3]\n",
      " [0 0 0 0 1 0 4 0 5 0]\n",
      " [0 0 0 0 0 1 0 3 0 2]]\n"
     ]
    }
   ],
   "source": [
    "A4 = A2*A2\n",
    "print(A4.toarray())"
   ]
  },
  {
   "cell_type": "code",
   "execution_count": 46,
   "metadata": {},
   "outputs": [
    {
     "name": "stdout",
     "output_type": "stream",
     "text": [
      "[[ 5  0  9  0  5  0  1  0  0  0]\n",
      " [ 0 14  0 14  0  6  0  1  0  0]\n",
      " [ 9  0 19  0 15  0  6  0  1  0]\n",
      " [ 0 14  0 20  0 15  0  6  0  1]\n",
      " [ 5  0 15  0 20  0 15  0  6  0]\n",
      " [ 0  6  0 15  0 20  0 15  0  5]\n",
      " [ 1  0  6  0 15  0 20  0 14  0]\n",
      " [ 0  1  0  6  0 15  0 19  0  9]\n",
      " [ 0  0  1  0  6  0 14  0 14  0]\n",
      " [ 0  0  0  1  0  5  0  9  0  5]]\n"
     ]
    }
   ],
   "source": [
    "A6 = A2*A4\n",
    "print(A6.toarray())"
   ]
  },
  {
   "cell_type": "code",
   "execution_count": 53,
   "metadata": {},
   "outputs": [
    {
     "name": "stdout",
     "output_type": "stream",
     "text": [
      "[[14  0 28  0 20  0  7  0  1  0]\n",
      " [ 0 42  0 48  0 27  0  8  0  1]\n",
      " [28  0 62  0 55  0 28  0  8  0]\n",
      " [ 0 48  0 69  0 56  0 28  0  7]\n",
      " [20  0 55  0 70  0 56  0 27  0]\n",
      " [ 0 27  0 56  0 70  0 55  0 20]\n",
      " [ 7  0 28  0 56  0 69  0 48  0]\n",
      " [ 0  8  0 28  0 55  0 62  0 28]\n",
      " [ 1  0  8  0 27  0 48  0 42  0]\n",
      " [ 0  1  0  7  0 20  0 28  0 14]]\n"
     ]
    }
   ],
   "source": [
    "A8 = A4*A4\n",
    "print(A8.toarray())"
   ]
  },
  {
   "cell_type": "code",
   "execution_count": 60,
   "metadata": {},
   "outputs": [
    {
     "name": "stdout",
     "output_type": "stream",
     "text": [
      "18\n",
      "34\n",
      "122\n",
      "444\n",
      "1626\n"
     ]
    }
   ],
   "source": [
    "def sumPower(GG):\n",
    "    summed = 0;\n",
    "    A = GG.toarray();\n",
    "    for i in A:\n",
    "        for j in i:\n",
    "            summed += j;\n",
    "    return summed;\n",
    "\n",
    "print(sumPower(A))\n",
    "\n",
    "print(sumPower(A2))\n",
    "\n",
    "print(sumPower(A4))\n",
    "\n",
    "print(sumPower(A6))\n",
    "\n",
    "print(sumPower(A8))"
   ]
  },
  {
   "cell_type": "code",
   "execution_count": 69,
   "metadata": {},
   "outputs": [
    {
     "name": "stdout",
     "output_type": "stream",
     "text": [
      "[(1, 8), (8, 2), (8, 3), (8, 4), (8, 5), (8, 6), (8, 7)]\n"
     ]
    }
   ],
   "source": [
    "B = netx.Graph()\n",
    "for i in range(1,8):\n",
    "    B.add_edge(i,8);\n",
    "print(B.edges())"
   ]
  },
  {
   "cell_type": "code",
   "execution_count": 70,
   "metadata": {},
   "outputs": [],
   "source": [
    "C = netx.adjacency_matrix(B)"
   ]
  },
  {
   "cell_type": "code",
   "execution_count": 71,
   "metadata": {},
   "outputs": [
    {
     "data": {
      "text/plain": [
       "array([[1, 0, 1, 1, 1, 1, 1, 1],\n",
       "       [0, 7, 0, 0, 0, 0, 0, 0],\n",
       "       [1, 0, 1, 1, 1, 1, 1, 1],\n",
       "       [1, 0, 1, 1, 1, 1, 1, 1],\n",
       "       [1, 0, 1, 1, 1, 1, 1, 1],\n",
       "       [1, 0, 1, 1, 1, 1, 1, 1],\n",
       "       [1, 0, 1, 1, 1, 1, 1, 1],\n",
       "       [1, 0, 1, 1, 1, 1, 1, 1]], dtype=int32)"
      ]
     },
     "execution_count": 71,
     "metadata": {},
     "output_type": "execute_result"
    }
   ],
   "source": [
    "(C*C).toarray()"
   ]
  },
  {
   "cell_type": "code",
   "execution_count": null,
   "metadata": {},
   "outputs": [],
   "source": []
  }
 ],
 "metadata": {
  "kernelspec": {
   "display_name": "Python 3",
   "language": "python",
   "name": "python3"
  },
  "language_info": {
   "codemirror_mode": {
    "name": "ipython",
    "version": 3
   },
   "file_extension": ".py",
   "mimetype": "text/x-python",
   "name": "python",
   "nbconvert_exporter": "python",
   "pygments_lexer": "ipython3",
   "version": "3.7.3"
  }
 },
 "nbformat": 4,
 "nbformat_minor": 4
}
