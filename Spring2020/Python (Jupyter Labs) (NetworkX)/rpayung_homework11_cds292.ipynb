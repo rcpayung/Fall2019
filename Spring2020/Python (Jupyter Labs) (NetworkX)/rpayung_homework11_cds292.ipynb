{
 "cells": [
  {
   "cell_type": "markdown",
   "metadata": {},
   "source": [
    "**Riley Payung**\n",
    "\n",
    "**CDS 292**\n",
    "\n",
    "**04/30/2020**\n",
    "\n",
    "**Assignment 10**\n",
    "\n",
    "#### Imports"
   ]
  },
  {
   "cell_type": "code",
   "execution_count": 71,
   "metadata": {},
   "outputs": [],
   "source": [
    "import matplotlib.pyplot as plt\n",
    "import networkx as netx\n",
    "import numpy as np"
   ]
  },
  {
   "cell_type": "markdown",
   "metadata": {},
   "source": [
    "#### Question 2"
   ]
  },
  {
   "cell_type": "markdown",
   "metadata": {},
   "source": [
    ".\n",
    "\n",
    ".\n",
    "\n",
    "Paths:\n",
    "\n",
    "    1,2: 1 <-> 2\n",
    "    \n",
    "    1,3: 1 <-> 3\n",
    "    \n",
    "    2,3: 2 <-> 3\n",
    "    \n",
    "b<sub>1</sub>=2 | b<sub>2</sub>=3 | b<sub>3</sub>=2"
   ]
  },
  {
   "cell_type": "markdown",
   "metadata": {},
   "source": [
    ".\n",
    "\n",
    ".\n",
    "\n",
    "Paths:\n",
    "    \n",
    "    1,2: 1 <-> 2\n",
    "    \n",
    "    1,3: 1 <-> 2 <-> 3\n",
    "    \n",
    "    1,4: 1 <-> 2 <-> 4\n",
    "    \n",
    "    2,3: 2 <-> 3\n",
    "    \n",
    "    2,4: 2 <-> 4\n",
    "    \n",
    "    3,4: 3 <-> 2 <-> 4\n",
    "    \n",
    "b<sub>1</sub>=3 | b<sub>2</sub>=6 | b<sub>3</sub>=3 | b<sub>4</sub>=3\n",
    "\n",
    "Everything increases by 1 except for b<sub>2</sub>, which doubles in size."
   ]
  },
  {
   "cell_type": "markdown",
   "metadata": {},
   "source": [
    "#### Question 3"
   ]
  },
  {
   "cell_type": "markdown",
   "metadata": {},
   "source": [
    "b<sub>2</sub> = 5 - 1 + (2 - 1) * (5 - 2) = 4 + 1 * 3 = 4 + 3 = 7"
   ]
  },
  {
   "cell_type": "markdown",
   "metadata": {},
   "source": [
    "#### Question 4"
   ]
  },
  {
   "cell_type": "markdown",
   "metadata": {},
   "source": [
    "b<sub>5</sub> = - 1 + (5 * 10) - 5<sup>2</sup> = -1 + 50 - 25 = -1 + 25 = 24"
   ]
  },
  {
   "cell_type": "markdown",
   "metadata": {},
   "source": [
    "#### Question 5"
   ]
  },
  {
   "cell_type": "markdown",
   "metadata": {},
   "source": [
    "Let us say that the ns are the follwing:"
   ]
  },
  {
   "cell_type": "markdown",
   "metadata": {},
   "source": [
    "n<sub>1</sub> = 4\n",
    "\n",
    "n<sub>2</sub> = 4\n",
    "\n",
    "n<sub>3</sub> = 4\n",
    "\n",
    "n<sub>4</sub> = 4\n",
    "\n",
    "Therefore n = 16 + 1 = 17.\n"
   ]
  },
  {
   "cell_type": "code",
   "execution_count": 53,
   "metadata": {},
   "outputs": [],
   "source": [
    "n = 17;\n",
    "b = [];\n",
    "\n",
    "for i in range(1,n):\n",
    "    b.append(-1 + (i * n) - (i**2))"
   ]
  },
  {
   "cell_type": "code",
   "execution_count": 60,
   "metadata": {},
   "outputs": [
    {
     "name": "stdout",
     "output_type": "stream",
     "text": [
      "[15, 29, 41, 51, 59, 65, 69, 71, 71, 69, 65, 59, 51, 41, 29, 15]\n"
     ]
    }
   ],
   "source": [
    "print(b)"
   ]
  },
  {
   "cell_type": "code",
   "execution_count": 74,
   "metadata": {},
   "outputs": [
    {
     "data": {
      "image/png": "[encoded data removed]",
      "text/plain": [
       "<Figure size 432x288 with 1 Axes>"
      ]
     },
     "metadata": {
      "needs_background": "light"
     },
     "output_type": "display_data"
    }
   ],
   "source": [
    "plt.plot(b, marker='o')\n",
    "plt.show()"
   ]
  },
  {
   "cell_type": "markdown",
   "metadata": {},
   "source": [
    "#### Question 6"
   ]
  },
  {
   "cell_type": "markdown",
   "metadata": {},
   "source": [
    "b<sub>1</sub> = -1 + 5 - 1 = 3\n",
    "\n",
    "b<sub>2</sub> = -1 + 2 * 5 - 4 = -1 + 10 - 4 = 5\n",
    "\n",
    "b<sub>3</sub> = -1 + 3 * 5 - 9 = -1 + 15 - 9 = 5\n",
    "\n",
    "b<sub>4</sub> = -1 + 4 * 5 - 16 = -1 + 20 - 16 = 3\n",
    "\n",
    "b<sub>5</sub> = -1 + 5 * 5 - 25 = -1 + 25 - 25 = -1"
   ]
  },
  {
   "cell_type": "markdown",
   "metadata": {},
   "source": [
    "#### Question 9"
   ]
  },
  {
   "cell_type": "markdown",
   "metadata": {},
   "source": [
    "\n",
    ".\n",
    "\n",
    ".\n",
    "\n",
    "Paths:\n",
    "    \n",
    "    1,2: 1 <-> 2\n",
    "    \n",
    "    1,3: 1 <-> 2 <-> 3, 1 <-> 4 <-> 3\n",
    "    \n",
    "    1,4: 1 <-> 4\n",
    "    \n",
    "    2,3: 2 <-> 3\n",
    "    \n",
    "    2,4: 2 <-> 3 <-> 4, 2 <-> 1 <-> 4\n",
    "    \n",
    "    3,4: 3 <-> 4\n",
    "        \n",
    "b<sub>1</sub>=5 | b<sub>2</sub>=5 | b<sub>3</sub>=5 | b<sub>4</sub>=5"
   ]
  },
  {
   "cell_type": "markdown",
   "metadata": {},
   "source": [
    "#### Question 10"
   ]
  },
  {
   "cell_type": "markdown",
   "metadata": {},
   "source": [
    "b<sub>i</sub> = n + 1"
   ]
  },
  {
   "cell_type": "markdown",
   "metadata": {},
   "source": [
    "#### Question 11"
   ]
  },
  {
   "cell_type": "markdown",
   "metadata": {},
   "source": [
    "Lets assume a star network of n = 5 for the following:\n",
    "    \n",
    ".\n",
    "\n",
    ".\n",
    "\n",
    ".\n",
    "\n",
    "Paths:\n",
    "    1,2: 1 <-> 2\n",
    "    1,3: 1 <-> 2 <-> 3, 1 <-> 4 <-> 3\n",
    "    1,4: 1 <-> 4\n",
    "    2,3: 2 <-> 3\n",
    "    2,4: 2 <-> 3 <-> 4, 2 <-> 1 <-> 4\n",
    "    3,4: 3 <-> 4\n",
    "    \n",
    "b<sub>1</sub>=4 | b<sub>2</sub>=4 | b<sub>3</sub>=4 | b<sub>4</sub>=4 | b<sub><b>5(HUB)</b></sub>=10\n",
    "\n",
    "Considering 5 is our b<sub>hub</sub>, if we do the calculation with the equation:\n",
    "\n",
    "$5 \\choose 2$ $= \\frac{5!}{2!(3!)} = \\frac{120}{12} = 10$\n",
    "\n",
    "We prove that the equation is the model for the hub centrality.\n",
    "\n",
    "which is the same as:\n",
    "\n",
    "$5 - 1 + $$4 \\choose 2$ $= 4 + 6 = 10 <=> 10 =$ $5\\choose 2$"
   ]
  },
  {
   "cell_type": "markdown",
   "metadata": {},
   "source": [
    "#### Question 12"
   ]
  },
  {
   "cell_type": "markdown",
   "metadata": {},
   "source": [
    ".\n",
    "\n",
    ".\n",
    "\n",
    ".\n",
    "\n",
    ".\n",
    "\n",
    ".\n",
    "\n",
    ".\n",
    "\n",
    ".\n",
    "\n",
    "."
   ]
  },
  {
   "cell_type": "markdown",
   "metadata": {},
   "source": [
    "#### Question 14"
   ]
  },
  {
   "cell_type": "code",
   "execution_count": 5,
   "metadata": {},
   "outputs": [],
   "source": [
    "# Load watergate network:\n",
    "WG = netx.Graph();\n",
    "\n",
    "watergateFile = open('watergate-testimony-links.dat','r');\n",
    "for line in watergateFile:\n",
    "    cLine = line.strip();\n",
    "    items = cLine.split();\n",
    "    WG.add_edge(items[0],items[1]);\n",
    "    "
   ]
  },
  {
   "cell_type": "code",
   "execution_count": 16,
   "metadata": {},
   "outputs": [
    {
     "data": {
      "image/png": "[encoded data removed]",
      "text/plain": [
       "<Figure size 432x288 with 1 Axes>"
      ]
     },
     "metadata": {},
     "output_type": "display_data"
    }
   ],
   "source": [
    "netx.draw_networkx(WG)\n",
    "plt.show()"
   ]
  },
  {
   "cell_type": "code",
   "execution_count": 46,
   "metadata": {},
   "outputs": [],
   "source": [
    "def BC1 (G , o ) :\n",
    "    A =[ o ]\n",
    "    V =[]\n",
    "    l =0\n",
    "    p ={}\n",
    "    m ={}\n",
    "    z ={}\n",
    "    p [ o ]=[]\n",
    "    m [ o ]=1\n",
    "    z [ l ]=[ o ]\n",
    "    while len( A ) >0:\n",
    "        # print len(A)\n",
    "        l = l +1\n",
    "        nA =[]\n",
    "        for i in A :\n",
    "            for j in G . neighbors ( i ) :\n",
    "                if ( j not in V ) and ( j not in A ) :\n",
    "                    if j not in nA :\n",
    "                        nA . append ( j )\n",
    "                        z [ l ]= z . get (l ,[])\n",
    "                        z [ l ]. append ( j )\n",
    "                    p [ j ]= p . get (j ,[])\n",
    "                    p [ j ]. append ( i )\n",
    "                    m [ j ]= m . get (j ,0)\n",
    "                    m [ j ]= m [ j ]+ m [ i ]\n",
    "            V . append ( i )\n",
    "        A = nA\n",
    "    lf =l -1\n",
    "    b ={}\n",
    "    for i in G . nodes () :\n",
    "        b [ i ]=0\n",
    "    for l in range ( lf ,0 , -1) :\n",
    "        for i in z [ l ]:\n",
    "            b [ i ]= b [ i ]+ m [ i ]\n",
    "            for j in p [ i ]:\n",
    "                b [ j ]= b [ j ]+ m [ j ]* b [ i ]/ m [ i ]\n",
    "    \n",
    "    return ( b )\n"
   ]
  },
  {
   "cell_type": "code",
   "execution_count": 47,
   "metadata": {},
   "outputs": [],
   "source": [
    "def BC ( G ) :\n",
    "    B ={}\n",
    "    for i in G . nodes () :\n",
    "        B [ i ]=0\n",
    "    for o in G . nodes () :\n",
    "        b = BC1 (G , o )\n",
    "        for i in b . keys () :\n",
    "            B [ i ]= B [ i ]+ b [ i ]\n",
    "    for i in G . nodes () :\n",
    "        B [ i ]= B [ i ]/2\n",
    "    return ( B )"
   ]
  },
  {
   "cell_type": "code",
   "execution_count": 48,
   "metadata": {},
   "outputs": [],
   "source": [
    "G = BC(WG);"
   ]
  },
  {
   "cell_type": "code",
   "execution_count": 51,
   "metadata": {},
   "outputs": [
    {
     "data": {
      "text/plain": [
       "{'Baldwin': 93.0,\n",
       " 'Hunt(H)': 110.0,\n",
       " 'Liddy': 79.0,\n",
       " 'McCord': 117.0,\n",
       " 'Sturgis': 47.0,\n",
       " 'Dean': 208.0,\n",
       " 'Barker': 29.0,\n",
       " 'Ehrlichman': 29.0,\n",
       " 'Gray': 29.0,\n",
       " 'Haldeman': 38.0,\n",
       " 'Kalmbach': 29.0,\n",
       " 'LaRue': 30.0,\n",
       " 'Martinez': 29.0,\n",
       " 'Nixon': 38.0,\n",
       " 'Colson': 35.0,\n",
       " 'Oâ€™Brien': 28.0,\n",
       " 'Parkinson': 35.0,\n",
       " 'Krogh': 39.0,\n",
       " 'Magruder': 110.0,\n",
       " 'Mitchell': 30.0,\n",
       " 'Porter': 28.0,\n",
       " 'Strachan': 28.0,\n",
       " 'Segretti': 1.0,\n",
       " 'Chapin': 1.0}"
      ]
     },
     "execution_count": 51,
     "metadata": {},
     "output_type": "execute_result"
    }
   ],
   "source": [
    "G"
   ]
  },
  {
   "cell_type": "markdown",
   "metadata": {},
   "source": [
    "Dean has the highest centrality, at 208.0"
   ]
  },
  {
   "cell_type": "code",
   "execution_count": null,
   "metadata": {},
   "outputs": [],
   "source": []
  }
 ],
 "metadata": {
  "kernelspec": {
   "display_name": "Python 3",
   "language": "python",
   "name": "python3"
  },
  "language_info": {
   "codemirror_mode": {
    "name": "ipython",
    "version": 3
   },
   "file_extension": ".py",
   "mimetype": "text/x-python",
   "name": "python",
   "nbconvert_exporter": "python",
   "pygments_lexer": "ipython3",
   "version": "3.7.3"
  }
 },
 "nbformat": 4,
 "nbformat_minor": 4
}
