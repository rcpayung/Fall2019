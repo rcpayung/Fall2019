{
 "cells": [
  {
   "cell_type": "markdown",
   "metadata": {},
   "source": [
    "### Riley Payung\n",
    "### CDS 292\n",
    "### 02/26/2020\n",
    "### Homework 4\n",
    "#### imports"
   ]
  },
  {
   "cell_type": "code",
   "execution_count": 1,
   "metadata": {},
   "outputs": [],
   "source": [
    "import networkx as nex\n",
    "import matplotlib.pyplot as plt\n",
    "import cProfile"
   ]
  },
  {
   "cell_type": "markdown",
   "metadata": {},
   "source": [
    "#### Question 4.7\n",
    "\n",
    "**Equation:** $$n \\le \\frac{1+\\sqrt{1+8L}}{2}$$\n",
    "\n",
    "$$n \\le \\frac{1+\\sqrt{1+80}}{2}$$\n",
    "\n",
    "$$n \\le \\frac{10}{2}$$\n",
    "\n",
    "**Answer:** $$n \\le 5$$"
   ]
  },
  {
   "cell_type": "markdown",
   "metadata": {},
   "source": [
    "#### Question 4.8\n",
    "\n",
    "n = 2:\n",
    "\n",
    "|   | 1 | 2 |\n",
    "|---|---|---|\n",
    "| 1 | 0 | 1 |\n",
    "| 2 | 1 | 0 |\n",
    "\n",
    "n = 3:\n",
    "\n",
    "|   | 1 | 2 | 3 |\n",
    "|---|---|---|---|\n",
    "| 1 | 0 | 1 | 0 |\n",
    "| 2 | 1 | 0 | 1 |\n",
    "| 3 | 0 | 1 | 0 |\n",
    "\n",
    "n = 4:\n",
    "\n",
    "|   | 1 | 2 | 3 | 4 |\n",
    "|---|---|---|---|---|\n",
    "| 1 | 0 | 1 | 0 | 1 |\n",
    "| 2 | 1 | 0 | 1 | 0 |\n",
    "| 3 | 0 | 1 | 0 | 1 |\n",
    "| 4 | 1 | 0 | 1 | 0 |\n",
    "\n",
    "```python\n",
    "# THE RULE IS THE FOLLOWING:\n",
    "if (not(i + j % 2 == 0)):\n",
    "    a[i][j] = 1;\n",
    "```\n"
   ]
  },
  {
   "cell_type": "markdown",
   "metadata": {},
   "source": [
    "#### Question 4.9\n",
    "\n",
    ".\n",
    "\n",
    "\n",
    ".\n",
    "\n",
    "\n",
    ".\n",
    "\n",
    "\n",
    ".\n",
    "\n",
    "\n",
    ".\n",
    "\n",
    "\n",
    "."
   ]
  },
  {
   "cell_type": "markdown",
   "metadata": {},
   "source": [
    "#### Question 4.10\n",
    "\n",
    "n = 4\n",
    "\n",
    "|   | 1 | 2 | 3 | 4 |\n",
    "|---|---|---|---|---|\n",
    "| 1 | 0 | 0 | 0 | 1 |\n",
    "| 2 | 0 | 0 | 0 | 1 |\n",
    "| 3 | 0 | 0 | 0 | 0 |\n",
    "| 4 | 1 | 1 | 0 | 0 |\n",
    "\n",
    ".\n",
    "\n",
    ".\n",
    "\n",
    "."
   ]
  },
  {
   "cell_type": "markdown",
   "metadata": {},
   "source": [
    "#### Question 4.11\n",
    "\n",
    "**a<sub>(1,4)</sub>a<sub>(2,4)</sub>a<sub>(3,4)</sub>**"
   ]
  },
  {
   "cell_type": "markdown",
   "metadata": {},
   "source": [
    "#### Question 4.12\n",
    "\n",
    ".\n",
    "\n",
    "\n",
    ".\n",
    "\n",
    "\n",
    ".\n",
    "\n",
    "\n",
    ".\n",
    "\n",
    "This means that there are two isolated nodes."
   ]
  },
  {
   "cell_type": "markdown",
   "metadata": {},
   "source": [
    "#### Question 4.13\n",
    "\n",
    "1.\n",
    "\n",
    "f(1) + f(2) + f(3) + f(4) + f(5) + f(6) + f(7) + f(8) + f(9) + f(10)\n",
    "\n",
    "2.\n",
    "\n",
    "f(2,1) + f(3,1) + f(3,2) + f(4,1) + f(4,2) + f(4,3) + f(5,1) + f(5,2) + f(5,3) + f(5,4) + f(6,1) + f(6,2) + f(6,3) + f(6,4) + f(6,5) + f(7,1) + f(7,2) + f(7,3) + f(7,4) + f(7,5) + f(7,6) + f(8,1) + f(8,2) + f(8,3) + f(8,4) + f(8,5) + f(8,6) + f(8,7) + f(9,1) + f(9,2) + f(9,3) + f(9,4) + f(9,5) + f(9,6) + f(9,7) + f(9,8) + f(10,1) + f(10,2) + f(10,3) + f(10,4) + f(10,5) + f(10,6) + f(10,7) + f(10,8) + f(10,9)\n",
    "\n",
    "3.\n",
    "\n",
    "f(1,2)\\*f(2,3) + f(1,3)\\*f(3,3) + f(1,4)\\*f(4,3) + f(1,5)\\*f(5,3) + f(1,6)\\*f(6,3) + f(1,7)\\*f(7,3) + f(1,8)\\*f(8,3) + f(1,9)\\*f(9,3) + f(2,4)\\*f(4,6) + f(2,5)\\*f(5,6) + f(2,6)\\*f(6,6) + f(2,7)\\*f(7,6) + f(2,8)\\*f(8,6) + f(3,6)\\*f(6,9) + f(3,7)\\*f(7,9) + f(4,8)\\*f(8,12)"
   ]
  },
  {
   "cell_type": "markdown",
   "metadata": {},
   "source": [
    "#### Question 4.14"
   ]
  },
  {
   "cell_type": "code",
   "execution_count": 9,
   "metadata": {},
   "outputs": [],
   "source": [
    "A = [[0,1,0,1],\n",
    "     [1,0,1,1],\n",
    "     [0,1,0,1],\n",
    "     [1,1,1,0]]\n",
    "\n",
    "\n",
    "sum1 = 0;\n",
    "for i in range(0,4):\n",
    "    for j in range(0,4):\n",
    "        if (j > i):\n",
    "            for h in range(0,4):\n",
    "                if (h == j or h == i):\n",
    "                    continue;\n",
    "                else:\n",
    "                    sum = sum + A[i][h] * A[h][j]"
   ]
  },
  {
   "cell_type": "code",
   "execution_count": 10,
   "metadata": {},
   "outputs": [
    {
     "data": {
      "text/plain": [
       "41"
      ]
     },
     "execution_count": 10,
     "metadata": {},
     "output_type": "execute_result"
    }
   ],
   "source": [
    "sum"
   ]
  },
  {
   "cell_type": "code",
   "execution_count": 11,
   "metadata": {},
   "outputs": [],
   "source": [
    "sum2 = 0\n",
    "for i in range(0,4):\n",
    "    for j in range(i,4):\n",
    "        if (j > i):\n",
    "            for h in range(0,4):\n",
    "                if (h > j):\n",
    "                    sum2 = sum2 + A[i][h] * A[h][j] * A[j][i]"
   ]
  },
  {
   "cell_type": "code",
   "execution_count": 44,
   "metadata": {},
   "outputs": [
    {
     "data": {
      "text/plain": [
       "2"
      ]
     },
     "execution_count": 44,
     "metadata": {},
     "output_type": "execute_result"
    }
   ],
   "source": [
    "sum2"
   ]
  },
  {
   "cell_type": "markdown",
   "metadata": {},
   "source": [
    "#### Question 4.15"
   ]
  },
  {
   "cell_type": "code",
   "execution_count": 17,
   "metadata": {},
   "outputs": [],
   "source": [
    "G = nex.Graph()\n",
    "G.add_edge(3,2)\n",
    "G.add_edge(3,4)\n",
    "G.add_edge(2,4)\n",
    "G.add_edge(0,2)\n",
    "G.add_edge(1,2)\n",
    "G.add_edge(1,0)"
   ]
  },
  {
   "cell_type": "code",
   "execution_count": 18,
   "metadata": {},
   "outputs": [],
   "source": [
    "A1 = nex.adjacency_matrix(G)"
   ]
  },
  {
   "cell_type": "code",
   "execution_count": 54,
   "metadata": {},
   "outputs": [
    {
     "name": "stdout",
     "output_type": "stream",
     "text": [
      "i,j,A[i][j]\n",
      "0 0 0\n",
      "0 1 1\n",
      "0 2 0\n",
      "0 3 1\n",
      "1 0 1\n",
      "1 1 0\n",
      "1 2 1\n",
      "1 3 1\n",
      "2 0 0\n",
      "2 1 1\n",
      "2 2 0\n",
      "2 3 1\n",
      "3 0 1\n",
      "3 1 1\n",
      "3 2 1\n",
      "3 3 0\n",
      "sum: 10\n"
     ]
    }
   ],
   "source": [
    "sumA1 = 0;\n",
    "print (\"i,j,A[i][j]\")\n",
    "for i in range(len(G.nodes())-1):\n",
    "    for j in range(len(G.nodes())-1):\n",
    "        sumA1 += A[i][j];\n",
    "        print (i,j,A[i][j]);\n",
    "print (\"sum:\",sumA1)"
   ]
  },
  {
   "cell_type": "markdown",
   "metadata": {},
   "source": [
    "#### Question 4.16"
   ]
  },
  {
   "cell_type": "code",
   "execution_count": 105,
   "metadata": {},
   "outputs": [
    {
     "name": "stdout",
     "output_type": "stream",
     "text": [
      "node: 0 - K= 2\n",
      "node: 1 - K= 2\n",
      "node: 2 - K= 4\n",
      "node: 3 - K= 2\n",
      "node: 4 - K= 2\n"
     ]
    }
   ],
   "source": [
    "d1 = [0,0,0,0,0]\n",
    "\n",
    "for i in range(len(G.nodes())):\n",
    "    for j in range(len(G.nodes())):\n",
    "        if (G.has_edge(i,j)):\n",
    "            d1[i]+= 1\n",
    "for i in range(len(d1)):\n",
    "    print(\"node:\",i,\"-\",\"K=\",d1[i])"
   ]
  },
  {
   "cell_type": "markdown",
   "metadata": {},
   "source": [
    "#### Question 5.1"
   ]
  },
  {
   "cell_type": "markdown",
   "metadata": {},
   "source": [
    "It took me 2:19.48 (2 minutes, 19 seconds, 480 milliseconds) to calculate the degrees for all nodes in the Watergate Network.\n",
    "\n",
    "| Name    | Degree |\n",
    "| :---- | --:-- |\n",
    "| Segretti| 1    |\n",
    "| Chapin  | 1    |\n",
    "| O'brien | 1    |\n",
    "| Krogh |2|\n",
    "| Mitchel | 2|\n",
    "| Porter |1|\n",
    "| Strachan | 1|\n",
    "| Hunt | 8|\n",
    "| Liddy | 6|\n",
    "| Magruder | 8|\n",
    "| Nixon | 2|\n",
    "| Sturgis | 1|\n",
    "| Baldwin | 4|\n",
    "| McCord | 9|\n",
    "| Dean |12|\n",
    "| Haldeman | 2|\n",
    "| Martinez | 1|\n",
    "| LaRue | 2|\n",
    "| Colson | 2|\n",
    "| Kalmbach | 1|\n",
    "| Gray | 1|\n",
    "| Ehrlichman | 1 |\n",
    "| Barker | 1 |"
   ]
  },
  {
   "cell_type": "markdown",
   "metadata": {},
   "source": [
    "#### Question 5.2"
   ]
  },
  {
   "cell_type": "code",
   "execution_count": 117,
   "metadata": {},
   "outputs": [
    {
     "name": "stdout",
     "output_type": "stream",
     "text": [
      "         4 function calls in 0.034 seconds\n",
      "\n",
      "   Ordered by: standard name\n",
      "\n",
      "   ncalls  tottime  percall  cumtime  percall filename:lineno(function)\n",
      "        1    0.034    0.034    0.034    0.034 <ipython-input-117-e122743d6856>:1(EvenOddLoop)\n",
      "        1    0.000    0.000    0.034    0.034 <string>:1(<module>)\n",
      "        1    0.000    0.000    0.034    0.034 {built-in method builtins.exec}\n",
      "        1    0.000    0.000    0.000    0.000 {method 'disable' of '_lsprof.Profiler' objects}\n",
      "\n",
      "\n",
      "         4 function calls in 0.041 seconds\n",
      "\n",
      "   Ordered by: standard name\n",
      "\n",
      "   ncalls  tottime  percall  cumtime  percall filename:lineno(function)\n",
      "        1    0.041    0.041    0.041    0.041 <ipython-input-117-e122743d6856>:1(EvenOddLoop)\n",
      "        1    0.000    0.000    0.041    0.041 <string>:1(<module>)\n",
      "        1    0.000    0.000    0.041    0.041 {built-in method builtins.exec}\n",
      "        1    0.000    0.000    0.000    0.000 {method 'disable' of '_lsprof.Profiler' objects}\n",
      "\n",
      "\n",
      "         4 function calls in 0.043 seconds\n",
      "\n",
      "   Ordered by: standard name\n",
      "\n",
      "   ncalls  tottime  percall  cumtime  percall filename:lineno(function)\n",
      "        1    0.043    0.043    0.043    0.043 <ipython-input-117-e122743d6856>:1(EvenOddLoop)\n",
      "        1    0.000    0.000    0.043    0.043 <string>:1(<module>)\n",
      "        1    0.000    0.000    0.043    0.043 {built-in method builtins.exec}\n",
      "        1    0.000    0.000    0.000    0.000 {method 'disable' of '_lsprof.Profiler' objects}\n",
      "\n",
      "\n",
      "         4 function calls in 0.048 seconds\n",
      "\n",
      "   Ordered by: standard name\n",
      "\n",
      "   ncalls  tottime  percall  cumtime  percall filename:lineno(function)\n",
      "        1    0.048    0.048    0.048    0.048 <ipython-input-117-e122743d6856>:1(EvenOddLoop)\n",
      "        1    0.000    0.000    0.048    0.048 <string>:1(<module>)\n",
      "        1    0.000    0.000    0.048    0.048 {built-in method builtins.exec}\n",
      "        1    0.000    0.000    0.000    0.000 {method 'disable' of '_lsprof.Profiler' objects}\n",
      "\n",
      "\n",
      "         4 function calls in 0.051 seconds\n",
      "\n",
      "   Ordered by: standard name\n",
      "\n",
      "   ncalls  tottime  percall  cumtime  percall filename:lineno(function)\n",
      "        1    0.051    0.051    0.051    0.051 <ipython-input-117-e122743d6856>:1(EvenOddLoop)\n",
      "        1    0.000    0.000    0.051    0.051 <string>:1(<module>)\n",
      "        1    0.000    0.000    0.051    0.051 {built-in method builtins.exec}\n",
      "        1    0.000    0.000    0.000    0.000 {method 'disable' of '_lsprof.Profiler' objects}\n",
      "\n",
      "\n"
     ]
    }
   ],
   "source": [
    "def EvenOddLoop ( n ) :\n",
    "    for i in range ( n ) :\n",
    "        if i %2==0:\n",
    "            a =1\n",
    "        else :\n",
    "            a = -1\n",
    "    return a\n",
    "\n",
    "n600k = cProfile.run('EvenOddLoop(600000)');\n",
    "n700k = cProfile.run('EvenOddLoop(700000)');\n",
    "n800k = cProfile.run('EvenOddLoop(800000)');\n",
    "n900k = cProfile.run('EvenOddLoop(900000)');\n",
    "n1m   = cProfile.run('EvenOddLoop(1000000)');\n"
   ]
  }
 ],
 "metadata": {
  "kernelspec": {
   "display_name": "Python 3",
   "language": "python",
   "name": "python3"
  },
  "language_info": {
   "codemirror_mode": {
    "name": "ipython",
    "version": 3
   },
   "file_extension": ".py",
   "mimetype": "text/x-python",
   "name": "python",
   "nbconvert_exporter": "python",
   "pygments_lexer": "ipython3",
   "version": "3.7.3"
  }
 },
 "nbformat": 4,
 "nbformat_minor": 4
}
