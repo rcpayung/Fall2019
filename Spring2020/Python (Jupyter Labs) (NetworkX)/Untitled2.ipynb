{
 "cells": [
  {
   "cell_type": "markdown",
   "metadata": {},
   "source": [
    "#### Riley Payung\n",
    "#### G01000669\n",
    "#### 05/06/2020"
   ]
  },
  {
   "cell_type": "code",
   "execution_count": 10,
   "metadata": {},
   "outputs": [],
   "source": [
    "import sklearn as sk\n",
    "import numpy as np\n",
    "import nltk"
   ]
  },
  {
   "cell_type": "code",
   "execution_count": 6,
   "metadata": {},
   "outputs": [
    {
     "data": {
      "text/plain": [
       "[1.0,\n",
       " 1.5,\n",
       " 2.0,\n",
       " 2.5,\n",
       " 3.0,\n",
       " 3.5,\n",
       " 4.0,\n",
       " 4.5,\n",
       " 5.0,\n",
       " 5.5,\n",
       " 6.0,\n",
       " 6.5,\n",
       " 7.0,\n",
       " 7.5,\n",
       " 8.0,\n",
       " 8.5,\n",
       " 9.0,\n",
       " 9.5]"
      ]
     },
     "execution_count": 6,
     "metadata": {},
     "output_type": "execute_result"
    }
   ],
   "source": [
    "list(np.arange(1,10,0.5))"
   ]
  },
  {
   "cell_type": "code",
   "execution_count": null,
   "metadata": {},
   "outputs": [],
   "source": []
  }
 ],
 "metadata": {
  "kernelspec": {
   "display_name": "Python 3",
   "language": "python",
   "name": "python3"
  },
  "language_info": {
   "codemirror_mode": {
    "name": "ipython",
    "version": 3
   },
   "file_extension": ".py",
   "mimetype": "text/x-python",
   "name": "python",
   "nbconvert_exporter": "python",
   "pygments_lexer": "ipython3",
   "version": "3.7.3"
  }
 },
 "nbformat": 4,
 "nbformat_minor": 4
}
