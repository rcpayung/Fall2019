{
 "cells": [
  {
   "cell_type": "markdown",
   "metadata": {},
   "source": [
    "#### Riley Payung\n",
    "#### CDS 292\n",
    "#### 04/15/2020\n",
    "#### Homework 8"
   ]
  },
  {
   "cell_type": "markdown",
   "metadata": {},
   "source": [
    "#### Question 1"
   ]
  },
  {
   "cell_type": "markdown",
   "metadata": {},
   "source": [
    "1 -> 2: 1\n",
    "\n",
    "1 -> 3: 2\n",
    "\n",
    "1 -> 4: 3\n",
    "\n",
    "1 -> 5: 4\n",
    "\n",
    "2 -> 1: 1\n",
    "\n",
    "2 -> 3: 1\n",
    "\n",
    "2 -> 4: 2\n",
    "\n",
    "2 -> 5: 3\n",
    "\n",
    "3 -> 1: 2\n",
    "\n",
    "3 -> 2: 1\n",
    "\n",
    "3 -> 4: 1\n",
    "\n",
    "3 -> 5: 2\n",
    "\n",
    "4 -> 1: 3\n",
    "\n",
    "4 -> 2: 2\n",
    "\n",
    "4 -> 3: 1\n",
    "\n",
    "4 -> 5: 1\n",
    "\n",
    "5 -> 1: 4\n",
    "\n",
    "5 -> 2: 3\n",
    "\n",
    "5 -> 3: 2\n",
    "\n",
    "5 -> 4: 1"
   ]
  },
  {
   "cell_type": "markdown",
   "metadata": {},
   "source": [
    "Our histogram would look like this:\n",
    "\n",
    "|||1 2 3 4 5 6 7 8\n",
    "   \n",
    "1: - - - - - - - -\n",
    "\n",
    "2: - - - - - -\n",
    "\n",
    "3: - - - -\n",
    "\n",
    "4: - -\n",
    "\n",
    "5:"
   ]
  },
  {
   "cell_type": "markdown",
   "metadata": {},
   "source": [
    "#### Question 2\n",
    "\n",
    "As the general case, as you add more nodes, you increase all of the previous paths in the network by 1. example, if we were to have 6 nodes, we would have a histogram of the following data:\n",
    "\n",
    "1. 9\n",
    "2. 7\n",
    "3. 5\n",
    "4. 3\n",
    "5. 1\n",
    "6. 0"
   ]
  },
  {
   "cell_type": "markdown",
   "metadata": {},
   "source": [
    "#### Question 6"
   ]
  },
  {
   "cell_type": "markdown",
   "metadata": {},
   "source": [
    ".\n",
    "\n",
    ".\n",
    "\n",
    ".\n",
    "\n",
    ".\n",
    "\n",
    ".\n",
    "\n",
    ".\n",
    "\n",
    ".\n",
    "\n",
    ".\n",
    "\n",
    ".\n",
    "\n",
    ".\n",
    "\n",
    ".\n",
    "\n",
    ".\n",
    "\n",
    "."
   ]
  },
  {
   "cell_type": "markdown",
   "metadata": {},
   "source": [
    "#### Question 8\n",
    "\n",
    "There are multiple, H(s|.) which is the histogram of the shortest paths from all origins to all other nodes, H(s|o) which is the shortest paths of length s from the specified \n",
    "origin to all other nodes; H(s|R=#), a histogram of the shortest paths of length s from a set of randomly chosen origins to all other consistently connected nodes, it is worthy\n",
    "to note that the random origin could be in a cluster and that will be counted. All of these happen to be the types of searchs (1 to 3)."
   ]
  },
  {
   "cell_type": "markdown",
   "metadata": {},
   "source": [
    "#### Question 12\n",
    "\n",
    ".\n",
    "\n",
    ".\n",
    "\n",
    ".\n",
    "\n",
    ".\n",
    "\n",
    ".\n",
    "\n",
    ".\n",
    "\n",
    ".\n",
    "\n",
    ".\n",
    "\n",
    ".\n",
    "\n",
    "#### Question 13\n",
    "\n",
    ".\n",
    "\n",
    ".\n",
    "\n",
    ".\n",
    "\n",
    ".\n",
    "\n",
    ".\n",
    "\n",
    ".\n",
    "\n",
    ".\n",
    "\n",
    ".\n",
    "\n",
    "#### Question 14\n",
    "\n",
    ".\n",
    "\n",
    ".\n",
    "\n",
    ".\n",
    "\n",
    ".\n",
    "\n",
    ".\n",
    "\n",
    ".\n",
    "\n",
    ".\n",
    "\n",
    "#### Question 15\n",
    "\n",
    "Large World of the previous question: 10^3 = 1000, 10^4 = 10000, 10^5 = 100000\n",
    "\n",
    "Small World of the previous question: log(10^3) =  6.9, log(10^4) = 9.2, log(10^5) = 11.51\n",
    "\n",
    "log(log(10^3)) = 1.93, log(log(10^4)) = 2.22, log(log(10^5)) = 2.44\n",
    "\n",
    "."
   ]
  },
  {
   "cell_type": "markdown",
   "metadata": {},
   "source": [
    "#### Question 16\n",
    "\n",
    "The network is a star network. The histogram would have a large number of s=1 paths along with a large number of s=2 paths; however, that is it, there will not\n",
    "be any higher number of shells.\n",
    "\n",
    "#### Question 21"
   ]
  },
  {
   "cell_type": "code",
   "execution_count": 43,
   "metadata": {},
   "outputs": [],
   "source": [
    "import networkx as netx\n",
    "import matplotlib.pyplot as plt"
   ]
  },
  {
   "cell_type": "code",
   "execution_count": 42,
   "metadata": {},
   "outputs": [
    {
     "name": "stdout",
     "output_type": "stream",
     "text": [
      "{0: 99, 1: 98}\n",
      "Sum:  196\n"
     ]
    }
   ],
   "source": [
    "def BFS(G, o, dest=None):\n",
    "    s = {};\n",
    "    ts=0;\n",
    "    w=list(G.nodes());\n",
    "    s[o]=ts;\n",
    "    w.remove(o);\n",
    "    active=[o];\n",
    "    while len(active) > 0:\n",
    "        ts = ts+1\n",
    "        newActive = [];\n",
    "        for node in active:\n",
    "            for neighbor in G.neighbors(node):\n",
    "                if neighbor == dest:\n",
    "                    s[neighbor] = ts\n",
    "                    return (ts);\n",
    "                if neighbor in w:\n",
    "                    newActive.append(neighbor);\n",
    "                    w.remove(neighbor);\n",
    "                    s[neighbor] = ts;\n",
    "            active = newActive;\n",
    "        if (dest!=None):\n",
    "            return -1;\n",
    "        return s;\n",
    "    \n",
    "G = netx.Graph();\n",
    "N = 100;\n",
    "for i in range(1,N):\n",
    "    G.add_node(i);\n",
    "\n",
    "for i in range(1,N):\n",
    "    for j in range(1,N):\n",
    "        if ((i % 2 == 0) and (j == (i + 1)) and (not (G.has_edge(i,j) or G.has_edge(j,i)))):\n",
    "            G.add_edge(i,j);\n",
    "\n",
    "Hsn = {};\n",
    "for node in G.nodes():\n",
    "    SL=BFS(G,node);\n",
    "    for s in SL.values():\n",
    "        Hsn[s]=Hsn.get(s,0)+1;\n",
    "print(Hsn)\n",
    "\n",
    "Hsum = 0;\n",
    "for i in Hsn.keys():\n",
    "    Hsum=Hsum+Hsn[1];\n",
    "print(\"Sum: \",Hsum)"
   ]
  },
  {
   "cell_type": "markdown",
   "metadata": {},
   "source": [
    "It does apply since the n choose 2 for each cluster is size 2, so essentially 2 choose 2, which is 1, then we sum them all up and multiply by the number of shells. which would give us 196."
   ]
  }
 ],
 "metadata": {
  "kernelspec": {
   "display_name": "Python 3",
   "language": "python",
   "name": "python3"
  },
  "language_info": {
   "codemirror_mode": {
    "name": "ipython",
    "version": 3
   },
   "file_extension": ".py",
   "mimetype": "text/x-python",
   "name": "python",
   "nbconvert_exporter": "python",
   "pygments_lexer": "ipython3",
   "version": "3.7.3"
  }
 },
 "nbformat": 4,
 "nbformat_minor": 4
}
