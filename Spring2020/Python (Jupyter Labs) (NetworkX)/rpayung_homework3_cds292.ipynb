{
 "cells": [
  {
   "cell_type": "markdown",
   "metadata": {},
   "source": [
    "#### Riley Payung\n",
    "#### CDS 292\n",
    "#### Assignment 3\n",
    "\n",
    "### Imports"
   ]
  },
  {
   "cell_type": "code",
   "execution_count": 1,
   "metadata": {},
   "outputs": [],
   "source": [
    "import networkx as netx\n",
    "import matplotlib.pyplot as plt\n",
    "import numpy as np"
   ]
  },
  {
   "cell_type": "markdown",
   "metadata": {},
   "source": [
    "#### Question 3.10"
   ]
  },
  {
   "cell_type": "markdown",
   "metadata": {},
   "source": [
    "rho = 0.5. n = 8.\n",
    "\n",
    "0.5 = 2m / 8*7 \n",
    "\n",
    "-> 0.5 = 2m/56 \n",
    "\n",
    "-> 0.5 = m / 28 \n",
    "\n",
    "-> 14 = m\n",
    "\n",
    "The number of links this network has is 14."
   ]
  },
  {
   "cell_type": "markdown",
   "metadata": {},
   "source": [
    "#### Question 3.13"
   ]
  },
  {
   "cell_type": "code",
   "execution_count": 2,
   "metadata": {},
   "outputs": [],
   "source": [
    "W = netx.Graph()\n",
    "n = [\"Sagretti\",\"Chapin\",\"Obrien\",\"Parkinson\",\"Krogh\",\"Mitchell\",\n",
    "     \"Porter\",\"Strachan\",\"Hunt(H)\",\"Liddy\",\"Magruder\",\"Nixon\",\n",
    "     \"Sturgis\",\"Baldwin\",\"McCord\",\"Dean\",\"Haldeman\",\"Martinez\",\n",
    "     \"LaRue\",\"Colson\",\"Kalmbach\",\"Gray\",\"Ehrlichman\",\"Barker\"]\n",
    "for i in n:\n",
    "    W.add_node(i);\n",
    "\n",
    "e = [(\"Sagretti\",\"Chapin\"),(\"Krogh\",\"Hunt(H)\"),(\"Krogh\",\"Liddy\"),(\"McCord\",\"Mitchell\"),(\"Magruder\",\"Mitchell\"),\n",
    "     (\"Magruder\",\"Porter\"),(\"Magruder\",\"Strachan\"),(\"McCord\",\"Parkinson\"),(\"Hunt(H)\",\"Parkinson\"),\n",
    "     (\"Hunt(H)\",\"Liddy\"),(\"Baldwin\",\"Hunt(H)\"),(\"McCord\",\"Hunt(H)\"),(\"Hunt(H)\",\"Dean\"),(\"Dean\",\"Hunt(H)\"),\n",
    "     (\"Baldwin\",\"Liddy\"),(\"McCord\",\"Liddy\"),(\"Dean\",\"Liddy\"),(\"Magruder\",\"Liddy\"),(\"McCord\",\"Magruder\"),\n",
    "     (\"Magruder\",\"Nixon\"),(\"Magruder\",\"Haldeman\"),(\"Magruder\",\"Dean\"),(\"Baldwin\",\"Sturgis\"),(\"Baldwin\",\"McCord\"),\n",
    "     (\"McCord\",\"Dean\"),(\"McCord\",\"LaRue\"),(\"Dean\",\"Nixon\"),(\"Dean\",\"Haldeman\"),(\"Dean\",\"LaRue\"),(\"Dean\",\"Martinez\"),\n",
    "     (\"Dean\",\"Barker\"),(\"Dean\",\"Ehrlichman\"),(\"Dean\",\"Gray\"),(\"Dean\",\"Kalmbach\"),(\"McCord\",\"Colson\"),(\"Hunt(H)\",\"Colson\"),\n",
    "     (\"Gray\",\"Dean\")]\n",
    "for i in e:\n",
    "    W.add_edge(i[0],i[1])"
   ]
  },
  {
   "cell_type": "markdown",
   "metadata": {},
   "source": [
    "#### Question 3.14"
   ]
  },
  {
   "cell_type": "code",
   "execution_count": 3,
   "metadata": {},
   "outputs": [],
   "source": [
    "NumNodes = len(n);\n",
    "NumEdges = len(e);\n",
    "density = (2 * NumEdges) / (NumNodes * (NumNodes - 1))"
   ]
  },
  {
   "cell_type": "code",
   "execution_count": 4,
   "metadata": {},
   "outputs": [
    {
     "name": "stdout",
     "output_type": "stream",
     "text": [
      "24 37 0.13405797101449277\n"
     ]
    }
   ],
   "source": [
    "print (NumNodes,NumEdges,density)"
   ]
  },
  {
   "cell_type": "markdown",
   "metadata": {},
   "source": [
    "#### Question 3.17"
   ]
  },
  {
   "cell_type": "code",
   "execution_count": 5,
   "metadata": {},
   "outputs": [],
   "source": [
    "N = netx.Graph()\n",
    "for i in range(6):\n",
    "    N.add_node(str(i))\n",
    "for i in N.nodes():\n",
    "    for j in N.nodes():\n",
    "        if (i != j):\n",
    "            N.add_edge(i,j);\n",
    "            \n",
    "rho = (2 * len(N.edges())) / (len(N.nodes()) * (len(N.nodes()) - 1))"
   ]
  },
  {
   "cell_type": "code",
   "execution_count": 6,
   "metadata": {},
   "outputs": [
    {
     "name": "stdout",
     "output_type": "stream",
     "text": [
      "['0', '1', '2', '3', '4', '5']\n"
     ]
    }
   ],
   "source": [
    "print(N.nodes())"
   ]
  },
  {
   "cell_type": "code",
   "execution_count": 7,
   "metadata": {},
   "outputs": [
    {
     "name": "stdout",
     "output_type": "stream",
     "text": [
      "[('0', '1'), ('0', '2'), ('0', '3'), ('0', '4'), ('0', '5'), ('1', '2'), ('1', '3'), ('1', '4'), ('1', '5'), ('2', '3'), ('2', '4'), ('2', '5'), ('3', '4'), ('3', '5'), ('4', '5')]\n"
     ]
    }
   ],
   "source": [
    "print(N.edges())"
   ]
  },
  {
   "cell_type": "code",
   "execution_count": 8,
   "metadata": {},
   "outputs": [
    {
     "name": "stdout",
     "output_type": "stream",
     "text": [
      "1.0\n"
     ]
    }
   ],
   "source": [
    "print(rho)"
   ]
  },
  {
   "cell_type": "markdown",
   "metadata": {},
   "source": [
    "#### Question 3.18"
   ]
  },
  {
   "cell_type": "code",
   "execution_count": 9,
   "metadata": {},
   "outputs": [],
   "source": [
    "Net18 = netx.Graph()\n",
    "for i in range(100):\n",
    "    if (i != 99):\n",
    "        Net18.add_edge(i,i+1)\n",
    "    else:\n",
    "        Net18.add_edge(0,i);\n",
    "        \n",
    "Nodes = len(Net18.nodes())\n",
    "Edges = len(Net18.edges())\n",
    "rho = (2 * Edges) / (Nodes * (Nodes - 1))"
   ]
  },
  {
   "cell_type": "code",
   "execution_count": 10,
   "metadata": {},
   "outputs": [
    {
     "name": "stdout",
     "output_type": "stream",
     "text": [
      "[0, 1, 2, 3, 4, 5, 6, 7, 8, 9, 10, 11, 12, 13, 14, 15, 16, 17, 18, 19, 20, 21, 22, 23, 24, 25, 26, 27, 28, 29, 30, 31, 32, 33, 34, 35, 36, 37, 38, 39, 40, 41, 42, 43, 44, 45, 46, 47, 48, 49, 50, 51, 52, 53, 54, 55, 56, 57, 58, 59, 60, 61, 62, 63, 64, 65, 66, 67, 68, 69, 70, 71, 72, 73, 74, 75, 76, 77, 78, 79, 80, 81, 82, 83, 84, 85, 86, 87, 88, 89, 90, 91, 92, 93, 94, 95, 96, 97, 98, 99]\n"
     ]
    }
   ],
   "source": [
    "print(Net18.nodes())"
   ]
  },
  {
   "cell_type": "code",
   "execution_count": 11,
   "metadata": {},
   "outputs": [
    {
     "name": "stdout",
     "output_type": "stream",
     "text": [
      "[(0, 1), (0, 99), (1, 2), (2, 3), (3, 4), (4, 5), (5, 6), (6, 7), (7, 8), (8, 9), (9, 10), (10, 11), (11, 12), (12, 13), (13, 14), (14, 15), (15, 16), (16, 17), (17, 18), (18, 19), (19, 20), (20, 21), (21, 22), (22, 23), (23, 24), (24, 25), (25, 26), (26, 27), (27, 28), (28, 29), (29, 30), (30, 31), (31, 32), (32, 33), (33, 34), (34, 35), (35, 36), (36, 37), (37, 38), (38, 39), (39, 40), (40, 41), (41, 42), (42, 43), (43, 44), (44, 45), (45, 46), (46, 47), (47, 48), (48, 49), (49, 50), (50, 51), (51, 52), (52, 53), (53, 54), (54, 55), (55, 56), (56, 57), (57, 58), (58, 59), (59, 60), (60, 61), (61, 62), (62, 63), (63, 64), (64, 65), (65, 66), (66, 67), (67, 68), (68, 69), (69, 70), (70, 71), (71, 72), (72, 73), (73, 74), (74, 75), (75, 76), (76, 77), (77, 78), (78, 79), (79, 80), (80, 81), (81, 82), (82, 83), (83, 84), (84, 85), (85, 86), (86, 87), (87, 88), (88, 89), (89, 90), (90, 91), (91, 92), (92, 93), (93, 94), (94, 95), (95, 96), (96, 97), (97, 98), (98, 99)]\n"
     ]
    }
   ],
   "source": [
    "print(Net18.edges())"
   ]
  },
  {
   "cell_type": "code",
   "execution_count": 12,
   "metadata": {},
   "outputs": [
    {
     "name": "stdout",
     "output_type": "stream",
     "text": [
      "0.020202020202020204\n"
     ]
    }
   ],
   "source": [
    "print(rho)"
   ]
  },
  {
   "cell_type": "markdown",
   "metadata": {},
   "source": [
    "#### Question 3.20"
   ]
  },
  {
   "cell_type": "code",
   "execution_count": 13,
   "metadata": {},
   "outputs": [],
   "source": [
    "densityN = [50,100,150,200,250,300]\n",
    "\n",
    "def densityRing(n):\n",
    "    return (2 * n) / (n * (n-1));\n",
    "\n",
    "densities = [];\n",
    "for i in densityN:\n",
    "    densities.append(densityRing(i))"
   ]
  },
  {
   "cell_type": "code",
   "execution_count": 14,
   "metadata": {},
   "outputs": [
    {
     "data": {
      "image/png": "[encoded data removed]",
      "text/plain": [
       "<Figure size 432x288 with 1 Axes>"
      ]
     },
     "metadata": {
      "needs_background": "light"
     },
     "output_type": "display_data"
    }
   ],
   "source": [
    "plt.plot(densities)\n",
    "plt.title(\"Density of Ring Networks based on Number of Nodes\");\n",
    "plt.xlabel(\"Number of Nodes\");\n",
    "plt.ylabel(\"Density\")\n",
    "plt.xticks(np.arange(0,6,1),densityN[:])\n",
    "plt.show()"
   ]
  },
  {
   "cell_type": "markdown",
   "metadata": {},
   "source": [
    "#### Question 4.1"
   ]
  },
  {
   "cell_type": "markdown",
   "metadata": {},
   "source": [
    "Are the following networks valid based on each node's degree?\n",
    "\n",
    "A) Yes\n",
    "\n",
    "B) No, since k_2 = 3.\n",
    "\n",
    "C) Yes, Each node has 1 connection, following a Z-pattern.\n",
    "\n",
    "D) Yes, Nodes 1 and 3 are isolated.\n",
    "\n",
    "E) Technically yes, but all nodes are isolated.\n",
    "\n",
    "F) No, since K_2 = 4.\n",
    "\n",
    "G) Yes, since this is a complete network."
   ]
  },
  {
   "cell_type": "markdown",
   "metadata": {},
   "source": [
    "#### Question 4.2"
   ]
  },
  {
   "cell_type": "markdown",
   "metadata": {},
   "source": [
    "\n",
    ".\n",
    "\n",
    "\n",
    ".\n",
    "\n",
    "\n",
    ".\n",
    "\n",
    "\n",
    ".\n",
    "\n",
    "\n",
    ".\n",
    "\n",
    "\n",
    ".\n",
    "\n",
    "\n",
    "."
   ]
  },
  {
   "cell_type": "markdown",
   "metadata": {},
   "source": [
    "#### Question 4.3"
   ]
  },
  {
   "cell_type": "markdown",
   "metadata": {},
   "source": [
    ".\n",
    "\n",
    "\n",
    ".\n",
    "\n",
    "\n",
    ".\n",
    "\n",
    "\n",
    ".\n",
    "\n",
    "\n",
    ".\n",
    "\n",
    "\n",
    ".\n",
    "\n",
    "\n",
    "."
   ]
  },
  {
   "cell_type": "markdown",
   "metadata": {},
   "source": [
    "#### Question 4.4"
   ]
  },
  {
   "cell_type": "markdown",
   "metadata": {},
   "source": [
    "The degree can be determined by summing the elements in the row i of the adjacency matrix. SUM(a_ij). We can also do SUM(a_ji) which uses the columns instead of the rows, in which we use the symmetry property of the adjacency matrix."
   ]
  },
  {
   "cell_type": "markdown",
   "metadata": {},
   "source": [
    "#### Question 4.5"
   ]
  },
  {
   "cell_type": "markdown",
   "metadata": {},
   "source": [
    "* You can write the adjacency matrix with all zeroes\n",
    "* you can write a degree network: k_1 = 0, k_2 = 0, ..., k_n-1 = 0, k_n = 0.\n",
    "* you can write a link list file with just one column. (this is not a good way to do it, since the minimal list is of two columns, but it can be done)"
   ]
  },
  {
   "cell_type": "markdown",
   "metadata": {},
   "source": [
    "#### Question 4.6"
   ]
  },
  {
   "cell_type": "markdown",
   "metadata": {},
   "source": [
    "A 3x3 Adjacency matrix since we only have 10 numbers, and the sqrt(10) is not whole (it is in fact just above 3). We are left with a remainder of 1, therefore we need to drop it."
   ]
  }
 ],
 "metadata": {
  "kernelspec": {
   "display_name": "Python 3",
   "language": "python",
   "name": "python3"
  },
  "language_info": {
   "codemirror_mode": {
    "name": "ipython",
    "version": 3
   },
   "file_extension": ".py",
   "mimetype": "text/x-python",
   "name": "python",
   "nbconvert_exporter": "python",
   "pygments_lexer": "ipython3",
   "version": "3.7.3"
  }
 },
 "nbformat": 4,
 "nbformat_minor": 4
}
