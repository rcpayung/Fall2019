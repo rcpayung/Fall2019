{
 "cells": [
  {
   "cell_type": "markdown",
   "metadata": {},
   "source": [
    "#### Riley Payung\n",
    "#### CDS 292\n",
    "#### Assignment 1\n",
    "\n",
    "### Imports"
   ]
  },
  {
   "cell_type": "code",
   "execution_count": 4,
   "metadata": {},
   "outputs": [],
   "source": [
    "import math"
   ]
  },
  {
   "cell_type": "markdown",
   "metadata": {},
   "source": [
    "### Question 1"
   ]
  },
  {
   "cell_type": "code",
   "execution_count": 5,
   "metadata": {},
   "outputs": [
    {
     "name": "stdin",
     "output_type": "stream",
     "text": [
      " 55\n"
     ]
    },
    {
     "name": "stdout",
     "output_type": "stream",
     "text": [
      "ONE: 55\n",
      "ONE_SQ: 3025\n",
      "ONE_PLUS: 4618\n",
      "ONE_FLOAT: 4618.0\n"
     ]
    }
   ],
   "source": [
    "one = int(input())\n",
    "print(\"ONE:\",one);\n",
    "one_sq = one ** 2;\n",
    "print(\"ONE_SQ:\",one_sq);\n",
    "one_plus = one + (27 * 13 ** 2);\n",
    "print(\"ONE_PLUS:\",one_plus);\n",
    "one_float = float(one_plus)\n",
    "print(\"ONE_FLOAT:\",one_float);"
   ]
  },
  {
   "cell_type": "markdown",
   "metadata": {},
   "source": [
    "### Question 2"
   ]
  },
  {
   "cell_type": "code",
   "execution_count": 11,
   "metadata": {},
   "outputs": [
    {
     "name": "stdin",
     "output_type": "stream",
     "text": [
      " 25.2202\n"
     ]
    },
    {
     "name": "stdout",
     "output_type": "stream",
     "text": [
      "TWO: 25.2202\n",
      "TWO_SQ: 636.0584880399999\n",
      "TWO_PLUS: 4588.2202\n",
      "TWO_FLOOR: 4588.0\n"
     ]
    }
   ],
   "source": [
    "two = float(input())\n",
    "print(\"TWO:\",two);\n",
    "two_sq = two ** 2;\n",
    "print(\"TWO_SQ:\",two_sq);\n",
    "two_plus = two + (27 * 13 ** 2);\n",
    "print(\"TWO_PLUS:\",two_plus);\n",
    "two_floor = float(math.floor(two_plus));\n",
    "print(\"TWO_FLOOR:\",two_floor);"
   ]
  },
  {
   "cell_type": "markdown",
   "metadata": {},
   "source": [
    "### Question 3"
   ]
  },
  {
   "cell_type": "code",
   "execution_count": 14,
   "metadata": {},
   "outputs": [
    {
     "name": "stdout",
     "output_type": "stream",
     "text": [
      "THREE: ['Riley', 'John', 'Andy', 'Katelyn', 'Pierce', 'Logan']\n",
      "THREE_IN_ORDER: ['Andy', 'John', 'Katelyn', 'Logan', 'Pierce', 'Riley']\n"
     ]
    }
   ],
   "source": [
    "three = [\"Riley\",\"John\",\"Andy\",\"Katelyn\",\"Pierce\",\"Logan\"];\n",
    "print(\"THREE:\",three);\n",
    "three_in_order = three;\n",
    "three_in_order.sort();\n",
    "print(\"THREE_IN_ORDER:\",three_in_order);"
   ]
  },
  {
   "cell_type": "markdown",
   "metadata": {},
   "source": [
    "### Question 4"
   ]
  },
  {
   "cell_type": "code",
   "execution_count": 52,
   "metadata": {},
   "outputs": [
    {
     "name": "stdout",
     "output_type": "stream",
     "text": [
      "FOUR (EXCLUSIVE of 20): [125, 216, 343, 512, 729, 1000, 1331, 1728, 2197, 2744, 3375, 4096, 4913, 5832, 6859]\n",
      "FOUR (INCLUSIVE of 5 and 20): [125, 216, 343, 512, 729, 1000, 1331, 1728, 2197, 2744, 3375, 4096, 4913, 5832, 6859, 8000]\n"
     ]
    }
   ],
   "source": [
    "four = [];\n",
    "four_in = [];\n",
    "for i in range(5,20):\n",
    "    four.append(i ** 3);\n",
    "for i in range(5,21):\n",
    "    four_in.append(i ** 3);\n",
    "print(\"FOUR (EXCLUSIVE of 20):\",four);\n",
    "print(\"FOUR (INCLUSIVE of 5 and 20):\",four_in);"
   ]
  },
  {
   "cell_type": "markdown",
   "metadata": {},
   "source": [
    "### Question 5"
   ]
  },
  {
   "cell_type": "code",
   "execution_count": 58,
   "metadata": {},
   "outputs": [
    {
     "name": "stdout",
     "output_type": "stream",
     "text": [
      "FIVE: [3.0, 1.0, 0.5555555555555556, 0.375, 0.28, 0.2222222222222222, 0.1836734693877551, 0.15625, 0.13580246913580246, 0.12, 0.10743801652892562, 0.09722222222222222, 0.08875739644970414, 0.08163265306122448, 0.07555555555555556, 0.0703125, 0.0657439446366782, 0.06172839506172839, 0.05817174515235457, 0.055, 0.05215419501133787, 0.049586776859504134, 0.04725897920604915, 0.04513888888888889, 0.0432, 0.04142011834319527, 0.039780521262002745, 0.03826530612244898, 0.036860879904875146, 0.035555555555555556, 0.03433922996878252, 0.033203125, 0.03213957759412305, 0.031141868512110725, 0.030204081632653063, 0.029320987654320986, 0.028487947406866325, 0.027700831024930747, 0.02695595003287311, 0.02625, 0.02558001189767995, 0.024943310657596373, 0.024337479718766902, 0.023760330578512397, 0.023209876543209877, 0.022684310018903593, 0.022181982797645994, 0.021701388888888888, 0.0212411495210329, 0.0208]\n"
     ]
    }
   ],
   "source": [
    "def fx(x):\n",
    "    return ((x+2) / (x ** 2));\n",
    "five = [];\n",
    "for i in range(1,51):\n",
    "    five.append(fx(i));\n",
    "print(\"FIVE:\",five)"
   ]
  },
  {
   "cell_type": "markdown",
   "metadata": {},
   "source": [
    "### Question 6"
   ]
  },
  {
   "cell_type": "code",
   "execution_count": 56,
   "metadata": {},
   "outputs": [
    {
     "name": "stdout",
     "output_type": "stream",
     "text": [
      "SIX: [6765, 10946, 17711, 28657, 46368, 75025, 121393, 196418, 317811, 514229]\n",
      "FIB_LIST: [133.08268106707197, 169.28378540191025]\n",
      "FIB_SUM: 302.36646646898225\n"
     ]
    }
   ],
   "source": [
    "fib = [0,1];\n",
    "for i in range(2,31):\n",
    "    fib.append(fib[i-2] + fib[i-1]);\n",
    "six = fib[20:30]\n",
    "print(\"SIX:\",six)\n",
    "fib_list = fib[22:24];\n",
    "for i in range(len(fib_list)):\n",
    "    fib_list[i] = (fib_list[i] ** 0.5);\n",
    "print(\"FIB_LIST:\",fib_list)\n",
    "fib_sum = sum(fib_list);\n",
    "print(\"FIB_SUM:\",fib_sum);"
   ]
  }
 ],
 "metadata": {
  "kernelspec": {
   "display_name": "Python 3",
   "language": "python",
   "name": "python3"
  },
  "language_info": {
   "codemirror_mode": {
    "name": "ipython",
    "version": 3
   },
   "file_extension": ".py",
   "mimetype": "text/x-python",
   "name": "python",
   "nbconvert_exporter": "python",
   "pygments_lexer": "ipython3",
   "version": "3.7.3"
  }
 },
 "nbformat": 4,
 "nbformat_minor": 4
}
